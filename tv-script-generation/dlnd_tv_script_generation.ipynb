{
 "cells": [
  {
   "cell_type": "markdown",
   "metadata": {
    "deletable": true,
    "editable": true
   },
   "source": [
    "# TV Script Generation\n",
    "In this project, you'll generate your own [Simpsons](https://en.wikipedia.org/wiki/The_Simpsons) TV scripts using RNNs.  You'll be using part of the [Simpsons dataset](https://www.kaggle.com/wcukierski/the-simpsons-by-the-data) of scripts from 27 seasons.  The Neural Network you'll build will generate a new TV script for a scene at [Moe's Tavern](https://simpsonswiki.com/wiki/Moe's_Tavern).\n",
    "## Get the Data\n",
    "The data is already provided for you.  You'll be using a subset of the original dataset.  It consists of only the scenes in Moe's Tavern.  This doesn't include other versions of the tavern, like \"Moe's Cavern\", \"Flaming Moe's\", \"Uncle Moe's Family Feed-Bag\", etc.."
   ]
  },
  {
   "cell_type": "code",
   "execution_count": 33,
   "metadata": {
    "collapsed": false,
    "deletable": true,
    "editable": true
   },
   "outputs": [],
   "source": [
    "\"\"\"\n",
    "DON'T MODIFY ANYTHING IN THIS CELL\n",
    "\"\"\"\n",
    "import helper\n",
    "\n",
    "data_dir = './data/simpsons/moes_tavern_lines.txt'\n",
    "text = helper.load_data(data_dir)\n",
    "# Ignore notice, since we don't use it for analysing the data\n",
    "text = text[81:]"
   ]
  },
  {
   "cell_type": "markdown",
   "metadata": {
    "deletable": true,
    "editable": true
   },
   "source": [
    "## Explore the Data\n",
    "Play around with `view_sentence_range` to view different parts of the data."
   ]
  },
  {
   "cell_type": "code",
   "execution_count": 34,
   "metadata": {
    "collapsed": false,
    "deletable": true,
    "editable": true
   },
   "outputs": [
    {
     "name": "stdout",
     "output_type": "stream",
     "text": [
      "Dataset Stats\n",
      "Roughly the number of unique words: 11492\n",
      "Number of scenes: 262\n",
      "Average number of sentences in each scene: 15.248091603053435\n",
      "Number of lines: 4257\n",
      "Average number of words in each line: 11.50434578341555\n",
      "\n",
      "The sentences 0 to 10:\n",
      "Moe_Szyslak: (INTO PHONE) Moe's Tavern. Where the elite meet to drink.\n",
      "Bart_Simpson: Eh, yeah, hello, is Mike there? Last name, Rotch.\n",
      "Moe_Szyslak: (INTO PHONE) Hold on, I'll check. (TO BARFLIES) Mike Rotch. Mike Rotch. Hey, has anybody seen Mike Rotch, lately?\n",
      "Moe_Szyslak: (INTO PHONE) Listen you little puke. One of these days I'm gonna catch you, and I'm gonna carve my name on your back with an ice pick.\n",
      "Moe_Szyslak: What's the matter Homer? You're not your normal effervescent self.\n",
      "Homer_Simpson: I got my problems, Moe. Give me another one.\n",
      "Moe_Szyslak: Homer, hey, you should not drink to forget your problems.\n",
      "Barney_Gumble: Yeah, you should only drink to enhance your social skills.\n",
      "\n",
      "\n"
     ]
    }
   ],
   "source": [
    "view_sentence_range = (0, 10)\n",
    "\n",
    "\"\"\"\n",
    "DON'T MODIFY ANYTHING IN THIS CELL\n",
    "\"\"\"\n",
    "import numpy as np\n",
    "\n",
    "print('Dataset Stats')\n",
    "print('Roughly the number of unique words: {}'.format(len({word: None for word in text.split()})))\n",
    "scenes = text.split('\\n\\n')\n",
    "print('Number of scenes: {}'.format(len(scenes)))\n",
    "sentence_count_scene = [scene.count('\\n') for scene in scenes]\n",
    "print('Average number of sentences in each scene: {}'.format(np.average(sentence_count_scene)))\n",
    "\n",
    "sentences = [sentence for scene in scenes for sentence in scene.split('\\n')]\n",
    "print('Number of lines: {}'.format(len(sentences)))\n",
    "word_count_sentence = [len(sentence.split()) for sentence in sentences]\n",
    "print('Average number of words in each line: {}'.format(np.average(word_count_sentence)))\n",
    "\n",
    "print()\n",
    "print('The sentences {} to {}:'.format(*view_sentence_range))\n",
    "print('\\n'.join(text.split('\\n')[view_sentence_range[0]:view_sentence_range[1]]))"
   ]
  },
  {
   "cell_type": "markdown",
   "metadata": {
    "deletable": true,
    "editable": true
   },
   "source": [
    "## Implement Preprocessing Functions\n",
    "The first thing to do to any dataset is preprocessing.  Implement the following preprocessing functions below:\n",
    "- Lookup Table\n",
    "- Tokenize Punctuation\n",
    "\n",
    "### Lookup Table\n",
    "To create a word embedding, you first need to transform the words to ids.  In this function, create two dictionaries:\n",
    "- Dictionary to go from the words to an id, we'll call `vocab_to_int`\n",
    "- Dictionary to go from the id to word, we'll call `int_to_vocab`\n",
    "\n",
    "Return these dictionaries in the following tuple `(vocab_to_int, int_to_vocab)`"
   ]
  },
  {
   "cell_type": "code",
   "execution_count": 35,
   "metadata": {
    "collapsed": false,
    "deletable": true,
    "editable": true
   },
   "outputs": [
    {
     "name": "stdout",
     "output_type": "stream",
     "text": [
      "\n",
      " {0: 'these', 1: 'forget', 2: 'check', 3: 'got', 4: 'me', 5: 'eh', 6: 'to', 7: 'listen', 8: 'little', 9: 'anybody', 10: 'yeah', 11: 'has', 12: 'the', 13: 'only', 14: 'there', 15: \"moe's\", 16: 'not', 17: 'one', 18: 'days', 19: 'social', 20: 'enhance', 21: 'ice', 22: 'my', 23: 'moe', 24: 'bart_simpson', 25: 'of', 26: 'i', 27: 'on', 28: 'your', 29: 'matter', 30: 'another', 31: 'mike', 32: 'hold', 33: \"i'm\", 34: 'seen', 35: 'barney_gumble', 36: 'give', 37: 'tavern', 38: 'whats', 39: 'homer', 40: 'catch', 41: 'elite', 42: 'you', 43: 'normal', 44: 'last', 45: 'and', 46: \"i'll\", 47: 'carve', 48: 'back', 49: 'an', 50: 'drink', 51: 'is', 52: 'where', 53: 'effervescent', 54: 'should', 55: 'skills', 56: 'name', 57: 'lately', 58: 'problems', 59: 'pick', 60: 'hello', 61: 'rotch', 62: 'hey', 63: 'gonna', 64: 'with', 65: \"you're\", 66: 'homer_simpson', 67: 'meet', 68: 'puke', 69: 'self', 70: 'moe_szyslak'}\n",
      "Tests Passed\n"
     ]
    }
   ],
   "source": [
    "import numpy as np\n",
    "import problem_unittests as tests\n",
    "\n",
    "def create_lookup_tables(text):\n",
    "    \"\"\"\n",
    "    Create lookup tables for vocabulary\n",
    "    :param text: The text of tv scripts split into words\n",
    "    :return: A tuple of dicts (vocab_to_int, int_to_vocab)\n",
    "    \"\"\"\n",
    "    # TODO: Implement Function\n",
    "    vocab = set(text)\n",
    "    #print(vocab)\n",
    "    vocab_to_int={c: i for i, c in enumerate(vocab)}\n",
    "    int_to_vocab=dict(enumerate(vocab))\n",
    "    print(\"\\n\", int_to_vocab)\n",
    "    return vocab_to_int, int_to_vocab\n",
    "\n",
    "\n",
    "\"\"\"\n",
    "DON'T MODIFY ANYTHING IN THIS CELL THAT IS BELOW THIS LINE\n",
    "\"\"\"\n",
    "tests.test_create_lookup_tables(create_lookup_tables)"
   ]
  },
  {
   "cell_type": "markdown",
   "metadata": {
    "deletable": true,
    "editable": true
   },
   "source": [
    "### Tokenize Punctuation\n",
    "We'll be splitting the script into a word array using spaces as delimiters.  However, punctuations like periods and exclamation marks make it hard for the neural network to distinguish between the word \"bye\" and \"bye!\".\n",
    "\n",
    "Implement the function `token_lookup` to return a dict that will be used to tokenize symbols like \"!\" into \"||Exclamation_Mark||\".  Create a dictionary for the following symbols where the symbol is the key and value is the token:\n",
    "- Period ( . )\n",
    "- Comma ( , )\n",
    "- Quotation Mark ( \" )\n",
    "- Semicolon ( ; )\n",
    "- Exclamation mark ( ! )\n",
    "- Question mark ( ? )\n",
    "- Left Parentheses ( ( )\n",
    "- Right Parentheses ( ) )\n",
    "- Dash ( -- )\n",
    "- Return ( \\n )\n",
    "\n",
    "This dictionary will be used to token the symbols and add the delimiter (space) around it.  This separates the symbols as it's own word, making it easier for the neural network to predict on the next word. Make sure you don't use a token that could be confused as a word. Instead of using the token \"dash\", try using something like \"||dash||\"."
   ]
  },
  {
   "cell_type": "code",
   "execution_count": 36,
   "metadata": {
    "collapsed": false,
    "deletable": true,
    "editable": true
   },
   "outputs": [
    {
     "name": "stdout",
     "output_type": "stream",
     "text": [
      "Tests Passed\n"
     ]
    }
   ],
   "source": [
    "def token_lookup():\n",
    "    \"\"\"\n",
    "    Generate a dict to turn punctuation into a token.\n",
    "    :return: Tokenize dictionary where the key is the punctuation and the value is the token\n",
    "    \"\"\"\n",
    "    # TODO: Implement Function\n",
    "    punctuation={\".\":\"||Period||\", \",\":\"||Comma||\", \\\n",
    "                 \"\\\"\":\"Quotation_Mark\",\\\n",
    "                 \";\":\"||Semicolon||\",\\\n",
    "                 \"!\":\"||Exclamation_Mark||\",\\\n",
    "                 \"?\":\"||Question_Mark||\",\\\n",
    "                 \"(\":\"||Left_Parentheses||\",\\\n",
    "                 \")\":\"||Right_Parentheses||\",\\\n",
    "                 \"--\":\"||Dash||\",\\\n",
    "                 \"\\n\":\"||Return||\"\\\n",
    "                }\n",
    "    return punctuation\n",
    "\n",
    "\"\"\"\n",
    "DON'T MODIFY ANYTHING IN THIS CELL THAT IS BELOW THIS LINE\n",
    "\"\"\"\n",
    "tests.test_tokenize(token_lookup)"
   ]
  },
  {
   "cell_type": "markdown",
   "metadata": {
    "deletable": true,
    "editable": true
   },
   "source": [
    "## Preprocess all the data and save it\n",
    "Running the code cell below will preprocess all the data and save it to file."
   ]
  },
  {
   "cell_type": "code",
   "execution_count": 341,
   "metadata": {
    "collapsed": false,
    "deletable": true,
    "editable": true
   },
   "outputs": [
    {
     "name": "stdout",
     "output_type": "stream",
     "text": [
      "\n",
      " {0: 'smell', 1: 'type', 2: 'pass', 3: 'eddie', 4: 'naval', 5: 'decadent', 6: 'past', 7: 'frontrunner', 8: 'solved', 9: \"stinkin'\", 10: 'funniest', 11: 'chain', 12: 'go', 13: 'nuked', 14: 'purse', 15: 'renee:', 16: 'clench', 17: 'pickle', 18: 'bump', 19: 'dexterous', 20: 'narrator:', 21: 'makes', 22: 'regretted', 23: 'taylor', 24: 'electronic', 25: 'blame', 26: 'five', 27: 'babies', 28: 'inches', 29: 'uglier', 30: 'watch', 31: 'elect', 32: 'tomorrow', 33: 'reality', 34: 'sound', 35: 'we-we-we', 36: \"where'd\", 37: 'wishes', 38: 'delicious', 39: 'sacajawea', 40: 'windshield', 41: 'penny', 42: 'unintelligent', 43: 'horrible', 44: 'won', 45: 'exchanged', 46: 'but', 47: 'love-matic', 48: 'terror', 49: 'knives', 50: 'this:', 51: 'ivory', 52: 'awful', 53: 'rivalry', 54: 'politician', 55: 'noble', 56: 'ripcord', 57: 'fayed', 58: 'kemi', 59: 'smurfs', 60: 'fruit', 61: 'warn', 62: 'impress', 63: 'sleeps', 64: 'boozebag', 65: 'tanking', 66: 'dory', 67: 'forever', 68: 'hangout', 69: 'like', 70: 'stirrers', 71: 'pas', 72: 'reserve', 73: 'tommy', 74: \"o'reilly\", 75: 'ivana', 76: 'manchego', 77: 'wobble', 78: 'went', 79: 'jackson', 80: 'nuclear', 81: 'edelbrock', 82: 'gol-dangit', 83: 'lizard', 84: 'homer_simpson:', 85: 'squabbled', 86: 'freshened', 87: 'treat', 88: 'italian', 89: 'businessman_#2:', 90: 'stalin', 91: 'eyes', 92: 'fishing', 93: 'caper', 94: 'dee-fense', 95: \"homer's\", 96: 'rolling', 97: 'sympathizer', 98: 'considers', 99: 'should', 100: 'bites', 101: 'pee', 102: 'finest', 103: 'turned', 104: 'soaked', 105: 'leno', 106: 'ladies', 107: 'sucker', 108: 'upgrade', 109: 'uh-oh', 110: 'inspire', 111: 'full', 112: 'verticality', 113: 'going', 114: 'attracted', 115: 'seamstress', 116: 'cut', 117: 'prep', 118: 'billiard', 119: 'worked', 120: \"money's\", 121: 'encores', 122: 'friend', 123: 'started', 124: 'thing', 125: 'teenage_bart:', 126: 'quadruple-sec', 127: 'ball', 128: 'allowed', 129: 'farewell', 130: 'naively', 131: 'decency', 132: 'older', 133: 'mean', 134: 'mafia', 135: 'tie', 136: 'wheeeee', 137: 'products', 138: 'closed', 139: 'admiration', 140: 'something:', 141: 'religion', 142: 'world', 143: 'stripes', 144: 'supports', 145: 'moment', 146: 'enjoyed', 147: 'customers', 148: 'swooning', 149: 'sweater', 150: 'drawing', 151: 'suspicious', 152: 'pad', 153: 'beeps', 154: 'male_singers:', 155: 'plastic', 156: 'pews', 157: \"snappin'\", 158: 'exclusive:', 159: 'enjoy', 160: 'spouses', 161: 'loves', 162: 'founded', 163: 'violations', 164: 'sixteen', 165: 'lofty', 166: 'wise', 167: 'veux', 168: 'competing', 169: 'thirty-three', 170: 'throw', 171: 'alien', 172: 'buffalo', 173: \"comin'\", 174: 'options', 175: \"startin'\", 176: 'devils:', 177: 'einstein', 178: 'crony', 179: 'manatee', 180: 'glum', 181: 'gumbo', 182: 'sees', 183: 'prints', 184: 'chosen', 185: 'doreen:', 186: 'freaking', 187: 'dazed', 188: 'dear', 189: 'plywood', 190: 'miss_lois_pennycandy:', 191: 'attitude', 192: 'predictable', 193: 'richard:', 194: 'effigy', 195: \"neighbor's\", 196: \"jimbo's_dad:\", 197: 'up', 198: 'rug', 199: 'lease', 200: 'winnings', 201: \"it's\", 202: 'arrived', 203: 'self', 204: 'repay', 205: 'peter_buck:', 206: 'beaumarchais', 207: 'way:', 208: 'wagering', 209: 'turkey', 210: \"puttin'\", 211: 'alls', 212: 'supermodel', 213: 'official', 214: 'selma', 215: 'smells', 216: 'wolveriskey', 217: \"children's\", 218: 'droning', 219: 'fact', 220: 'am', 221: 'princess', 222: 'pilsner-pusher', 223: 'adrift', 224: 'mathis', 225: 'mob', 226: 'derek', 227: \"wallet's\", 228: 'mini-beret', 229: 'okay', 230: 'feelings', 231: 'bon-bons', 232: 'actors', 233: 'milhouse_van_houten:', 234: \"nixon's\", 235: 'ventriloquism', 236: 'calmly', 237: 'said', 238: 'thomas', 239: 'snorts', 240: 'bubbles-in-my-nose-y', 241: 'speak', 242: 'macgregor', 243: 'tank', 244: 'o', 245: 'clams', 246: 'offended', 247: 'erasers', 248: 'guy', 249: 'mechanical', 250: 'hangover', 251: 'afternoon', 252: 'inflated', 253: 'trick', 254: 'fun', 255: 'offa', 256: 'backbone', 257: 'kissing', 258: 's', 259: 'expose', 260: 'drunkening', 261: 'vigilante', 262: 'skin', 263: 'points', 264: 'simpson', 265: 'flash', 266: 'fox', 267: 'mind-numbing', 268: 't-shirt', 269: 'kim_basinger:', 270: 'teeth', 271: 'rubbed', 272: 'fault', 273: 'signal', 274: 'local', 275: 'wang', 276: 'freeze', 277: 'wishful', 278: 'dawning', 279: \"i-i'm\", 280: 'dean', 281: \"should've\", 282: 'exhibit', 283: 'lay', 284: 'coal', 285: 'throats', 286: 'novelty', 287: 'ever', 288: 'kid', 289: 'understanding', 290: 'pulitzer', 291: 'voters', 292: 'given', 293: 'mission', 294: 'ah', 295: 'dum-dum', 296: 'unsanitary', 297: \"england's\", 298: 'twentieth', 299: 'hurting', 300: 'peeved', 301: 'needy', 302: 'large', 303: 'lib', 304: 'cowardly', 305: 'fica', 306: 'lucius:', 307: 'montrer', 308: 'blessing', 309: 'swamp', 310: 'paper', 311: 'wasting', 312: 'attack', 313: 'bindle', 314: 'persia', 315: 'heartily', 316: 'dough', 317: \"queen's\", 318: 'jackpot-thief', 319: 'we', 320: 'sizes', 321: 'weird', 322: 'hollowed-out', 323: 'grants', 324: 'libido', 325: 'coma', 326: 'radiation', 327: 'frink', 328: 'liability', 329: 'thorough', 330: 'linda_ronstadt:', 331: 'alpha-crow', 332: 'self-satisfied', 333: \"buffalo's\", 334: 'perverse', 335: 'pigs', 336: 'outstanding', 337: 'feed', 338: 'joey', 339: \"don'tcha\", 340: \"speakin'\", 341: 'worry', 342: 'movies', 343: 'bedtime', 344: 'subscriptions', 345: 'disguised', 346: 'station', 347: 'sector', 348: 'calling', 349: \"i'm\", 350: 'community', 351: \"don't\", 352: 'gargoyle', 353: 'updated', 354: 'madison', 355: \"wife's\", 356: \"writin'\", 357: 'dirty', 358: 'horses', 359: 'anxious', 360: 'shaky', 361: 'option', 362: \"aren'tcha\", 363: 'delays', 364: 'clubs', 365: 'rash', 366: 'brothers', 367: 'deal', 368: 'part-time', 369: 'is:', 370: 'offense', 371: 'closet', 372: 'continuing', 373: \"kearney's_dad:\", 374: 'assert', 375: 'close', 376: \"cat's\", 377: 'gentles', 378: 'interrupting', 379: 'environment', 380: 'sweat', 381: 'apart', 382: 'menlo', 383: 'medical', 384: 'seemed', 385: 'intense', 386: 'reactions', 387: 'fifty', 388: 'hampstead-on-cecil-cecil', 389: 'happened', 390: 'presidents', 391: 'launch', 392: 'effect', 393: 'xx', 394: 'shoo', 395: 'low-blow', 396: \"narratin'\", 397: 'outta', 398: 'knocked', 399: 'somewhere', 400: 'covering', 401: 'expensive', 402: 'accurate', 403: 'ends', 404: 'ahem', 405: 'mistakes', 406: 'strawberry', 407: 'winces', 408: 'mushy', 409: 'k', 410: 'quickly', 411: 'greystash', 412: 'exultant', 413: 'percent', 414: 'sticker', 415: 'dentist', 416: 'sandwich', 417: 'coin', 418: 'pancakes', 419: 'express', 420: 'c', 421: 'doctor', 422: 'foam', 423: 'health_inspector:', 424: \"'evening\", 425: 'mystery', 426: 'cuz', 427: 'mine', 428: 'inquiries', 429: 'elaborate', 430: 'disappointed', 431: 'apron', 432: 'resigned', 433: 'side', 434: 'many', 435: 'orgasmville', 436: 'published', 437: 'lungs', 438: 'outlive', 439: 'notch', 440: 'pleasant', 441: 'cozies', 442: \"homer's_brain:\", 443: 'betty:', 444: 'meyerhof', 445: 'ingested', 446: 'turns', 447: \"gentleman's\", 448: 'endorsement', 449: \"i-i'll\", 450: 'nash', 451: 'gets', 452: '7g', 453: 'thinks', 454: 'pathetic', 455: 'kill', 456: 'irrelevant', 457: 'space', 458: 'poke', 459: 'whoops', 460: 'enterprising', 461: 'rugged', 462: 'appealing', 463: 'satisfaction', 464: 'rascals', 465: 'burt_reynolds:', 466: 'jacques:', 467: 'impending', 468: 'therapy', 469: 'korea', 470: 'man:', 471: 'duel', 472: 'proud', 473: 'frescas', 474: 'sail', 475: 'jar', 476: 'worthless', 477: 'vicious', 478: 'sugar', 479: 'above', 480: 'adeleine', 481: 'unbelievable', 482: 'hose', 483: 'kick', 484: 'literature', 485: 'larry:', 486: 'coward', 487: \"she'd\", 488: 'dynamite', 489: \"beggin'\", 490: 'celeste', 491: 'moron', 492: 'mix', 493: 'began', 494: 'cards', 495: \"cuckold's\", 496: 'cliff', 497: 'state', 498: 'tooth', 499: 'glasses', 500: 'maggie', 501: 'wonder', 502: 'invited', 503: \"where's\", 504: 'nahasapeemapetilon', 505: 'embarrassing', 506: 'grenky', 507: 'sincerely', 508: 'seen', 509: 'talkative', 510: 'john', 511: 'ticks', 512: 'wolfe', 513: 'african', 514: 'donated', 515: 'guide', 516: 'humiliation', 517: 'improved', 518: \"they'd\", 519: 'shout', 520: 'victim', 521: 'science', 522: 'tyson/secretariat', 523: 'beast', 524: 'toxins', 525: 'friction', 526: 'skinny', 527: 'answered', 528: 'midge', 529: \"everyone's\", 530: 'better', 531: 'stupidest', 532: 'klown', 533: 'capitol', 534: 'aah', 535: \"man'd\", 536: 'railroad', 537: 'tremendous', 538: 'renovations', 539: 'swimming', 540: 'conditioner', 541: 'present', 542: 'unfortunately', 543: \"murphy's\", 544: 'created', 545: 'patient', 546: 'outside', 547: 'nucular', 548: 'reaches', 549: 'japanese', 550: 'next', 551: 'blubberino', 552: 'shaved', 553: 'law', 554: 'sturdy', 555: 'mckinley', 556: 'oak', 557: 'swill', 558: 'thrust', 559: 'bugs', 560: 'lloyd', 561: 'grave', 562: 'lisa', 563: 'dang', 564: 'buying', 565: \"hangin'\", 566: 'owe', 567: 'sanitary', 568: 'data', 569: 'jerk', 570: 'seat', 571: 'become', 572: 'brawled', 573: \"smackin'\", 574: 'bank', 575: 'rude', 576: 'jerks', 577: 'gunter', 578: \"hadn't\", 579: 'pinball', 580: 'trade', 581: 'spoken', 582: 'kennedy', 583: 'wantcha', 584: 'kings', 585: 'mamma', 586: 'every', 587: 'incognito', 588: 'century', 589: 'moe', 590: 'reluctant', 591: 'versus', 592: 'beans', 593: 'indicates', 594: 'raises', 595: 'fighter', 596: 'suddenly', 597: 'cans', 598: 'underpants', 599: 'studied', 600: 'benjamin:', 601: \"man's\", 602: \"ball's\", 603: 'boo', 604: 'demand', 605: 'four', 606: \"mother's\", 607: 'fbi', 608: 'pumping', 609: 'price', 610: 'vodka', 611: 'innocent', 612: 'professional', 613: 'riveting', 614: 'crisis', 615: 'marshmallow', 616: 'moxie', 617: 'verdict', 618: 'noticing', 619: 'golden', 620: 'coast', 621: 'backgammon', 622: 'bird', 623: 'peppers', 624: 'forty-nine', 625: 'anguished', 626: 'helpless', 627: \"wearin'\", 628: 'hello', 629: 'romantic', 630: 'decide:', 631: \"'n'\", 632: 'cooking', 633: 'americans', 634: 'recent', 635: 'bush', 636: 'naegle', 637: 'shocked', 638: 'alcohol', 639: 'shuts', 640: 'ruled', 641: 'thankful', 642: 'baritone', 643: 'shush', 644: 'mimes', 645: 'comforting', 646: 'conclusions', 647: 'triple-sec', 648: 'alcoholic', 649: 'handler', 650: 'game', 651: 'hippies', 652: 'sideshow_bob:', 653: 'hibachi', 654: 'fly', 655: 'dames', 656: 'reason', 657: 'corporate', 658: 'earth', 659: 'endorse', 660: 'karaoke', 661: 'forty-two', 662: 'aged', 663: 'rest', 664: 'whatchacallit', 665: 'orders', 666: \"g'ahead\", 667: 'refinanced', 668: 'pour', 669: 'arse', 670: 'videotaped', 671: \"weren't\", 672: 'explain', 673: 'neighborhood', 674: \"g'on\", 675: '_powers:', 676: 'aw', 677: 'nobel', 678: 'bring', 679: 'brockelstein', 680: 're-al', 681: 'back', 682: 'ziffcorp', 683: 'investor', 684: 'unbelievably', 685: 'loathe', 686: 'whoa-ho', 687: 'basement', 688: 'snide', 689: 'god', 690: 'grand', 691: 'terminated', 692: 'swell', 693: 'terrified', 694: 'africanized', 695: 'gimmicks', 696: 'monorails', 697: 'torn', 698: 'faded', 699: 'prayer', 700: 'strips', 701: 'words', 702: 'mater', 703: 'send', 704: 'overhearing', 705: 'reflected', 706: 'blokes', 707: 'annoyed', 708: 'perplexed', 709: 'chairman', 710: 'grains', 711: 'bagged', 712: 'advertising', 713: 'kissingher', 714: 'flophouse', 715: \"handwriting's\", 716: 'terrifying', 717: 'spit-backs', 718: 'dictator', 719: 'whenever', 720: 'sangre', 721: 'cola', 722: 'yap', 723: 'snort', 724: 'forehead', 725: '7-year-old_brockman:', 726: 'stalking', 727: 'toy', 728: 'typing', 729: 'tv-station_announcer:', 730: 'irs', 731: 'paints', 732: 'bullet-proof', 733: \"'round\", 734: 'portentous', 735: 'confident', 736: 'sports', 737: 'cruise', 738: 'be', 739: 'kucinich', 740: 'carpet', 741: 'fist', 742: 'guys', 743: 'hawaii', 744: 'muffled', 745: 'hooked', 746: 'watched', 747: 'cocktail', 748: 'traffic', 749: 'stealings', 750: \"you'd\", 751: 'puke', 752: 'biggest', 753: 'yards', 754: 'corpses', 755: 'liven', 756: 'alarm', 757: 'smile:', 758: 'hanging', 759: 'mock-up', 760: 'beards', 761: 'cupid', 762: 'knocks', 763: '||period||', 764: 'covers', 765: 'ripping', 766: 'fanciest', 767: \"secret's\", 768: 'hi', 769: 'away', 770: 'crappy', 771: 'deals', 772: 'laramie', 773: 'cigarette', 774: \"dimwit's\", 775: 'saying', 776: 'somehow', 777: 'it:', 778: 'contemptuous', 779: 'menacing', 780: 'bitter', 781: 'salvador', 782: 'apu_nahasapeemapetilon:', 783: 'ducked', 784: 'rasputin', 785: 'alter', 786: 'pro', 787: 'chorus:', 788: \"costume's\", 789: 'suspenders', 790: 'scared', 791: 'chic', 792: 'i-i-i', 793: \"men's\", 794: 'ho', 795: 'cecil_terwilliger:', 796: 'priceless', 797: 'vance', 798: 'vehicle', 799: 'mural', 800: 'leaving', 801: 'happens', 802: 'gig', 803: 'legend', 804: 'plan', 805: 'western', 806: 'little_hibbert_girl:', 807: 'extreme', 808: 'splendid', 809: 'shipment', 810: 'eat', 811: 'barn', 812: 'reopen', 813: 'mccall', 814: 'delete', 815: 'smokes', 816: \"pressure's\", 817: 'illustrates', 818: 'massive', 819: 'sour', 820: 'suits', 821: 'farthest', 822: 'her', 823: 'tickets', 824: \"liftin'\", 825: 'medicine', 826: 'training', 827: 'apartment', 828: 'morning', 829: 'open', 830: 'resist', 831: 'fuss', 832: 'championship', 833: '||right_parentheses||', 834: 'give', 835: 'mulder', 836: 'multi-national', 837: 'tail', 838: 'pal', 839: 'legally', 840: 'frat', 841: 'public', 842: \"idea's\", 843: 'rip', 844: 'smug', 845: 'greatly', 846: 'lists', 847: 'howya', 848: 'serve', 849: 'cookies', 850: 'payday', 851: \"'ceptin'\", 852: 'simon', 853: 'smallest', 854: 'hollye', 855: 'getting', 856: 'jacks', 857: 'enhance', 858: 'ha-ha', 859: 'drank', 860: 'rush', 861: 'workers', 862: 'lemme', 863: 'knife', 864: 'cockroach', 865: \"what's\", 866: 'twice', 867: 'depository', 868: 'powerful', 869: 'spits', 870: 'pickled', 871: 'character', 872: 'if', 873: 'sounded', 874: 'ingrates', 875: 'cronies', 876: 'mostrar', 877: 'random', 878: 'ointment', 879: 'stupidly', 880: 'dismissive', 881: 'b', 882: 'byrne', 883: 'grunts', 884: 'rhyme', 885: 'journey', 886: 'buds', 887: 'mind', 888: 'intruding', 889: 'dog', 890: 'ye', 891: 'jolly', 892: 'loaded', 893: 'pulls', 894: 'congoleum', 895: 'discussing', 896: 'thirty-nine', 897: 'seconds', 898: 'gags', 899: 'point', 900: 'helps', 901: 'ruined', 902: 'stats', 903: 'tips', 904: 'tapered', 905: 'cannot', 906: \"i'm-so-stupid\", 907: 'detective_homer_simpson:', 908: 'luxury', 909: 'nasa', 910: 'unkempt', 911: 'authorized', 912: 'stay', 913: \"show's\", 914: 'shriners', 915: 'selective', 916: 'caricature', 917: 'inherent', 918: 'macaulay', 919: 'script', 920: 'polite', 921: 'sued', 922: 'wash', 923: 'clapping', 924: 'restless', 925: 'principal', 926: '1979', 927: 'churchill', 928: 'monkey', 929: 'johnny', 930: 'travel', 931: 'professor', 932: 'bobo', 933: 'admit', 934: 'adventure', 935: 'men:', 936: 'complete', 937: 'sun', 938: 'coy', 939: 'corner', 940: 'thought_bubble_homer:', 941: \"s'pose\", 942: 'schemes', 943: 'x', 944: 'straight', 945: 'employment', 946: 'koi', 947: 'tv_announcer:', 948: 'stuff', 949: 'hunter', 950: 'survive', 951: 'club', 952: 'button', 953: 'wow', 954: 'brag', 955: 'zack', 956: 'jägermeister', 957: 'assistant', 958: 'faced', 959: 'radishes', 960: 'bushes', 961: 'weapon', 962: 'nick', 963: 'juice', 964: \"cashin'\", 965: 'the_rich_texan:', 966: 'before', 967: 'death', 968: 'musical', 969: 'carl', 970: 'groin', 971: 'follow', 972: 'passion', 973: 'recipe', 974: 'weary', 975: \"renee's\", 976: 'meals', 977: 'procedure', 978: 'alcoholism', 979: \"time's\", 980: \"i've\", 981: 'co-sign', 982: 'declare', 983: 'moon', 984: 'theater', 985: 'irishman', 986: 'advice', 987: 'boxers', 988: 'packets', 989: 'november', 990: 'fat', 991: 'statue', 992: 'befouled', 993: 'absorbent', 994: 'woo-hoo', 995: 'moe-lennium', 996: 'sending', 997: 'yours', 998: 'blew', 999: 'rounds', 1000: 'blank', 1001: 'chuckle', 1002: 'noggin', 1003: 'according', 1004: 'cheery', 1005: 'trivia', 1006: 'gruff', 1007: \"washin'\", 1008: 'memories', 1009: 'reading:', 1010: 'fell', 1011: 'swine', 1012: 'habit', 1013: 'case', 1014: 'girl', 1015: 'beatings', 1016: 'dignity', 1017: 'invulnerable', 1018: 'needed', 1019: 'backing', 1020: 'reminds', 1021: 'bothered', 1022: 'puzzled', 1023: 'rap', 1024: 'boyfriend', 1025: \"tomorrow's\", 1026: 'op', 1027: 'clips', 1028: 'twins', 1029: 'ali', 1030: 'impressed', 1031: 'mull', 1032: 'pressure', 1033: 'albeit', 1034: 'total', 1035: 'winning', 1036: 'psst', 1037: 'yep', 1038: 'lenny_leonard:', 1039: 'fury', 1040: 'diablo', 1041: \"singin'\", 1042: 'restaurants', 1043: 'gold', 1044: 'lowest', 1045: 'american', 1046: 'ohmygod', 1047: 'pushing', 1048: 'brief', 1049: 'clown', 1050: 'pasta', 1051: 'sen', 1052: 'fires', 1053: 'behind', 1054: 'knows', 1055: 'hiding', 1056: 'gal', 1057: 'pizza', 1058: 'sumatran', 1059: 'starving', 1060: 'strokkur', 1061: '||comma||', 1062: 'assent', 1063: 'friend:', 1064: 'heave-ho', 1065: 'daniel', 1066: 'common', 1067: 'rings', 1068: 'ron', 1069: 'harvard', 1070: 'rocks', 1071: 'black', 1072: 'sells', 1073: 'woodchucks', 1074: 'sneeze', 1075: 'ned', 1076: 'recommend', 1077: 'alive', 1078: 'wage', 1079: 'lipo', 1080: 'civil', 1081: 'publish', 1082: 'piling', 1083: 'jamaican', 1084: 'forty', 1085: 'people', 1086: 'stars', 1087: 'pets', 1088: 'zone', 1089: 'control', 1090: 'remodel', 1091: 'limited', 1092: 'took', 1093: 'totalitarians', 1094: 'dreamed', 1095: 'nonchalant', 1096: 'ultimate', 1097: 'mm-hmm', 1098: 'de', 1099: 'noosey', 1100: 'contest', 1101: 'plow', 1102: 'cheers', 1103: 'amanda', 1104: 'stiffening', 1105: 'distributor', 1106: 'fine', 1107: 'mother', 1108: \"bo's\", 1109: 'badly', 1110: 'file', 1111: 'dilemma', 1112: 'frankly', 1113: \"clancy's\", 1114: 'careful', 1115: 'mason', 1116: 'jazz', 1117: 'lachrymose', 1118: 'great', 1119: 'cherry', 1120: 'whatsit', 1121: 'portfolium', 1122: 'gee', 1123: 'encouraging', 1124: 'wrong', 1125: 'aid', 1126: 'telemarketing', 1127: 'carefully', 1128: 'generous', 1129: 'detective', 1130: 'reached', 1131: 'source', 1132: 'reckless', 1133: 'morose', 1134: 'germany', 1135: 'searching', 1136: 'means', 1137: 'saw', 1138: 'hats', 1139: 'synthesize', 1140: 'guilt', 1141: 'cuddling', 1142: 'fumes', 1143: 'gangrene', 1144: 'spoon', 1145: '||exclamation_mark||', 1146: 'stored', 1147: 'during', 1148: 'oil', 1149: 'manjula', 1150: 'umm', 1151: 'crystal', 1152: 'stayed', 1153: 'urban', 1154: 'gimmick', 1155: 'understand', 1156: 'playing', 1157: 'return', 1158: 'notably', 1159: 'martini', 1160: 'obvious', 1161: 'holiday', 1162: 'declan', 1163: \"sittin'\", 1164: 'waltz', 1165: 'stinky', 1166: \"doctor's\", 1167: 'dry', 1168: 'pulled', 1169: 'dan_gillick:', 1170: 'accept', 1171: 'depression', 1172: 'natured', 1173: 'mini-dumpsters', 1174: 'ails', 1175: 'jer', 1176: 'play/', 1177: 'coyly', 1178: 'gentle', 1179: 'madonna', 1180: 'brunswick', 1181: 'children', 1182: 'cell', 1183: 'chase', 1184: 'jewelry', 1185: 'laughter', 1186: 'jams', 1187: 'laughing', 1188: 'twenty-nine', 1189: 'boyhood', 1190: 'warm_female_voice:', 1191: 'classy', 1192: \"d'ya\", 1193: 'collapse', 1194: 'wipe', 1195: 'self-centered', 1196: 'sixty-five', 1197: 'compliments', 1198: 'doors', 1199: 'progress', 1200: 'trouble', 1201: 'all', 1202: 'palmerston', 1203: 'noises', 1204: 'chinese', 1205: 'college', 1206: 'sick', 1207: 'do', 1208: 'threw', 1209: 'planned', 1210: 'jury', 1211: 'holds', 1212: 'showered', 1213: 'slight', 1214: 'cannoli', 1215: 'yelling', 1216: 'hah', 1217: 'clear', 1218: 'understood', 1219: 'bully', 1220: \"boy's\", 1221: 'bloodiest', 1222: 'fox_mulder:', 1223: 'w', 1224: 'derisive', 1225: 'pregnancy', 1226: 'alva', 1227: 'magazine', 1228: 'stepped', 1229: 'tv_wife:', 1230: 'spine', 1231: 'pile', 1232: 'mistake', 1233: 'dae', 1234: 'will', 1235: 'compliment', 1236: 'sincere', 1237: 'mouse', 1238: 'dress', 1239: \"team's\", 1240: 'depressed', 1241: 'tale', 1242: 'tv_father:', 1243: 'si-lent', 1244: \"hole'\", 1245: 'helpful', 1246: 'habitrail', 1247: 'sam:', 1248: 'loss', 1249: 'dull', 1250: 'joint', 1251: 'courthouse', 1252: 'hands', 1253: 'appendectomy', 1254: 'uh-huh', 1255: 'language', 1256: 'duff', 1257: 'up-bup-bup', 1258: 'monday', 1259: 'come', 1260: 'ho-la', 1261: 'replace', 1262: 'under', 1263: 'lobster-politans', 1264: 'formico', 1265: 'geez', 1266: 'abolish', 1267: 'delivery', 1268: 'birthplace', 1269: 'whispers', 1270: 'hardwood', 1271: 'forced', 1272: 'heavyset', 1273: 'schnapps', 1274: 'acting', 1275: 'yew', 1276: 'browns', 1277: 'crayola', 1278: 'ahh', 1279: 'eww', 1280: 'shoes', 1281: 'innocuous', 1282: 'fleabag', 1283: 'invite', 1284: 'motto', 1285: 'cleaned', 1286: \"bar's\", 1287: 'improv', 1288: 'candles', 1289: 'dressing', 1290: 'anyway', 1291: 'clock', 1292: 'bumped', 1293: 'join', 1294: 'folk', 1295: 'wacky', 1296: 'moving', 1297: 'burps', 1298: 'moe_szyslak:', 1299: 'sneaky', 1300: 'wounds', 1301: 'sticking', 1302: 'steal', 1303: 'referee', 1304: 'unless', 1305: 'wooden', 1306: 'dumbass', 1307: 'unhappy', 1308: 'widow', 1309: 'prime', 1310: 'satisfied', 1311: 'reed', 1312: 'cap', 1313: 'then:', 1314: 'singer', 1315: 'beligerent', 1316: 'envy-tations', 1317: 'enemies', 1318: 'unfamiliar', 1319: 'gumbel', 1320: 'detecting', 1321: \"mo'\", 1322: 'hero-phobia', 1323: 'meaning', 1324: 'pants', 1325: 'coms', 1326: 'except', 1327: \"valentine's\", 1328: 'kinderhook', 1329: 'generously', 1330: 'chapel', 1331: 'guiltily', 1332: 'mahatma', 1333: 'laney', 1334: 'suppose', 1335: 'spit', 1336: 'aerospace', 1337: 'cocks', 1338: '6', 1339: 'nose', 1340: 'got', 1341: \"talkin'\", 1342: 'napkins', 1343: 'too', 1344: 'handing', 1345: 'babe', 1346: 'international', 1347: 'cases', 1348: 'bye', 1349: 'non-american', 1350: 'comeback', 1351: 'david_byrne:', 1352: 'it', 1353: 'odor', 1354: 'beyond', 1355: \"pope's\", 1356: 'koji', 1357: 'carey', 1358: 'chained', 1359: 'sarcastic', 1360: 'owns', 1361: \"they've\", 1362: 'blooded', 1363: 'same', 1364: 'cow', 1365: 'less', 1366: 'dipping', 1367: 'kramer', 1368: 'choices', 1369: 'roll', 1370: \"treatin'\", 1371: 'booze-bags', 1372: 'angel', 1373: 'lady-free', 1374: 'presided', 1375: 'only', 1376: 'life-partner', 1377: 'compare', 1378: 'committee', 1379: 'griffith', 1380: 'shop', 1381: 'bolting', 1382: 'retired', 1383: 'fictional', 1384: 'appear', 1385: 'measure', 1386: 'kidnaps', 1387: 'radiator', 1388: 'bash', 1389: 'sanitation', 1390: \"something's\", 1391: 'pain', 1392: 'incriminating', 1393: 'available', 1394: 'elocution', 1395: 'potatoes', 1396: 'labor', 1397: 'krusty', 1398: 'bauer', 1399: 'keep', 1400: 'talk-sings', 1401: 'straighten', 1402: 'writer:', 1403: 'read', 1404: 'lugs', 1405: 'free', 1406: 'wolfcastle', 1407: 'y-you', 1408: '14', 1409: 'los', 1410: 'giving', 1411: 'nor', 1412: 'teenage_barney:', 1413: 'sagely', 1414: 'write', 1415: 'perfected', 1416: 'housing', 1417: 'batmobile', 1418: 'hardy', 1419: 'gibson', 1420: 'jay_leno:', 1421: 'renee', 1422: 'intakes', 1423: 'ze-ro', 1424: 'rife', 1425: 'traitors', 1426: 'offer', 1427: 'agent', 1428: 'product', 1429: 'laughs', 1430: 'computer', 1431: 'bike', 1432: 'porn', 1433: 'poorer', 1434: 'our', 1435: 'minute', 1436: 'amazed', 1437: 'carlotta:', 1438: 'everyone', 1439: 'call', 1440: 'padre', 1441: 'sea', 1442: 'buttons', 1443: 'reaching', 1444: 'focus', 1445: 'to', 1446: 'blur', 1447: 'complicated', 1448: 'pigtown', 1449: 'sigh', 1450: 'kirk', 1451: \"tonight's\", 1452: 'consulting', 1453: 'eager', 1454: 'princesses', 1455: 'nice', 1456: 'coupon', 1457: 'barflies:', 1458: 'frosty', 1459: 'actor', 1460: 'pocket', 1461: 'eventually', 1462: 'sunny', 1463: 'liar', 1464: 'eliminate', 1465: 'administration', 1466: 'cruiser', 1467: \"'tis\", 1468: 'intriguing', 1469: 'expecting', 1470: 'stock', 1471: 'witches', 1472: 'scotch', 1473: 'whoever', 1474: 'piano', 1475: \"shootin'\", 1476: 'nickels', 1477: 'machine', 1478: 'seymour_skinner:', 1479: 'wally:', 1480: 'swe-ee-ee-ee-eet', 1481: 'glowers', 1482: 'stevie', 1483: 'experience', 1484: 'its', 1485: 'zoomed', 1486: 'glorious', 1487: 'microphone', 1488: \"how're\", 1489: 'gums', 1490: 'this', 1491: 'conclude', 1492: 'sweetly', 1493: 'repressed', 1494: 'surprised', 1495: 'reward', 1496: 'itchy', 1497: 'for', 1498: 'banquet', 1499: 'results', 1500: 'spender', 1501: 'refiero', 1502: 'cool', 1503: 'pleased', 1504: 'perfect', 1505: 'male_inspector:', 1506: 'full-time', 1507: 'womb', 1508: 'chief', 1509: 'wears', 1510: 'james', 1511: 'message', 1512: 'throws', 1513: 'explaining', 1514: 'fireworks', 1515: 'singers:', 1516: 'jobless', 1517: 'positive', 1518: 'saint', 1519: 'sugar-me-do', 1520: 'bloodball', 1521: 'ease', 1522: 'expense', 1523: 'distinct', 1524: 'incarcerated', 1525: 'design', 1526: 'reviews', 1527: 'kidneys', 1528: 'sure', 1529: 'knock', 1530: 'sorry', 1531: 'celebrities', 1532: 'fabulous', 1533: 'land', 1534: 'punkin', 1535: 'tuna', 1536: 'mmm', 1537: 'las', 1538: 'trapping', 1539: 'walk', 1540: 'grow', 1541: 'yourse', 1542: 'stacey', 1543: 'lying', 1544: 'shame', 1545: 'bartenders', 1546: 'delightfully', 1547: 'i-i', 1548: 'politics', 1549: 'guard', 1550: 'murmurs', 1551: \"i'unno\", 1552: 'mid-conversation', 1553: 'determined', 1554: 'moe_recording:', 1555: 'ago', 1556: 'unsourced', 1557: 'jovial', 1558: 'bastard', 1559: 'ambrose', 1560: 'lawyer', 1561: 'fausto', 1562: 'nigel_bakerbutcher:', 1563: 'horror', 1564: 'volunteer', 1565: 'teenage', 1566: 'carll', 1567: 'prejudice', 1568: 'incredulous', 1569: 'looked', 1570: 'dyspeptic', 1571: 'meaningless', 1572: 'sobriety', 1573: 'wobbly', 1574: 'protesting', 1575: 'would', 1576: 'guts', 1577: 'neighbor', 1578: 'left', 1579: 'shifty', 1580: 'seems', 1581: 'ya', 1582: 'skydiving', 1583: \"he's\", 1584: 'poison', 1585: 'change', 1586: 'lenses', 1587: 'pride', 1588: 'uhhhh', 1589: 'arms', 1590: 'starla:', 1591: 'rims', 1592: 'danny', 1593: 'happen', 1594: 'wanted', 1595: 'sobbing', 1596: 'slurred', 1597: 'teacher', 1598: 'everyday', 1599: 'pop', 1600: 'dirge-like', 1601: 'oblivious', 1602: 'lucinda', 1603: 'twelveball', 1604: '_babcock:', 1605: 'gil_gunderson:', 1606: 'men', 1607: 'yammering', 1608: 'ron_howard:', 1609: 'snail', 1610: 'toys', 1611: 'cooler', 1612: 'exquisite', 1613: 'jay:', 1614: 'guess', 1615: 'newly-published', 1616: 'pussycat', 1617: 'bumpy-like', 1618: 'softer', 1619: 'three-man', 1620: 'enjoys', 1621: 'vampires', 1622: 'ignoring', 1623: 'nagurski', 1624: 'thanking', 1625: 'strongly', 1626: 'maude', 1627: 'fustigation', 1628: 'grampa_simpson:', 1629: 'mister', 1630: '1973', 1631: 'uncreeped-out', 1632: 'pack', 1633: '_montgomery_burns:', 1634: 'cameras', 1635: 'woulda', 1636: 'increasingly', 1637: 'tongue', 1638: 'hmf', 1639: 'sweetest', 1640: 'longest', 1641: 'equivalent', 1642: 'yo', 1643: 'or', 1644: 'optimistic', 1645: 'sidelines', 1646: 'fat_in_the_hat:', 1647: 'billingsley', 1648: 'tempting', 1649: 'together', 1650: 'spews', 1651: 'mmmm', 1652: 'santeria', 1653: \"coaster's\", 1654: 'root', 1655: 'letter', 1656: 'all:', 1657: 'recorded', 1658: 'in-ground', 1659: 'sack', 1660: 'xanders', 1661: \"must've\", 1662: 'degradation', 1663: 'greedy', 1664: 'drunk', 1665: 'name', 1666: 'head-gunk', 1667: \"spiffin'\", 1668: 'pretend', 1669: 'spread', 1670: 'queen', 1671: 'feminist', 1672: 'disco_stu:', 1673: 'step', 1674: 'boggs', 1675: 'tow', 1676: 'jig', 1677: 'who', 1678: 'boys', 1679: 'trees', 1680: 'michael_stipe:', 1681: 'coins', 1682: 'how', 1683: '21', 1684: 'sausage', 1685: 'reluctantly', 1686: 'enter', 1687: 'lady', 1688: 'carb', 1689: 'notorious', 1690: 'advantage', 1691: 'beanbag', 1692: 'wok', 1693: 'distaste', 1694: 'boy', 1695: 'payments', 1696: 'quebec', 1697: 'video', 1698: 'gin-slingers', 1699: 'sold', 1700: 'kemi:', 1701: 'lifters', 1702: 'whim', 1703: 'fit', 1704: 'infatuation', 1705: 'private', 1706: 'breathless', 1707: 'lifetime', 1708: 'flash-fry', 1709: 'heals', 1710: 'hall', 1711: 'bulldozing', 1712: 'kind', 1713: 'sideshow', 1714: 'heroism', 1715: 'sucking', 1716: 'drummer', 1717: 'chapstick', 1718: 'uh', 1719: 'fumigated', 1720: 'typed', 1721: 'correct', 1722: 'bender:', 1723: 'scratcher', 1724: 'ivanna', 1725: 'spelling', 1726: 'lanes', 1727: 'per', 1728: 'behavior', 1729: 'cries', 1730: 'sedaris', 1731: 'imaginary', 1732: 'phrase', 1733: 'chanting', 1734: 'relieved', 1735: 'charge', 1736: 'sunk', 1737: 'their', 1738: 'inspiring', 1739: 'ratio', 1740: 'water', 1741: 'na', 1742: 'whatcha', 1743: 'playhouse', 1744: 'golf', 1745: 'cutie', 1746: 'ha', 1747: 'sloppy', 1748: 'fourteen:', 1749: \"son's\", 1750: 'jerky', 1751: 'jerry', 1752: 'smile', 1753: 'palm', 1754: 'right-handed', 1755: 'whining', 1756: 'judge_snyder:', 1757: 'respect', 1758: 'grateful', 1759: 'engine', 1760: 'be-stainèd', 1761: 'majesty', 1762: 'head', 1763: 'blowfish', 1764: 'fulla', 1765: 'shutup', 1766: 'extended', 1767: \"countin'\", 1768: 'dejected', 1769: 'scanning', 1770: 'partner', 1771: 'doing', 1772: 'luv', 1773: 'trapped', 1774: 'cage', 1775: 'chunk', 1776: 'forgiven', 1777: 'gunk', 1778: 'over', 1779: 'lear', 1780: 'solves', 1781: 'glitz', 1782: '2nd_voice_on_transmitter:', 1783: 'endorsed', 1784: 'espousing', 1785: 'accident', 1786: 'acquitted', 1787: 'bumbling', 1788: 'super-genius', 1789: 'miracle', 1790: 'managed', 1791: 'orifice', 1792: 'shoots', 1793: 'gorgeous', 1794: 'mistresses', 1795: 'mad', 1796: 'julienne', 1797: 'continued', 1798: 'frogs', 1799: 'pudgy', 1800: 'someday', 1801: 'ashamed', 1802: 'huddle', 1803: \"battin'\", 1804: 'sealed', 1805: 'loafers', 1806: 'muhammad', 1807: 'presidential', 1808: 'organ', 1809: 'dancing', 1810: '3', 1811: 'ringing', 1812: 'banned', 1813: 'youuu', 1814: 'slyly', 1815: 'stopped', 1816: 'monkeyshines', 1817: 'punishment', 1818: '_julius_hibbert:', 1819: \"tv'll\", 1820: 'expect', 1821: 'myself', 1822: 'quimby_#2:', 1823: 'arrange', 1824: \"robbin'\", 1825: 'represents', 1826: 'honeys', 1827: 'consider', 1828: 'gas', 1829: 'overflowing', 1830: 'parrot', 1831: \"smokin'_joe_frazier:\", 1832: 'squishee', 1833: 'affection', 1834: 'eve', 1835: 'urine', 1836: 'competitive', 1837: 'sassy', 1838: 'one', 1839: 'mac-who', 1840: 'rafters', 1841: 'securities', 1842: 'trying', 1843: 'director:', 1844: 'exactly', 1845: 'imagine', 1846: 'hounds', 1847: 'fill', 1848: 'fish', 1849: 'charming', 1850: 'confidentially', 1851: 'broken', 1852: 'plastered', 1853: 'brine', 1854: 'cartoons', 1855: 'image', 1856: 'hems', 1857: 'terrible', 1858: 'right', 1859: 'stengel', 1860: 'andrew', 1861: 'merchants', 1862: 'little', 1863: 'muertos', 1864: 'thumb', 1865: 'guff', 1866: 'tv_husband:', 1867: 'romance', 1868: 'slow', 1869: 'hears', 1870: 'pitch', 1871: 'roses', 1872: 'soap', 1873: 'hail', 1874: 'patty_bouvier:', 1875: 'mary', 1876: 'fluoroscope', 1877: 'twin', 1878: 'quiet', 1879: 'grumpy', 1880: 'lurleen_lumpkin:', 1881: 'two-thirds-empty', 1882: 'tsking', 1883: 'process', 1884: 'log', 1885: 'killing', 1886: 'bitterly', 1887: 'kay', 1888: 'boned', 1889: \"burnin'\", 1890: 'fiction', 1891: 'beam', 1892: 'firing', 1893: 'ratted', 1894: 'barney_gumble:', 1895: 'culkin', 1896: 'mither', 1897: 'pontiff', 1898: 'oh-ho', 1899: 'ahead', 1900: 'glee', 1901: 'heavens', 1902: 'march', 1903: 'lotsa', 1904: 'sat', 1905: 'champignons', 1906: 'anger', 1907: 'icy', 1908: 'corporation', 1909: 'spite', 1910: 'louisiana', 1911: 'reentering', 1912: 'abandon', 1913: 'tense', 1914: 'barflies', 1915: 'advertise', 1916: 'spied', 1917: \"kid's\", 1918: 'wonderful', 1919: 'arimasen', 1920: 'giggles', 1921: 'ehhhhhhhh', 1922: 'animals', 1923: 'grin', 1924: 'six', 1925: 'tune', 1926: 'wenceslas', 1927: 'post-suicide', 1928: 'klingon', 1929: 'amber', 1930: 'roof', 1931: 'restaurant', 1932: 'relaxed', 1933: 'fragile', 1934: 'indeed', 1935: 'then', 1936: 'disgraceful', 1937: 'domed', 1938: 'braun:', 1939: 'dallas', 1940: 'supposed', 1941: 'load', 1942: 'hemorrhage-amundo', 1943: 'front', 1944: 'soul', 1945: 'nevada', 1946: 'know', 1947: 'gut', 1948: 'shoulders', 1949: 'drag', 1950: 'willing', 1951: 'coffee', 1952: 'recruiter', 1953: 'screams', 1954: \"getting'\", 1955: 'pretzel', 1956: 'je', 1957: 'cocoa', 1958: 'son-of-a', 1959: 'anywhere', 1960: 'key', 1961: 'st', 1962: 'runs', 1963: 'carney', 1964: 'burnside', 1965: 'aghast', 1966: 'bleeding', 1967: 'scoffs', 1968: 'hits', 1969: 'hunger', 1970: 'desperately', 1971: 'junebug', 1972: 'rat-like', 1973: 'tonight', 1974: 'charlie', 1975: 'ech', 1976: 'thirteen', 1977: 'faith', 1978: 'planning', 1979: 'goes', 1980: 'unattended', 1981: 'tap', 1982: 'forgot', 1983: 'gregor', 1984: 'eggshell', 1985: 'walks', 1986: 'wins', 1987: 'inning', 1988: 'shoot', 1989: 'fwooof', 1990: 'confession', 1991: 'donut-shaped', 1992: 'code', 1993: 'rekindle', 1994: 'sketch', 1995: 'secret', 1996: 'someone', 1997: 'measurements', 1998: 'gutenberg', 1999: 'fink', 2000: 'stingy', 2001: 'ladder', 2002: 'salvation', 2003: 'stands', 2004: 'snake-handler', 2005: '530', 2006: 'woman_bystander:', 2007: 'recorder', 2008: 'in', 2009: 'rummy', 2010: 'superdad', 2011: 'warmly', 2012: 'convinced', 2013: 'needs', 2014: 'raise', 2015: 'keys', 2016: 'meeting', 2017: 'frog', 2018: 'sobo', 2019: 'ask', 2020: 'premiering', 2021: 'whatever', 2022: 'pfft', 2023: 'gheet', 2024: 'limits', 2025: 'confused', 2026: 'tenor:', 2027: 'breakdown', 2028: 'conditioning', 2029: 'shotgun', 2030: 'different', 2031: 'society_matron:', 2032: 'brightening', 2033: \"spaghetti-o's\", 2034: 'burning', 2035: 'doooown', 2036: 'hear', 2037: 'situation', 2038: \"who'da\", 2039: 'taxi', 2040: 'young_moe:', 2041: 'hoax', 2042: \"stallin'\", 2043: 'swallowed', 2044: 'because', 2045: \"let's\", 2046: \"bringin'\", 2047: 'lifestyle', 2048: 'novel', 2049: 'maintenance', 2050: 'heather', 2051: 'hosting', 2052: \"world's\", 2053: 'anyhoo', 2054: 'crunch', 2055: 'cerebral', 2056: 'owned', 2057: 'hitler', 2058: 'let', 2059: 'h', 2060: 'lessee', 2061: 'hyahh', 2062: 'chauffeur', 2063: 'transfer', 2064: 'problems', 2065: 'generosity', 2066: 'teams', 2067: 'zeal', 2068: 'wreck', 2069: 'rump', 2070: 'militia', 2071: 'date', 2072: 'lighting', 2073: 'skoal', 2074: 'reasonable', 2075: 'friday', 2076: 'worldly', 2077: 'elmer', 2078: 'piece', 2079: 'hunky', 2080: 'brusque', 2081: 'jebediah', 2082: 'series', 2083: 'half-beer', 2084: 'plants', 2085: 'mate', 2086: 'completing', 2087: 'indignant', 2088: '/mr', 2089: 'drunks', 2090: 'hans:', 2091: 'checks', 2092: 'fork', 2093: 'figure', 2094: 'kentucky', 2095: 'sits', 2096: 'eggs', 2097: 'hooters', 2098: 'scout', 2099: 'attempting', 2100: 'balls', 2101: 'sketching', 2102: 'mike_mills:', 2103: 'mike', 2104: 'tracks', 2105: 'i/you', 2106: 'geysir', 2107: 'sequel', 2108: 'youngsters', 2109: 'job', 2110: 'shoe', 2111: 'nursemaid', 2112: 'double', 2113: 'non-losers', 2114: \"'pu\", 2115: 'losers', 2116: 'jukebox', 2117: 'counterfeit', 2118: 'federal', 2119: 'ways', 2120: 'refresh', 2121: 'wipes', 2122: 'intoxicants', 2123: 'hostages', 2124: \"they'll\", 2125: 'ninety-eight', 2126: 'edner', 2127: 'brainiac', 2128: 'run', 2129: 'placed', 2130: 'shyly', 2131: 'knew', 2132: 'poor', 2133: 'truck', 2134: 'something', 2135: 'bits', 2136: 'cheesecake', 2137: 'savvy', 2138: 'where', 2139: 'accelerating', 2140: 'buddha', 2141: 'hare-brained', 2142: 'teacup', 2143: 'worldview', 2144: 'haw', 2145: 'life-extension', 2146: 'media', 2147: 'tactful', 2148: 'louse', 2149: 'accounta', 2150: 'sometimes', 2151: 'noise', 2152: 'news', 2153: 'take-back', 2154: 'jubilant', 2155: 'partially', 2156: 'sniper', 2157: 'babar', 2158: 'bonding', 2159: 'since', 2160: 'bless', 2161: 'sheet', 2162: 'highball', 2163: 'pretty', 2164: 'feast', 2165: 'conversion', 2166: 'protesters', 2167: 'escort', 2168: 'continuum', 2169: \"'bout\", 2170: 'caholic', 2171: 'middle', 2172: \"game's\", 2173: 'instantly', 2174: 'brick', 2175: 'atari', 2176: 'opening', 2177: 'hustle', 2178: 'wigs', 2179: \"c'mom\", 2180: 'wuss', 2181: 'provide', 2182: 'characteristic', 2183: 'depressing', 2184: 'frightened', 2185: 'rough', 2186: 'cleaning', 2187: 'elves:', 2188: \"ma'am\", 2189: 'preparation', 2190: 'touched', 2191: \"raggin'\", 2192: 'yello', 2193: 'countryman', 2194: 'selfish', 2195: \"high-falutin'\", 2196: 'speech', 2197: 'dealie', 2198: \"'topes\", 2199: 'minutes', 2200: 'gus', 2201: \"bart's\", 2202: 'poster', 2203: 'alternative', 2204: 'impeach', 2205: 'loboto-moth', 2206: 'using', 2207: 'cock', 2208: 'hole', 2209: 'poetics', 2210: 'clothespins', 2211: 'bottoms', 2212: 'normals', 2213: 'upset', 2214: 'gunter:', 2215: 'tipsy', 2216: 'lenford', 2217: 'payback', 2218: 'homer_doubles:', 2219: \"elmo's\", 2220: 'damage', 2221: 'pre-columbian', 2222: 'face', 2223: 'burg', 2224: 'kwik-e-mart', 2225: 'campaign', 2226: 'approval', 2227: 'west', 2228: 'perch', 2229: 'squeal', 2230: 'suit', 2231: 'lecture', 2232: 'dozen', 2233: 'daughter', 2234: 'robbers', 2235: 'backward', 2236: 'affects', 2237: 'tries', 2238: 'suffering', 2239: 'bowling', 2240: 'recreate', 2241: 'bumblebee_man:', 2242: 'met', 2243: 'diving', 2244: 'time', 2245: 'fighting', 2246: 'jacksons', 2247: 'pleasure', 2248: 'bet', 2249: 'drinks', 2250: 'shaker', 2251: 'dearest', 2252: 'spy', 2253: 'minimum', 2254: 'mis-statement', 2255: 'scruffy_blogger:', 2256: 'frazier', 2257: 'resolution', 2258: 'stained-glass', 2259: 'encore', 2260: 'savings', 2261: 'protecting', 2262: 'balloon', 2263: 'handwriting', 2264: 'experienced', 2265: 'nicer', 2266: 'acronyms', 2267: 'midge:', 2268: 'choke', 2269: 'lovejoy', 2270: 'cranberry', 2271: 'young', 2272: 'horribilis', 2273: 'combination', 2274: 'swig', 2275: 'parking', 2276: 'neighboreeno', 2277: 'desperate', 2278: 'solo', 2279: \"how'd\", 2280: 'lorre', 2281: 'bliss', 2282: 'spending', 2283: 'shooting', 2284: 'cosmetics', 2285: 'man_with_crazy_beard:', 2286: 'tonic', 2287: 'caught', 2288: 'locklear', 2289: 'used', 2290: 'injury', 2291: 'what', 2292: 'blaze', 2293: 'burn', 2294: 'waste', 2295: 'anarchy', 2296: 'undated', 2297: \"c'mon\", 2298: 'rumor', 2299: 'explanation', 2300: 'buddy', 2301: 'scrape', 2302: 'libraries', 2303: 'cup', 2304: 'shoulder', 2305: 'pursue', 2306: 'thrilled', 2307: 'perón', 2308: 'were', 2309: 'lied', 2310: 'meanwhile', 2311: 'loyal', 2312: 'cause', 2313: \"'im\", 2314: 'sitcom', 2315: 'serious', 2316: 'contractors', 2317: 'dumptruck', 2318: 'swatch', 2319: 'north', 2320: 'grabs', 2321: 'interesting', 2322: 'sudoku', 2323: \"she's\", 2324: \"when's\", 2325: 'speed', 2326: 'enlightened', 2327: 'slaves', 2328: \"changin'\", 2329: 'homesick', 2330: 'worried', 2331: \"department's\", 2332: 'moe-ron', 2333: 'neighbors', 2334: 'period', 2335: 'issuing', 2336: 'fall', 2337: 'maher', 2338: 'jobs', 2339: 'figured', 2340: 'nonsense', 2341: 'gloop', 2342: 'sweetie', 2343: 'football_announcer:', 2344: 'gay', 2345: 'shrugs', 2346: 'additional-seating-capacity', 2347: 'bets', 2348: \"usin'\", 2349: 'publishers', 2350: 'playoff', 2351: 'ribbon', 2352: \"you've\", 2353: 'grimly', 2354: 'eminence', 2355: \"tester's\", 2356: 'dr', 2357: 'repeated', 2358: 'devastated', 2359: 'incapable', 2360: 'practice', 2361: 'marry', 2362: 'correcting', 2363: 'pernt', 2364: 'chunky', 2365: 'puff', 2366: 'drinking:', 2367: 'patterns', 2368: 'milk', 2369: 'releases', 2370: 'half', 2371: 'may', 2372: 'ass', 2373: 'carl_carlson:', 2374: 'landfill', 2375: 'so', 2376: 'regretful', 2377: '1-800-555-hugs', 2378: 'runners', 2379: 'train', 2380: 'hundred', 2381: 'crowbar', 2382: 'faces', 2383: 'pause', 2384: 'billion', 2385: 'crowded', 2386: 'wussy', 2387: 'burt', 2388: 'heartless', 2389: 'mel', 2390: 'resenting', 2391: 'astonishment', 2392: 'jogging', 2393: 'numeral', 2394: 'ziff', 2395: 'choice', 2396: 'cigars', 2397: 'cutting', 2398: 'wakede', 2399: 'splash', 2400: 'hm', 2401: 'bowled', 2402: 'delivery_boy:', 2403: 'owes', 2404: 'committing', 2405: 'superhero', 2406: 'poem', 2407: 'email', 2408: 'pajamas', 2409: 'pointedly', 2410: 'ecru', 2411: 'drains', 2412: 'ourselves', 2413: 'lis', 2414: 'cakes', 2415: 'vincent', 2416: 'allowance', 2417: 'gabriel', 2418: 'soot', 2419: 'swear', 2420: 'items', 2421: 'smiles', 2422: '_zander:', 2423: 'musketeers', 2424: 'patriotic', 2425: 'joking', 2426: 'holidays', 2427: 'sisters', 2428: 'suspended', 2429: 'boxcar', 2430: 'done:', 2431: 'big', 2432: 'theory', 2433: 'column', 2434: 'jeff_gordon:', 2435: 'chuck', 2436: 'sotto', 2437: 'disposal', 2438: 'stretches', 2439: 'ooh', 2440: 'civic', 2441: 'flack', 2442: 'sleigh-horses', 2443: 'shortcomings', 2444: 'tigers', 2445: 'normal', 2446: 'destroyed', 2447: 'fierce', 2448: 'chair', 2449: 'stern', 2450: 'jigger', 2451: 'twenty', 2452: 'oof', 2453: 'closer', 2454: 'jernt', 2455: \"plaster's\", 2456: 'damn', 2457: 'singing', 2458: 'cushion', 2459: 'adult', 2460: 'three', 2461: 'comes', 2462: 'ho-ly', 2463: 'hop', 2464: 'excited', 2465: 'newsies', 2466: 'pus-bucket', 2467: 'department', 2468: 'anti-crime', 2469: 'therapist', 2470: 'decide', 2471: 'die', 2472: 'conspiracy', 2473: 'whisper', 2474: 'bid', 2475: 'donation', 2476: 'fatty', 2477: 'scrutinizing', 2478: 'stink', 2479: 'simpsons', 2480: 'answering', 2481: 'original', 2482: 'general', 2483: 'homers', 2484: 'attractive', 2485: 'shhh', 2486: 'told', 2487: 'dateline:', 2488: 'arm', 2489: \"games'd\", 2490: 'snitch', 2491: 'sledge-hammer', 2492: \"drivin'\", 2493: 'class', 2494: 'furry', 2495: 'almond', 2496: 'faiths', 2497: 'answer', 2498: 'examples', 2499: 'edge', 2500: 'label', 2501: 'flying', 2502: 'hotenhoffer', 2503: 'exited', 2504: 'awake', 2505: 'sheriff', 2506: 'composite', 2507: 'puffy', 2508: 'spilled', 2509: 'watered', 2510: 'inspection', 2511: 'mexicans', 2512: 'racially-diverse', 2513: 'faceful', 2514: 'dangerous', 2515: 'finance', 2516: 'defected', 2517: 'seven', 2518: 'edison', 2519: 'shock', 2520: 'sucked', 2521: 'depressant', 2522: 'jeter', 2523: 'believer', 2524: 'person', 2525: 'stares', 2526: 'dea-d-d-dead', 2527: \"rustlin'\", 2528: 'playful', 2529: 'gordon', 2530: 'ping-pong', 2531: 'regulations', 2532: 'attached', 2533: 'foibles', 2534: 'evening', 2535: 'rented', 2536: \"y'money's\", 2537: 'newest', 2538: 'drunkenly', 2539: 'nervous', 2540: 'music', 2541: 'pre-game', 2542: 'relax', 2543: 'transmission', 2544: 'cobbling', 2545: 'badge', 2546: 'agnes_skinner:', 2547: 'america', 2548: \"ol'\", 2549: 'represent', 2550: 'hate-hugs', 2551: 'pained', 2552: 'busy', 2553: 'helping', 2554: 'wide', 2555: 'insulted', 2556: 'celebration', 2557: 'eighty-six', 2558: 'urge', 2559: 'huggenkiss', 2560: 'butt', 2561: 'weep', 2562: 'kicks', 2563: 'diminish', 2564: 'bono:', 2565: 'citizens', 2566: 'cops', 2567: 'unattractive', 2568: 'mumbling', 2569: 'ding-a-ding-ding-ding-ding-ding-ding', 2570: 'self-esteem', 2571: 'item', 2572: 'food', 2573: 'whaddya', 2574: 'hugh:', 2575: 'friendship', 2576: 'sports_announcer:', 2577: 'taken', 2578: 'meaningful', 2579: 'already', 2580: 'new_health_inspector:', 2581: 'lone', 2582: 'ancient', 2583: 'depending', 2584: \"lookin'\", 2585: 'tastes', 2586: 'choking', 2587: 'firmly', 2588: 'jay', 2589: 'calvin', 2590: 'atlanta', 2591: 'professor_jonathan_frink:', 2592: 'sex', 2593: 'hillbillies', 2594: 'society', 2595: 'species', 2596: 'adopted', 2597: 'slot', 2598: \"can't\", 2599: 'these', 2600: 'warily', 2601: 'inserts', 2602: 'clothes', 2603: \"marge's\", 2604: 'k-zug', 2605: 'isle', 2606: 'ditched', 2607: 'wayne', 2608: 'mmm-hmm', 2609: 'buddies', 2610: 'sensitivity', 2611: 'cute', 2612: 'winston', 2613: 'experiments', 2614: 'michael', 2615: 'everything', 2616: 'collateral', 2617: 'things', 2618: 'nineteen', 2619: 'ginger', 2620: 'george', 2621: 'insults', 2622: 'wealthy', 2623: 'insurance', 2624: 'spend', 2625: 'instrument', 2626: 's-a-u-r-c-e', 2627: 'cockroaches', 2628: 'barney-guarding', 2629: 'amid', 2630: 'upon', 2631: 'soon', 2632: 'dad', 2633: 'hammy', 2634: 'terrace', 2635: 'industry', 2636: 'legal', 2637: 'ale', 2638: 'certain', 2639: 'yeah', 2640: 'presto:', 2641: 'nards', 2642: 'breaking', 2643: 'gator', 2644: 'declan_desmond:', 2645: 'chug-monkeys', 2646: 'ignorance', 2647: 'fund', 2648: 'sober', 2649: 'flexible', 2650: 'refund', 2651: 'texas', 2652: 'half-day', 2653: 'stripe', 2654: 'tolerance', 2655: 'sleep', 2656: 'nantucket', 2657: 'patron_#2:', 2658: 'binoculars', 2659: 'exception:', 2660: 'information', 2661: 'scam', 2662: 'open-casket', 2663: 'doppler', 2664: \"cont'd:\", 2665: 'fifteen', 2666: 'teen', 2667: 'fad', 2668: 'recap:', 2669: 'suburban', 2670: 'craphole', 2671: 'chow', 2672: 'comedies', 2673: 'crap', 2674: 'tax', 2675: 'held', 2676: 'often', 2677: 'sneak', 2678: 'address', 2679: 'knock-up', 2680: 'seek', 2681: 'clears', 2682: 'cheerier', 2683: 'fl', 2684: 'hiya', 2685: 'hilarious', 2686: \"fine-lookin'\", 2687: 'between', 2688: 'button-pusher', 2689: 'chipped', 2690: 'well', 2691: 'named', 2692: 'ah-ha', 2693: 'intervention', 2694: 'annus', 2695: 'woman', 2696: 'fritz:', 2697: 'dropping', 2698: 'officer', 2699: 'dramatic', 2700: 'camp', 2701: 'distraught', 2702: 'entertainer', 2703: 'begins', 2704: 'use', 2705: 'manboobs', 2706: 'woo', 2707: 'practically', 2708: 'fake', 2709: 'boozehound', 2710: 'was', 2711: 'winded', 2712: 'excavating', 2713: 'temple', 2714: 'drives', 2715: 'sight-unseen', 2716: 'grease', 2717: 'turlet', 2718: 'check', 2719: 'raggie', 2720: '10:15', 2721: 'glen', 2722: 'stole', 2723: 'gluten', 2724: 'absentminded', 2725: 'stones', 2726: 'wholeheartedly', 2727: 'lend', 2728: 'swishkabobs', 2729: 'choked-up', 2730: 'nods', 2731: 'pirate', 2732: 'dinner', 2733: 'bridges', 2734: 'wrestling', 2735: 'skills', 2736: 'act', 2737: 'crawl', 2738: 'title:', 2739: 'counter', 2740: 'screws', 2741: 'dunno', 2742: 'standing', 2743: 'sexual', 2744: 'fast', 2745: 'supplying', 2746: 'clone', 2747: 'operation', 2748: 'pity', 2749: 'laugh', 2750: 'fourth', 2751: 'says', 2752: 'remember', 2753: 'manager', 2754: 'kicked', 2755: 'whale', 2756: 'railroads', 2757: 'watt', 2758: 'heck', 2759: 'barney-type', 2760: 'vote', 2761: 'credit', 2762: 'spot', 2763: 'beautiful', 2764: 'perfume', 2765: 'mocking', 2766: 'hub', 2767: 'entirely', 2768: 'dennis_conroy:', 2769: 'producers', 2770: 'of', 2771: 'tinkle', 2772: 'specializes', 2773: 'matter', 2774: 'latin', 2775: 'spotting', 2776: 'ragtime', 2777: 'european', 2778: 'hammock', 2779: 'flips', 2780: 'lou:', 2781: 'life', 2782: 'kids', 2783: \"renovatin'\", 2784: 'salad', 2785: 'ferry', 2786: 'poet', 2787: 'wad', 2788: 'human', 2789: 'beaumont', 2790: 'window', 2791: 'stab', 2792: 'statesmanlike', 2793: 'unjustly', 2794: \"'til\", 2795: 'gently', 2796: 'football', 2797: 'twelve', 2798: 'panicked', 2799: 'virile', 2800: 'superpower', 2801: 'seats', 2802: 'without', 2803: 'specific', 2804: 'and-and', 2805: 'nightmares', 2806: 'prizefighters', 2807: 'newspaper', 2808: 'comment', 2809: \"bein'\", 2810: 'kahlua', 2811: 'dealer', 2812: 'half-back', 2813: 'anyhow', 2814: 'compete', 2815: 'brotherhood', 2816: '35', 2817: 'hilton', 2818: 'tomahto', 2819: 'pusillanimous', 2820: 'seriously', 2821: 'agent_johnson:', 2822: 'real', 2823: 'mock', 2824: \"cupid's\", 2825: 'kidney', 2826: 'infestation', 2827: 'washouts', 2828: 'rusty', 2829: 'patented', 2830: 'word', 2831: 'record', 2832: 'nein', 2833: 'grudgingly', 2834: 'tuborg', 2835: 'youth', 2836: 'sad', 2837: \"fallin'\", 2838: 'beard', 2839: 'midnight', 2840: 'wiener', 2841: 'contented', 2842: 'joey_kramer:', 2843: 'wind', 2844: 're:', 2845: 'virtual', 2846: 'reptile', 2847: 'flush', 2848: 'cozy', 2849: 'winch', 2850: 'sap', 2851: 'drawn', 2852: 'exciting', 2853: 'host', 2854: 'forbids', 2855: 'mortgage', 2856: 'hydrant', 2857: 'misconstrue', 2858: 'super-tough', 2859: 'delicately', 2860: 'luckily', 2861: 'milhouses', 2862: 'heard', 2863: 'rosey', 2864: 'illegally', 2865: 'executive', 2866: 'rebuilt', 2867: 'charm', 2868: 'try', 2869: 'infiltrate', 2870: \"america's\", 2871: 'nauseous', 2872: 'hairs', 2873: 'carl:', 2874: 'tokens', 2875: 'safely', 2876: 'certified', 2877: 'easy-going', 2878: 'alone', 2879: 'insensitive', 2880: 'modest', 2881: 'british', 2882: 'brow', 2883: 'celebrate', 2884: 'billy_the_kid:', 2885: 'forget', 2886: 'bucket', 2887: 'neon', 2888: 'pall', 2889: 'eightball', 2890: 'glitterati', 2891: 'comic', 2892: 'future', 2893: 'expression', 2894: \"foolin'\", 2895: 'andalay', 2896: 'juan', 2897: 'democracy', 2898: 'here-here-here', 2899: 'perverted', 2900: 'trusted', 2901: 'ones', 2902: 'garbage', 2903: 'malted', 2904: 'mess', 2905: 'completely', 2906: 'fastest', 2907: 'wave', 2908: 'way', 2909: 'line', 2910: 'looser', 2911: 'young_barfly:', 2912: 'young_homer:', 2913: 'throwing', 2914: 'waylon_smithers:', 2915: 'cheapskates', 2916: 'anymore', 2917: 'danish', 2918: \"tryin'\", 2919: 'mitts', 2920: 'jump', 2921: 'thinking', 2922: 'heh-heh', 2923: 'ingredient', 2924: 'donate', 2925: 'bart', 2926: 'sweet', 2927: \"listenin'\", 2928: \"won't\", 2929: 'get', 2930: \"doin'\", 2931: 'slugger', 2932: 'crowds', 2933: 'dumbest', 2934: 'sitar', 2935: 'skinner', 2936: 'peeping', 2937: 'disturbance', 2938: 'mcstagger', 2939: 'gonna', 2940: 'being', 2941: 'dark', 2942: 'nordiques', 2943: 'majority', 2944: 'whoopi', 2945: 'furiously', 2946: 'fight', 2947: \"they're\", 2948: 'evils', 2949: \"tinklin'\", 2950: 'safecracker', 2951: \"somethin'\", 2952: 'diddilies', 2953: 'why', 2954: '250', 2955: 'sue', 2956: 'a-b-', 2957: \"could've\", 2958: 'churchy', 2959: 'pickles', 2960: 'punch', 2961: 'snapping', 2962: 'donuts', 2963: 'had', 2964: 'played', 2965: 'baseball', 2966: 'facebook', 2967: 'powered', 2968: 'intimacy', 2969: 'teenage_homer:', 2970: 'quarterback', 2971: 'welcome', 2972: 'encouraged', 2973: \"tony's\", 2974: 'involving', 2975: 'not', 2976: 'newsletter', 2977: 'crushed', 2978: 'interested', 2979: 'clearly', 2980: 'add', 2981: 'helicopter', 2982: 'unusually', 2983: 'none', 2984: 'take', 2985: 'chipper', 2986: 'cooker', 2987: 'bold', 2988: 'duff_announcer:', 2989: 'tradition', 2990: 'very', 2991: 'liable', 2992: 'larry', 2993: 'jets', 2994: 'election', 2995: 'eighty-seven', 2996: 'shirt', 2997: 'want', 2998: 'adjourned', 2999: 'strains', 3000: 'scully', 3001: 'stamp', 3002: 'frustrated', 3003: 'creature', 3004: 'vestigial', 3005: \"callin'\", 3006: 'pays', 3007: 'kodos:', 3008: 'contemporary', 3009: 'housework', 3010: 'easter', 3011: 'isotopes', 3012: 'besides', 3013: 'haircuts', 3014: 'macbeth', 3015: 'begin', 3016: \"we're\", 3017: 'asks', 3018: 'j', 3019: 'problemo', 3020: '8', 3021: 'kermit', 3022: 'chill', 3023: 'other_book_club_member:', 3024: 'edna-lover-one-seventy-two', 3025: 'drink', 3026: 'peaked', 3027: 'expert', 3028: 'wondering', 3029: 'u', 3030: 'hours', 3031: 'tell', 3032: 'realizing', 3033: 'knowingly', 3034: 'tiger', 3035: 'fresco', 3036: 'rickles', 3037: \"liberty's\", 3038: 'cesss', 3039: 'exploiter', 3040: 'indifferent', 3041: 'share', 3042: 'girlfriend', 3043: 'pledge', 3044: 'duty', 3045: 'mrs', 3046: 'liser', 3047: 'sponsor', 3048: 'pushes', 3049: 'allow', 3050: 'nominated', 3051: 'forgets', 3052: 'thoughtful', 3053: 'serum', 3054: 'dump', 3055: 'service', 3056: \"playin'\", 3057: 'reaction', 3058: 'oh', 3059: 'privacy', 3060: \"livin'\", 3061: 'recently', 3062: 'grandiose', 3063: 'thighs', 3064: \"doesn't\", 3065: 'kinda', 3066: 'fixed', 3067: 'certificate', 3068: 'guest', 3069: 'e', 3070: 'szyslak', 3071: 'regret', 3072: 'hellhole', 3073: 'popped', 3074: 'grub', 3075: 'players', 3076: 'brooklyn', 3077: 'are', 3078: \"somethin':\", 3079: 'names', 3080: 'indigenous', 3081: 'swings', 3082: 'shape', 3083: 'al', 3084: 'rotten', 3085: 'a-lug', 3086: 'exchange', 3087: 'anonymous', 3088: 'happiness', 3089: 'bar:', 3090: 'thanksgiving', 3091: 'killer', 3092: 'badmouths', 3093: 'signed', 3094: 'stagehand:', 3095: 'corkscrew', 3096: 'folks', 3097: 'quotes', 3098: 'books', 3099: 'thirty-five', 3100: 'emotional', 3101: 'düff', 3102: 'treats', 3103: \"professor's\", 3104: 'jesus', 3105: 'plane', 3106: 'result', 3107: 'face-macer', 3108: 'imitating', 3109: 'possessions', 3110: 'mic', 3111: 'stalwart', 3112: 'foil', 3113: 'sieben-gruben', 3114: 'phony', 3115: 'kidding', 3116: 'favor', 3117: 'pennies', 3118: 'slays', 3119: 'tar-paper', 3120: 'rolled', 3121: 'need', 3122: 'chinese_restaurateur:', 3123: \"fryer's\", 3124: \"yesterday's\", 3125: 'skeptical', 3126: 'uninhibited', 3127: 'stay-puft', 3128: 'muscle', 3129: 'might', 3130: 'worse', 3131: \"'roids\", 3132: 'slop', 3133: 'market', 3134: 'dammit', 3135: 'in-in-in', 3136: 'faint', 3137: 'empty', 3138: 'sexton', 3139: 'nigeria', 3140: 'grind', 3141: 'ten', 3142: 'stolen', 3143: 'clammy', 3144: \"it'll\", 3145: 'streetlights', 3146: 'eaters', 3147: 'wildest', 3148: 'rotch', 3149: 'furious', 3150: 'buzziness', 3151: 'monroe', 3152: 'visas', 3153: 'neither', 3154: 'tall', 3155: 'shareholder', 3156: 'application', 3157: 'blimp', 3158: 'sense', 3159: 'photo', 3160: 'tidy', 3161: 'hungry', 3162: 'sabermetrics', 3163: 'your', 3164: 'tourist', 3165: 'williams', 3166: 'displeased', 3167: 'pantry', 3168: 'peace', 3169: \"patrick's\", 3170: 'gang', 3171: 'thunder', 3172: 'dude', 3173: \"hobo's\", 3174: 'ape-like', 3175: 'squashing', 3176: 'friends', 3177: 'employees', 3178: 'tab', 3179: 'courteous', 3180: 'chip', 3181: 'winner', 3182: \"brockman's\", 3183: 'shades', 3184: 'couch', 3185: 'harm', 3186: 'duffman', 3187: 'designated', 3188: 'dirt', 3189: 'tabs', 3190: 'frankie', 3191: \"breakin'\", 3192: 'punk', 3193: 'bottom', 3194: 'bourbon', 3195: 'working', 3196: \"scammin'\", 3197: 'bottomless', 3198: 'perking', 3199: 'pleading', 3200: 'arise', 3201: 'problem', 3202: 'arabs', 3203: 'vulnerable', 3204: 'cavern', 3205: 'captain', 3206: 'crank', 3207: 'enabling', 3208: 'wienerschnitzel', 3209: 'mcclure', 3210: 'startled', 3211: 'rather', 3212: 'gees', 3213: 'hell', 3214: 'stores', 3215: 'mortal', 3216: 'mansions', 3217: 'most', 3218: 'feeling', 3219: \"who'll\", 3220: 'rubs', 3221: 'reconsidering', 3222: 'lenny:', 3223: 'sooner', 3224: 'cake', 3225: 'beverage', 3226: 'girls', 3227: 'tang', 3228: 'sit', 3229: 'edgy', 3230: 'soul-crushing', 3231: 'southern', 3232: 'distract', 3233: 'beached', 3234: 'and:', 3235: 'nameless', 3236: 'mirthless', 3237: 'reporter', 3238: 'lewis', 3239: 'forecast', 3240: 'reserved', 3241: 'methinks', 3242: 'creeps', 3243: 'project', 3244: 'yawns', 3245: 'incredible', 3246: 'simultaneous', 3247: 'annoying', 3248: 'modestly', 3249: 'catching', 3250: 'manipulation', 3251: 'rob', 3252: 'cheryl', 3253: 'greetings', 3254: 'square', 3255: 'license', 3256: 'chew', 3257: \"drexel's\", 3258: 'gag', 3259: 'micronesian', 3260: 'tofu', 3261: 'polish', 3262: 'hawking:', 3263: 'agh', 3264: 'ayyy', 3265: 'laws', 3266: 'kirk_van_houten:', 3267: \"buyin'\", 3268: 'disappeared', 3269: \"spyin'\", 3270: 'crumble', 3271: 'don', 3272: 'ninth', 3273: 'quality', 3274: 'brain-switching', 3275: 'stairs', 3276: 'long', 3277: 'wait', 3278: 'deep', 3279: 'souvenir', 3280: 'yard', 3281: 'eleven', 3282: 'stooges', 3283: 'massachusetts', 3284: 'thru', 3285: 'manfred', 3286: 'yee-ha', 3287: 'blind', 3288: 'egg', 3289: 'considering', 3290: 'rebuttal', 3291: 'heart-broken', 3292: 'cletus_spuckler:', 3293: 'weight', 3294: 'curse', 3295: 'breath', 3296: 'waylon', 3297: 'colossal', 3298: 'tapping', 3299: 'shares', 3300: 'pipes', 3301: 'sings', 3302: 'alfalfa', 3303: 'unison', 3304: 'holding', 3305: 'hang', 3306: 'chin', 3307: 'bag', 3308: 'honey', 3309: 'wangs', 3310: 'ripped', 3311: 'belch', 3312: 'tribute', 3313: 'kansas', 3314: 'rookie', 3315: 'fudd', 3316: 'kitchen', 3317: 'absentmindedly', 3318: 'read:', 3319: 'fat-free', 3320: 'lives', 3321: 'chuckles', 3322: 'andy', 3323: 'itself', 3324: 'law-abiding', 3325: 'loud', 3326: 'tow-talitarian', 3327: 'flanders:', 3328: 'noose', 3329: 'hushed', 3330: 'ing', 3331: 'rock', 3332: 'mines', 3333: 'stan', 3334: 'treasure', 3335: 'admiring', 3336: 'rome', 3337: 'broadway', 3338: 'symphonies', 3339: 'arts', 3340: 'exact', 3341: 'schorr', 3342: \"y'know\", 3343: 'lush', 3344: 'season', 3345: \"lefty's\", 3346: 'cat', 3347: \"kiddin'\", 3348: 'wild', 3349: 'arguing', 3350: 'dislike', 3351: 'orphan', 3352: 'across', 3353: '||return||', 3354: 'rancid', 3355: 'broad', 3356: 'car:', 3357: 'stories', 3358: 'third', 3359: 'text', 3360: 'commanding', 3361: 'barney-shaped_form:', 3362: 'dispenser', 3363: 'minister', 3364: 'field', 3365: 'dramatically', 3366: 'four-star', 3367: 'pep', 3368: 'maybe', 3369: 'well-wisher', 3370: 'weak', 3371: 'sunglasses', 3372: 'warren', 3373: 'sniffles', 3374: 'hidden', 3375: 'strategy', 3376: 'genuinely', 3377: 'smart', 3378: 'iran', 3379: 'salary', 3380: 'huge', 3381: 'lance', 3382: 'anybody', 3383: 'vacation', 3384: 'waitress', 3385: 'vengeance', 3386: 'remembering', 3387: 'court', 3388: \"fishin'\", 3389: 'from', 3390: 'ticket', 3391: 'soup', 3392: 'son', 3393: 'notices', 3394: 'starve', 3395: 'não', 3396: 'getup', 3397: 'cheered', 3398: 'old', 3399: 'group', 3400: 'day', 3401: 'weirder', 3402: 'name:', 3403: 'sweeter', 3404: '_timothy_lovejoy:', 3405: 'meaningfully', 3406: 'missing', 3407: 'trip', 3408: 'gamble', 3409: \"'cept\", 3410: 'army', 3411: 'supply', 3412: 'brakes', 3413: 'equal', 3414: 'flayvin', 3415: 'kissed', 3416: 'doll-baby', 3417: 'cure', 3418: 'pint', 3419: 'bathing', 3420: 'pig', 3421: 'paid', 3422: 'stewart', 3423: 'crab', 3424: 'computer_voice_2:', 3425: 'moans', 3426: 'cattle', 3427: \"dad's\", 3428: 'match', 3429: 'statues', 3430: 'mid-seventies', 3431: 'crotch', 3432: 'tip', 3433: 'wake', 3434: 'ruin', 3435: 'look', 3436: 'barter', 3437: 'tied', 3438: 'super', 3439: 'steamed', 3440: 'boxing', 3441: 'when-i-get-a-hold-of-you', 3442: 'bus', 3443: \"enjoyin'\", 3444: 'sheets', 3445: 'ehhhhhhhhh', 3446: 'could', 3447: 'earrings', 3448: 'stagy', 3449: 'bad', 3450: 'prepared', 3451: 'weirded-out', 3452: 'conference', 3453: 'position', 3454: 'grey', 3455: 'finale', 3456: 'month', 3457: \"she'll\", 3458: 'pillows', 3459: 'excuse', 3460: 'belches', 3461: 'term', 3462: 'flowers', 3463: 'ear', 3464: 'philosophical', 3465: 'brought', 3466: 'divorced', 3467: 'brunch', 3468: 'jumps', 3469: 'california', 3470: 'dungeon', 3471: 'gesture', 3472: 'compels', 3473: 'aerosmith', 3474: 'boxing_announcer:', 3475: 'eight', 3476: 'sauce', 3477: 'squeals', 3478: 'book', 3479: 'starla', 3480: 'chance', 3481: 'bell', 3482: 'short_man:', 3483: 'whirlybird', 3484: 'goodwill', 3485: 'island', 3486: 'liquor', 3487: \"makin'\", 3488: 'blocked', 3489: 'goodnight', 3490: 'soaps', 3491: 'carolina', 3492: 'mayor', 3493: 'borrow', 3494: 'wizard', 3495: 'whaaaa', 3496: 'fever', 3497: 'sucks', 3498: 'bowl', 3499: 'twenty-five', 3500: 'germans', 3501: 'desire', 3502: 'gasps', 3503: 'bald', 3504: 'sugar-free', 3505: 'specialists', 3506: 'grammys', 3507: 'filth', 3508: 'tragedy', 3509: \"squeezin'\", 3510: 'officials', 3511: 'instead', 3512: 'doy', 3513: 'dictating', 3514: 'health', 3515: 'smoothly', 3516: \"collector's\", 3517: 'ballclub', 3518: 'hopeful', 3519: 'thoughts', 3520: 'even', 3521: 'talk', 3522: 'stools', 3523: 'lou', 3524: 'hero', 3525: 'suds', 3526: \"moe's\", 3527: 'city', 3528: 'delighted', 3529: 'raging', 3530: 'takeaway', 3531: 'bidet', 3532: 'purveyor', 3533: 'shred', 3534: 'shack', 3535: 'leprechaun', 3536: 'goblins', 3537: 'telegraph', 3538: 'making', 3539: 'düffenbraus', 3540: 'bee', 3541: \"swishifyin'\", 3542: 'fantastic', 3543: 'page', 3544: 'sadistic_barfly:', 3545: 'toms', 3546: 'afford', 3547: 'p-k', 3548: 'shows', 3549: \"ya'\", 3550: 'milhouse', 3551: 'bob', 3552: 'super-nice', 3553: 'dropped', 3554: \"tramp's\", 3555: 'ram', 3556: 'dint', 3557: 'necklace', 3558: 'choked', 3559: 'table', 3560: 'extra', 3561: 'urinal', 3562: 'barney', 3563: 'mariah', 3564: 'wheel', 3565: 'bedroom', 3566: 'wish', 3567: 'ura', 3568: 'gave', 3569: 'cuckoo', 3570: 'compressions', 3571: 'deer', 3572: 'beef', 3573: 'willy', 3574: 'shard', 3575: 'hurts', 3576: 'mommy', 3577: 'bulked', 3578: 'gruesome', 3579: 'favorite', 3580: 'aer', 3581: 'yells', 3582: 'wistful', 3583: 'breathalyzer', 3584: 'flag', 3585: 'janette', 3586: 'annual', 3587: 'al_gore:', 3588: 'nigerian', 3589: 'guns', 3590: 'smooth', 3591: 'probably', 3592: 'prince', 3593: 'strictly', 3594: 'digging', 3595: 'wear', 3596: 'britannia', 3597: 'harrowing', 3598: 'pages', 3599: 'luckiest', 3600: 'loneliness', 3601: 'dreamy', 3602: 'ready', 3603: 'everywhere', 3604: 'all-american', 3605: 'pulling', 3606: 'wudgy', 3607: 'winks', 3608: 'blue', 3609: 'muttering', 3610: 'female_inspector:', 3611: 'cars', 3612: 'buzz', 3613: 'couple', 3614: 'fireball', 3615: 'tummies', 3616: 'octa-', 3617: \"ain't\", 3618: 'king', 3619: 'throat', 3620: 'melodramatic', 3621: 'wieners', 3622: 'lose', 3623: 'sesame', 3624: 'pope', 3625: 'government', 3626: 'marvelous', 3627: 'gore', 3628: 'liver', 3629: 'yup', 3630: 'dank', 3631: \"year's\", 3632: 'capuchin', 3633: 'house', 3634: 'estranged', 3635: 'sickly', 3636: 'steaming', 3637: 'temper', 3638: 'haiti', 3639: 'pats', 3640: 'har', 3641: 'bonfire', 3642: 'hey', 3643: 'artist', 3644: 'show', 3645: 'permitting', 3646: 'idea', 3647: 'trench', 3648: '-ry', 3649: 'specials', 3650: 'legs', 3651: 'bible', 3652: 'million', 3653: 'hugh', 3654: 'safe', 3655: 'miserable', 3656: 'oblongata', 3657: 'backwards', 3658: 'died', 3659: 'mags', 3660: 'undies', 3661: 'lobster', 3662: 'oooo', 3663: 'bags', 3664: 'immiggants', 3665: 'hitchhike', 3666: 'earpiece', 3667: 'kako:', 3668: 'unforgettable', 3669: 'catholic', 3670: 'presently', 3671: 'boneheaded', 3672: 'bars', 3673: 'beats', 3674: 'goodbye', 3675: 'such', 3676: 'network', 3677: 'quero', 3678: 'whaddaya', 3679: 'effects', 3680: 'michelin', 3681: 'contemplates', 3682: 'mice', 3683: 'headhunters', 3684: 'rationalizing', 3685: \"bashir's\", 3686: 'memory', 3687: 'games', 3688: 'driver', 3689: 'gotcha', 3690: 'whistling', 3691: 'broke', 3692: 'heading', 3693: 'family', 3694: 'unavailable', 3695: 'whaaa', 3696: 'hotel', 3697: 'following', 3698: 'butter', 3699: 'donor', 3700: 'defensive', 3701: 'togetherness', 3702: 'tiny', 3703: 'awesome', 3704: 'seminar', 3705: 'dateline', 3706: 'mill', 3707: 'alibi', 3708: 'bite', 3709: 'sponsoring', 3710: 'inside', 3711: 'phlegm', 3712: 'poulet', 3713: 'fatso', 3714: \"knockin'\", 3715: 'agents', 3716: 'eighty-five', 3717: 'managing', 3718: 'works', 3719: 'material', 3720: 'diets', 3721: 'realized', 3722: 'clinton', 3723: 'sky', 3724: 'soft', 3725: 'woman:', 3726: \"fun's\", 3727: 'passenger', 3728: 'unlike', 3729: 'cyrano', 3730: 'idiot', 3731: 'poking', 3732: 'various', 3733: 'snotty', 3734: '4x4', 3735: 'routine', 3736: 'chapter', 3737: 'broom', 3738: 'stickers', 3739: 'rumaki', 3740: 'summer', 3741: 'think', 3742: 'terrorizing', 3743: 'f-l-a-n-r-d-s', 3744: 'bragging', 3745: 'raccoons', 3746: 'swelling', 3747: \"workin'\", 3748: 'hockey-fight', 3749: 'acquaintance', 3750: 'helen', 3751: \"city's\", 3752: 'blackjack', 3753: 'ignorant', 3754: 'hourly', 3755: 'losing', 3756: 'moolah-stealing', 3757: 'mouths', 3758: 'flown', 3759: 'scientists', 3760: 'yourself', 3761: 'phone', 3762: 'plums', 3763: 'nailed', 3764: 'cowboys', 3765: 'star', 3766: 'stunned', 3767: 'break', 3768: 'index', 3769: 'bill_james:', 3770: 'yellow-belly', 3771: 'an', 3772: 'jeez', 3773: 'sodas', 3774: 'ambrosia', 3775: 'kills', 3776: \"coffee'll\", 3777: 'kept', 3778: 'dryer', 3779: 'shreda', 3780: 'grieving', 3781: 'simple', 3782: 'mole', 3783: 'sec_agent_#1:', 3784: 'snatch', 3785: 'due', 3786: 'involved', 3787: 'lee', 3788: 'emergency', 3789: \"somethin's\", 3790: 'broncos', 3791: 'strap', 3792: 'attach', 3793: 'supreme', 3794: 'margarita', 3795: 'second', 3796: 'anderson', 3797: 'proves', 3798: 'career', 3799: 'fonzie', 3800: 'office', 3801: 'shakespeare', 3802: 'daddy', 3803: 'pageant', 3804: 'france', 3805: 'lindsay_naegle:', 3806: 'kickoff', 3807: 'fingers', 3808: 'enveloped', 3809: 'walked', 3810: 'civilization', 3811: 'authenticity', 3812: 'pitcher', 3813: 'including', 3814: 'sent', 3815: 'feel', 3816: 'program', 3817: 'loved', 3818: 'thanks', 3819: 'gear-head', 3820: 'plain', 3821: 'against', 3822: 'clap', 3823: 'special', 3824: 'stranger:', 3825: 'cloudy', 3826: 'keeps', 3827: 'fixes', 3828: 'abusive', 3829: 'dreary', 3830: 'eats', 3831: 'wazoo', 3832: 'remote', 3833: 'closing', 3834: 'ugliest', 3835: 'show-off', 3836: 'blade', 3837: 'cologne', 3838: 'nemo', 3839: 'fellow', 3840: 'abe', 3841: 'floated', 3842: \"bettin'\", 3843: 'lips', 3844: 'least', 3845: 'intoxicated', 3846: 'gin', 3847: 'rope', 3848: 'followed', 3849: 'shoulda', 3850: 'listened', 3851: 'lodge', 3852: 'proudly', 3853: \"starla's\", 3854: 'wrote', 3855: 'pian-ee', 3856: 'lord', 3857: 'cost', 3858: 'blood-thirsty', 3859: 'remaining', 3860: 'sec_agent_#2:', 3861: 'best', 3862: 'quitcher', 3863: 'calls', 3864: 'ceremony', 3865: 'play', 3866: 'cab_driver:', 3867: 'cigarettes', 3868: 'flashbacks', 3869: 'color', 3870: 'vomit', 3871: 'eternity', 3872: 'dollface', 3873: 'speaking', 3874: 'crossed', 3875: 'flanders', 3876: 'marched', 3877: 'stu', 3878: 'mixed', 3879: 'buyer', 3880: \"isn't\", 3881: 'housewife', 3882: 'introduce', 3883: 'fool', 3884: 'finish', 3885: 'lucius', 3886: 'pardon', 3887: 'whispered', 3888: 'fonda', 3889: 'finger', 3890: 'felony', 3891: 'killarney', 3892: 'johnny_carson:', 3893: 'joining', 3894: 'contact', 3895: \"there's\", 3896: 'pills', 3897: 'ireland', 3898: 'stumble', 3899: 'suck', 3900: 'tomatoes', 3901: 'gotta', 3902: 'silent', 3903: 'by', 3904: 'cowboy', 3905: 'mint', 3906: 'top', 3907: 'calculate', 3908: 'inclination', 3909: 'unearth', 3910: 'dishonor', 3911: 'roomy', 3912: 'texan', 3913: 'scary', 3914: 'humanity', 3915: 'minus', 3916: \"can'tcha\", 3917: 'somebody', 3918: 'lloyd:', 3919: 'otherwise', 3920: 'clincher', 3921: 'onto', 3922: 'punching', 3923: 'savagely', 3924: 'un-sults', 3925: 'system', 3926: 'proposition', 3927: 'convenient', 3928: 'safety', 3929: 'chilly', 3930: 'dying', 3931: 'menace', 3932: 'knuckle-dragging', 3933: 'cheated', 3934: 'musta', 3935: 'looting', 3936: 'contract', 3937: 'guzzles', 3938: 'test-', 3939: '100', 3940: 'shrugging', 3941: 'ding-a-ding-ding-a-ding-ding', 3942: 'samples', 3943: 'six-barrel', 3944: 'falsetto', 3945: 'toward', 3946: 'clean', 3947: 'slim', 3948: 'what-for', 3949: 'stand', 3950: 'formico:', 3951: 'leak', 3952: 'theatah', 3953: \"friend's\", 3954: 'picked', 3955: 'awareness', 3956: 'door', 3957: \"tv's\", 3958: 'voicemail', 3959: 'company', 3960: 'app', 3961: 'beating', 3962: 'pure', 3963: 'squirrel', 3964: 'eh', 3965: 'finding', 3966: \"table's\", 3967: 'negative', 3968: 'thousand', 3969: 'sanctuary', 3970: 'wayne:', 3971: 'oils', 3972: 'graveyard', 3973: 'arm-pittish', 3974: 'crazy', 3975: 'lainie:', 3976: 'aggie', 3977: 'justice', 3978: 'presents', 3979: 'wine', 3980: 'gargoyles', 3981: 'stir', 3982: \"sat's\", 3983: 'parenting', 3984: 'forget-me-drinks', 3985: 'brains', 3986: 'attractive_woman_#1:', 3987: 'jack', 3988: 'foundation', 3989: 'addiction', 3990: \"yieldin'\", 3991: 'placing', 3992: 'deacon', 3993: 'dealt', 3994: 'squadron', 3995: 'elder', 3996: 'hoo', 3997: 'brockman', 3998: 'wham', 3999: 'fights', 4000: 'toe', 4001: 'start', 4002: 'revenge', 4003: 'sitting', 4004: 'inserted', 4005: \"toot's\", 4006: 'venom', 4007: 'prize', 4008: 'watashi', 4009: 'miss', 4010: 'pharmaceutical', 4011: 'ran', 4012: 'minors', 4013: 'appropriate', 4014: 'looooooooooooooooooong', 4015: 'photographer', 4016: 'mop', 4017: 'runt', 4018: 'gossipy', 4019: 'example', 4020: 'vulgar', 4021: 'pip', 4022: 'suave', 4023: 'ronstadt', 4024: 'gator:', 4025: 'sister-in-law', 4026: 'till', 4027: 'bookie', 4028: 'butts', 4029: '||left_parentheses||', 4030: 'arrest', 4031: 'scientific', 4032: 'usually', 4033: \"g'night\", 4034: 'rules', 4035: 'cummerbund', 4036: 'charity', 4037: 'presumir', 4038: \"choosin'\", 4039: 'rats', 4040: 'touch', 4041: 'hoagie', 4042: 'flailing', 4043: 'riding', 4044: 'showed', 4045: 'roy', 4046: 'haws', 4047: 'there', 4048: 'burp', 4049: 'eyesore', 4050: 'whoo', 4051: \"bladder's\", 4052: 'blinded', 4053: 'them', 4054: 'maya', 4055: 'groans', 4056: 'turn', 4057: 'lady_duff:', 4058: 'oww', 4059: 'illegal', 4060: 'lushmore', 4061: 'thing:', 4062: 'force', 4063: 'ripper', 4064: 'simp-sonnnn', 4065: 'stamps', 4066: 'anniversary', 4067: 'sharity', 4068: 'malabar', 4069: 'unfresh', 4070: 'warned', 4071: 'cauliflower', 4072: 'presentable', 4073: 'precious', 4074: 'groveling', 4075: 'puke-pail', 4076: 'wildfever', 4077: 'apply', 4078: 'came', 4079: \"drawin'\", 4080: 'sympathetic', 4081: 'bad-mouth', 4082: 'sell', 4083: 'handling', 4084: 'hardhat', 4085: \"hell's\", 4086: 'grim', 4087: 'gentleman:', 4088: 'achem', 4089: 'errrrrrr', 4090: 'halfway', 4091: 'shot', 4092: 'move', 4093: 'dumb', 4094: 'poker', 4095: \"rasputin's\", 4096: \"s'cuse\", 4097: 'shill', 4098: 'grinch', 4099: 'ninety-six', 4100: 'barbara', 4101: 'abercrombie', 4102: 'dinks', 4103: 'figures', 4104: 'dreamily', 4105: 'rabbits', 4106: 'sooo', 4107: 'buried', 4108: 'glad', 4109: 'kadlubowski', 4110: 'spitting', 4111: 'soaking', 4112: 'woozy', 4113: \"people's\", 4114: 'customers-slash-only', 4115: 'wound', 4116: 'heh', 4117: 'disgrace', 4118: 'ford', 4119: \"man's_voice:\", 4120: 'puke-holes', 4121: 'unhook', 4122: 'bones', 4123: 'thawing', 4124: 'concentrate', 4125: 'commit', 4126: 'goo', 4127: 'windowshade', 4128: 'bellyaching', 4129: 'eyeballs', 4130: 'although', 4131: 'tree', 4132: 'feminine', 4133: 'socialize', 4134: 'customer', 4135: 'remembered', 4136: \"other's\", 4137: 'actress', 4138: 'hour', 4139: 'lover', 4140: 'ralphie', 4141: 'peanuts', 4142: 'score', 4143: 'beer:', 4144: 'totally', 4145: 'some', 4146: 'miles', 4147: 'coherent', 4148: 'sponge', 4149: 'toilet', 4150: \"'morning\", 4151: 'donut', 4152: 'morning-after', 4153: 'handle', 4154: 'remembers', 4155: 'bow', 4156: 'frenchman', 4157: 'wraps', 4158: 'she-pu', 4159: 'air', 4160: 'lowers', 4161: 'brandy', 4162: 'factor', 4163: 'amiable', 4164: 'meatpies', 4165: 'sorts', 4166: 'remains', 4167: 'aziz', 4168: 'lottery', 4169: 'straining', 4170: 'spreads', 4171: 'say', 4172: 'race', 4173: 'moan', 4174: 'cuff', 4175: 'examines', 4176: 'hillary', 4177: 'each', 4178: 'er', 4179: 'morlocks', 4180: 'nurse', 4181: 'attention', 4182: 'life-sized', 4183: 'alec_baldwin:', 4184: 'please', 4185: 'eighty-one', 4186: 'tying', 4187: 'wheels', 4188: 'awkward', 4189: 'paste', 4190: 'leg', 4191: 'his', 4192: 'harv', 4193: 'understood:', 4194: 'bathed', 4195: \"heat's\", 4196: 'pissed', 4197: 'correction', 4198: 'afterglow', 4199: 'living', 4200: 'ironic', 4201: 'radioactive', 4202: 'goldarnit', 4203: 'hearse', 4204: 'today/', 4205: 'cop', 4206: 'effervescent', 4207: \"santa's\", 4208: 'clown-like', 4209: 'influence', 4210: 'goal', 4211: 'president', 4212: 'snackie', 4213: 'africa', 4214: 'tom', 4215: 'honest', 4216: 'troy:', 4217: 'sentimonies', 4218: 'happier', 4219: 'nudge', 4220: 'rafter', 4221: 'nobody', 4222: 'really', 4223: 'days', 4224: 'register', 4225: 'skunk', 4226: 'syrup', 4227: 'muscles', 4228: 'strangles', 4229: 'center', 4230: 'astronauts', 4231: 'splattered', 4232: 'disdainful', 4233: 'awww', 4234: 'warmth', 4235: 'badmouth', 4236: 'finished', 4237: 'tender', 4238: 'vacations', 4239: 'souped', 4240: 'regulars', 4241: 'push', 4242: 'beer-jerks', 4243: 'cable', 4244: 'snow', 4245: 'roz', 4246: 'night-crawlers', 4247: 'drug', 4248: 'consoling', 4249: 'hurry', 4250: 'microwave', 4251: 'funds', 4252: 'padres', 4253: 'wordloaf', 4254: 'boxer', 4255: 'dizzy', 4256: 'pre-recorded', 4257: 'pick', 4258: 'undermine', 4259: 'takes', 4260: 'barkeep', 4261: 'plenty', 4262: 'sales', 4263: 'bums', 4264: 'package', 4265: 'whup', 4266: 'offshoot', 4267: 'sacrifice', 4268: 'castle', 4269: 'elephants', 4270: 'moe-clone:', 4271: 'box', 4272: 'mayor_joe_quimby:', 4273: 'settlement', 4274: 'hate', 4275: \"we'd\", 4276: 'enthusiasm', 4277: 'ballot', 4278: 'occasional', 4279: 'having', 4280: 'repeating', 4281: 'changing', 4282: 'quotation_mark', 4283: 'steak', 4284: 'sec', 4285: 'low', 4286: 'so-ng', 4287: 'hiring', 4288: \"someone's\", 4289: 'betrayed', 4290: \"blowin'\", 4291: 'wednesday', 4292: 'guessing', 4293: 'prank', 4294: 'crowned', 4295: \"somebody's\", 4296: 'director', 4297: 'grandkids', 4298: 'rent', 4299: 'hard', 4300: 'glamour', 4301: 'bathroom', 4302: 'smitty:', 4303: 'smuggled', 4304: 'saget', 4305: 'cotton', 4306: 'failure', 4307: 'limber', 4308: \"monroe's\", 4309: 'now', 4310: 'musses', 4311: 'restroom', 4312: 'meditative', 4313: 'night', 4314: 'cent', 4315: 'can', 4316: 'elizabeth', 4317: 'bachelorhood', 4318: 'navy', 4319: 'twenty-four', 4320: 'rods', 4321: 'renders', 4322: 'likes', 4323: 'lap', 4324: 'cushions', 4325: 'christopher', 4326: 'therefore', 4327: 'beers', 4328: 'edna_krabappel-flanders:', 4329: 'knowledge', 4330: 'far', 4331: 'baloney', 4332: 'upsetting', 4333: 'pit', 4334: 'weekly', 4335: 'leave', 4336: 'gasoline', 4337: 'insulin', 4338: 'aside', 4339: 'calm', 4340: \"sayin'\", 4341: 'chief_wiggum:', 4342: 'coach:', 4343: 'lennyy', 4344: 'mustard', 4345: 'troubles', 4346: 'both', 4347: 'taste', 4348: 'replaced', 4349: 'worth', 4350: 'poetry', 4351: 'fiiiiile', 4352: 'nuts', 4353: 'lowering', 4354: 'england', 4355: 'trust', 4356: 'sensible', 4357: 'feisty', 4358: 'knees', 4359: 'links', 4360: 'either', 4361: \"this'll\", 4362: 'pretends', 4363: 'answers', 4364: 'marvin', 4365: 'ma', 4366: 'higher', 4367: 'para', 4368: 'kisses', 4369: 'song', 4370: 'christmas', 4371: 'botanical', 4372: 'floating', 4373: 'thousands', 4374: 'slice', 4375: 'applicant', 4376: 'cleaner', 4377: 'secrets', 4378: 'bras', 4379: 'logos', 4380: 'rector', 4381: 'tones', 4382: 'asses', 4383: 'appalled', 4384: 'heavyweight', 4385: 'states', 4386: '2', 4387: 'kick-ass', 4388: 'canyoner-oooo', 4389: 'expired', 4390: 'lookalike:', 4391: 'tease', 4392: '3rd_voice:', 4393: 'release', 4394: 'crooks', 4395: 'combines', 4396: 'live', 4397: \"school's\", 4398: 'whee', 4399: \"larry's\", 4400: 'and', 4401: 'marquee', 4402: 'crack', 4403: 'voice:', 4404: 'truck_driver:', 4405: 'locked', 4406: 'grammar', 4407: 'deadly', 4408: 'onions', 4409: 'wallet', 4410: 'wars', 4411: 'tablecloth', 4412: 'apology', 4413: 'neck', 4414: 'doof', 4415: 'cheese', 4416: 'accent', 4417: 'gulliver_dark:', 4418: 'maximum', 4419: 'bills', 4420: 'onion', 4421: 'oddest', 4422: \"havin'\", 4423: 'bury', 4424: 'conversation', 4425: 'waist', 4426: 'selection', 4427: 'story', 4428: 'harvesting', 4429: 'writers', 4430: 'eu', 4431: 'ocean', 4432: 'terrific', 4433: 'thrown', 4434: \"pickin'\", 4435: 'airport', 4436: 'shut', 4437: 'dimly', 4438: 'ow', 4439: 'dumbbell', 4440: 'uncle', 4441: 'notice', 4442: 'smoke', 4443: 'i', 4444: 'prefer', 4445: 'bleak', 4446: 'senators', 4447: \"i'll\", 4448: 'carve', 4449: 'tropical', 4450: 'ton', 4451: 'chum', 4452: \"mecca's\", 4453: 'befriend', 4454: 'worst', 4455: 'espn', 4456: 'extremely', 4457: 'compadre', 4458: 'dutch', 4459: 'doug:', 4460: 'gotten', 4461: 'glass', 4462: 'the', 4463: 'arab_man:', 4464: 'darn', 4465: 'charged', 4466: 'twenty-six', 4467: 'homer_', 4468: 'reading', 4469: 'krabappel', 4470: 'feat', 4471: 'spooky', 4472: 'odd', 4473: 'marguerite:', 4474: 'thoughtless', 4475: 'that', 4476: 'yelp', 4477: 'tanked-up', 4478: 'propose', 4479: \"he'll\", 4480: 'drift', 4481: 'lump', 4482: 'dana_scully:', 4483: 'darjeeling', 4484: 'falcons', 4485: 'necessary', 4486: 'fledgling', 4487: 'gr-aargh', 4488: 'floor', 4489: 'mount', 4490: 'row', 4491: 'quite', 4492: 'changes', 4493: 'forbidden', 4494: 'kenny', 4495: 'brain', 4496: 'chicken', 4497: 'moon-bounce', 4498: 'oh-so-sophisticated', 4499: 'phase', 4500: 'freedom', 4501: 'robin', 4502: 'declared', 4503: 'ken:', 4504: \"betsy'll\", 4505: 'eighteen', 4506: 'cruel', 4507: 'shall', 4508: 'lighter', 4509: 'lindsay', 4510: 'joy', 4511: 'laney_fontaine:', 4512: 'gel', 4513: 'able', 4514: 'tv_daughter:', 4515: 'teach', 4516: 'delightful', 4517: 'troll', 4518: 'produce', 4519: 'emotion', 4520: 'bannister', 4521: 'jelly', 4522: 'guinea', 4523: \"you're\", 4524: \"fendin'\", 4525: 'wikipedia', 4526: 'stretch', 4527: 'brewed', 4528: 'however', 4529: 'tired', 4530: 'amends', 4531: 'craft', 4532: 'cueball', 4533: 'festival', 4534: 'complaint', 4535: 'keeping', 4536: 'wade_boggs:', 4537: 'brainheaded', 4538: 'life-threatening', 4539: 'my-y-y-y-y-y', 4540: 'much', 4541: 'crippling', 4542: 'switch', 4543: 'off', 4544: 'bed', 4545: \"bartender's\", 4546: 'mmmmm', 4547: 'choose', 4548: 'grampa', 4549: 'germs', 4550: 'scent', 4551: 'lemonade', 4552: \"we'll\", 4553: 'never', 4554: '1895', 4555: 'thought_bubble_lenny:', 4556: 'debonair', 4557: 'murderously', 4558: 'oooh', 4559: 'moonlight', 4560: 'german', 4561: 'store', 4562: 'surgeonnn', 4563: 'afloat', 4564: 'singing/pushing', 4565: 'robot', 4566: 'south', 4567: 'bucks', 4568: 'home', 4569: 'wedding', 4570: 'planet', 4571: 'lily-pond', 4572: 'kinds', 4573: 'jailbird', 4574: 'academy', 4575: 'steinbrenner', 4576: 'stage', 4577: 'thought', 4578: 'drinking', 4579: 'rat', 4580: 'thesaurus', 4581: 'cold', 4582: 'gift:', 4583: 'few', 4584: 'handsome', 4585: 'seas', 4586: 'mug', 4587: 'reader', 4588: 'candidate', 4589: \"drinkin'\", 4590: 'grunt', 4591: 'stops', 4592: 'grade', 4593: 'releasing', 4594: 'slipped', 4595: 'aims', 4596: 'bears', 4597: 'saga', 4598: 'sexy', 4599: 'mm', 4600: 'voice', 4601: 'opens', 4602: 'cracked', 4603: 'yoink', 4604: 'r', 4605: 'steel', 4606: 'bride', 4607: 'partners', 4608: 'possibly', 4609: \"that'd\", 4610: 'foodie', 4611: 'bam', 4612: 'burglary', 4613: 'th-th-th-the', 4614: 'slurps', 4615: 'happily', 4616: 'true', 4617: 'con', 4618: \"maggie's\", 4619: 'jeff', 4620: 'beings', 4621: 'idealistic', 4622: 'dollar', 4623: 'sweden', 4624: 'ugly', 4625: 'flea:', 4626: 'personal', 4627: 'squeeze', 4628: 'yell', 4629: 'cheering', 4630: \"thing's\", 4631: 'polls', 4632: 'wants', 4633: 'dizer', 4634: 'perfunctory', 4635: 'hearts', 4636: 'beach', 4637: 'wrestle', 4638: 'wolverines', 4639: 'haplessly', 4640: 'round', 4641: 'sixty-nine', 4642: 'heaving', 4643: 'yesterday', 4644: 'booze', 4645: 'forty-seven', 4646: 'lifts', 4647: 'wire', 4648: 'damned', 4649: 'listen', 4650: 'hibbert', 4651: 'panties', 4652: 'nooo', 4653: 'dumpster', 4654: 'gabriel:', 4655: 'which', 4656: 'sweetheart', 4657: 'd', 4658: 'uncomfortable', 4659: 'wishing', 4660: 'avec', 4661: 'virility', 4662: 'excellent', 4663: 'tick', 4664: 'nasty', 4665: 'utensils', 4666: 'unlocked', 4667: 'thirsty', 4668: 'passes', 4669: 'boat', 4670: 'spirit', 4671: 'did', 4672: 'struggling', 4673: 'david', 4674: 'man_with_tree_hat:', 4675: 'rueful', 4676: 'colorado', 4677: 'obsessive-compulsive', 4678: 'safer', 4679: 'bar', 4680: 'geyser', 4681: 'theme', 4682: 'marjorie', 4683: 'world-class', 4684: 'courage', 4685: 'indecipherable', 4686: 'ground', 4687: 'located', 4688: 'directions', 4689: 'deny', 4690: 'researching', 4691: 'shaken', 4692: 'grammy', 4693: 'hearing', 4694: 'leans', 4695: 'sees/', 4696: 'stop', 4697: 'card', 4698: 'dies', 4699: 'masks', 4700: 'handoff', 4701: 'fontaine', 4702: \"wino's\", 4703: 'coney', 4704: 'than', 4705: 'spectacular', 4706: 'cash', 4707: 'acceptance', 4708: 'appreciate', 4709: 'crew', 4710: 'fondest', 4711: 'jaegermeister', 4712: 'mostly', 4713: \"kids'\", 4714: 'sign', 4715: 'comic_book_guy:', 4716: 'pull', 4717: 'elite', 4718: 'reasons', 4719: 'high', 4720: 'enthused', 4721: 'looking', 4722: 'wife', 4723: 'perhaps', 4724: 'engraved', 4725: 'rip-off', 4726: 'startup', 4727: 'tsk', 4728: 'hafta', 4729: 'screw', 4730: '/', 4731: 'kl5-4796', 4732: \"wouldn't\", 4733: 'albert', 4734: 'barbed', 4735: 'hexa-', 4736: 'forward', 4737: 'church', 4738: 'background', 4739: 'plucked', 4740: 'gals', 4741: \"what're\", 4742: 'blurbs', 4743: 'linda', 4744: 'surprise', 4745: 'beefs', 4746: 'kent', 4747: 'attend', 4748: 'uniforms', 4749: '&', 4750: 'polenta', 4751: 'drinker', 4752: 'fortune', 4753: 'burns', 4754: 'natural', 4755: 'judgments', 4756: 'helped', 4757: 'steam', 4758: \"ma's\", 4759: 'whiny', 4760: 'blobbo', 4761: 'has', 4762: 'arrested:', 4763: 'rolls', 4764: 'squeezed', 4765: 'occupancy', 4766: 'spellbinding', 4767: 'belly', 4768: 'the_edge:', 4769: 'telephone', 4770: 'tenuous', 4771: 'yes', 4772: 'ancestors', 4773: 'filled', 4774: \"poundin'\", 4775: 'excuses', 4776: 'cab', 4777: 'benefits', 4778: 'upn', 4779: 'microbrew', 4780: 'puts', 4781: 'snotball', 4782: 'car', 4783: 'hand', 4784: 'fancy', 4785: 'maiden', 4786: '_hooper:', 4787: 'cursed', 4788: \"y'see\", 4789: 'bret', 4790: \"'ere\", 4791: 'lookalikes', 4792: 'murmur', 4793: 'rev', 4794: 'gambler', 4795: 'semi-imported', 4796: 'awfully', 4797: 'penmanship', 4798: 'single-mindedness', 4799: 'string', 4800: \"o'\", 4801: 'chug', 4802: \"gettin'\", 4803: 'crow', 4804: 'exits', 4805: 'julep', 4806: 'yet', 4807: 'skinheads', 4808: 'deli', 4809: 'choice:', 4810: 'naked', 4811: 'gift', 4812: 'average', 4813: 'feels', 4814: 'potato', 4815: 'evasive', 4816: 'decision', 4817: 'over-pronouncing', 4818: 'done', 4819: 'happily:', 4820: 'rain', 4821: 'starting', 4822: 'chauffeur:', 4823: 'dollars', 4824: 'rainier_wolfcastle:', 4825: 'booth', 4826: 'initially', 4827: 'commission', 4828: 'evergreen', 4829: 'cheap', 4830: 'quit', 4831: 'valuable', 4832: 'connection', 4833: 'belong', 4834: 'cobra', 4835: 'ninety-seven', 4836: 'fistiana', 4837: 'voyager', 4838: 'brother', 4839: 'businessman_#1:', 4840: 'blows', 4841: 'heliotrope', 4842: 'hook', 4843: \"floatin'\", 4844: 'place', 4845: 'tabooger', 4846: 'reynolds', 4847: 'richer', 4848: 'thank', 4849: 'party', 4850: 'lobster-based', 4851: 'yogurt', 4852: 'school', 4853: 'conversations', 4854: 'shores', 4855: 'presses', 4856: 'eurotrash', 4857: 'associate', 4858: 'booking', 4859: 'justify', 4860: 'fuhgetaboutit', 4861: 'sympathy', 4862: 'she', 4863: 'cheaper', 4864: 'spare', 4865: 'sale', 4866: 'el', 4867: 'him', 4868: 'contemplated', 4869: 'offensive', 4870: 'superior', 4871: 'bartender', 4872: 'hmmmm', 4873: 'sloe', 4874: 'matter-of-fact', 4875: 'wiggle', 4876: 'pointless', 4877: 'bill', 4878: 'remorseful', 4879: 'edna', 4880: 'aggravated', 4881: \"wouldn't-a\", 4882: 'applesauce', 4883: 'lotta', 4884: 'deeply', 4885: 'fold', 4886: 'ahhhh', 4887: 'pay', 4888: 'schedule', 4889: 'rockers', 4890: 'buffet', 4891: 'tasimeter', 4892: 'eighty-three', 4893: 'multiple', 4894: \"aristotle's\", 4895: 'hope', 4896: 'lingus', 4897: 'nos', 4898: \"life's\", 4899: 'neat', 4900: 'hootie', 4901: 'hunting', 4902: 'luck', 4903: 'darts', 4904: 'flynt', 4905: \"crawlin'\", 4906: 'intention', 4907: 'eco-fraud', 4908: 'pretentious_rat_lover:', 4909: 'surprising', 4910: 'served', 4911: 'domestic', 4912: 'hot', 4913: 'ideas', 4914: 'thousand-year', 4915: \"can't-believe-how-bald-he-is\", 4916: \"others'\", 4917: 'scarf', 4918: 'pointed', 4919: 'sass', 4920: 'boozer', 4921: 'tears', 4922: 'curiosity', 4923: 'tree_hoper:', 4924: 'milks', 4925: \"bart'd\", 4926: 'dash', 4927: 'tells', 4928: 'imported-sounding', 4929: 'still', 4930: \"meanin'\", 4931: 'trainers', 4932: 'cricket', 4933: \"wonderin'\", 4934: 'rainier', 4935: 'inexorable', 4936: 'despite', 4937: 'apulina', 4938: 'dna', 4939: 'strain', 4940: 'huh', 4941: 'simplest', 4942: 'voice_on_transmitter:', 4943: 'stool', 4944: \"what'll\", 4945: 'suru', 4946: 'furniture', 4947: 'go-near-', 4948: 'gives', 4949: 'though:', 4950: 'temples', 4951: 'me', 4952: 'ought', 4953: \"'cause\", 4954: 'lousy', 4955: 'designer', 4956: 'pepto-bismol', 4957: 'they', 4958: 'fevered', 4959: 'jerking', 4960: 'scene', 4961: 'village', 4962: 'deliberately', 4963: 'catty', 4964: 'dig', 4965: 'county', 4966: 'pinchpenny', 4967: 'blood', 4968: 'clothespins:', 4969: 'lager', 4970: 'ref', 4971: 'slobbo', 4972: 'mild', 4973: 'toasting', 4974: 'grabbing', 4975: 'wiggum', 4976: 'set', 4977: \"edna's\", 4978: 'painting', 4979: 'springfield', 4980: 'spacey', 4981: 'patrons:', 4982: 'smiled', 4983: 'order', 4984: 'moonnnnnnnn', 4985: 'nonchalantly', 4986: 'ideal', 4987: 'hoped', 4988: 'abcs', 4989: 'senators:', 4990: 'lots', 4991: \"what'd\", 4992: 'graves', 4993: 'you', 4994: 'girl-bart', 4995: 'quimby', 4996: 'onassis', 4997: 'nearly', 4998: 'parasol', 4999: 'clandestine', 5000: 'bright', 5001: 'easily', 5002: 'entering', 5003: 'dame', 5004: 'fletcherism', 5005: 'ruuuule', 5006: 'themselves', 5007: 'buy', 5008: 'wanna', 5009: 'after', 5010: 'lost', 5011: 'carlson', 5012: 'twenty-two', 5013: 'scum-sucking', 5014: 'chick', 5015: \"hasn't\", 5016: 'municipal', 5017: 'uses', 5018: 'bar-boy', 5019: 'another', 5020: 'begging', 5021: 'agreement', 5022: 'kent_brockman:', 5023: 'rag', 5024: 'swimmers', 5025: 'been', 5026: 'nitwit', 5027: 'karaoke_machine:', 5028: 'married', 5029: 'angry', 5030: 'hyper-credits', 5031: 'small', 5032: 'assumed', 5033: 'occurs', 5034: \"askin'\", 5035: 'getcha', 5036: 'bum:', 5037: 'jimmy', 5038: 'hispanic_crowd:', 5039: 'tough', 5040: 'roach', 5041: 'neil_gaiman:', 5042: 'saved', 5043: 'beneath', 5044: 'hollywood', 5045: 'ew', 5046: 'telling', 5047: 'lights', 5048: \"linin'\", 5049: 'handshake', 5050: 'appointment', 5051: 'see', 5052: 'care', 5053: 'pool', 5054: 'boxer:', 5055: \"lovers'\", 5056: 'barely', 5057: \"disrobin'\", 5058: 'sadly', 5059: 'mudflap', 5060: 'ga', 5061: 'dads', 5062: 'sniffs', 5063: 'whether', 5064: 'grandé', 5065: 'insist', 5066: \"mtv's\", 5067: 'thnord', 5068: 'certainly', 5069: 'effervescence', 5070: 'thoughtfully', 5071: 'muslim', 5072: '_kissingher:', 5073: 'sweaty', 5074: \"smokin'\", 5075: 'magic', 5076: 'lime', 5077: 'kang:', 5078: 'polishing', 5079: 'sobs', 5080: 'fbi_agent:', 5081: \"duff's\", 5082: 'chocolate', 5083: 'slapped', 5084: 'warning', 5085: 'brassiest', 5086: 'unfair', 5087: 'relationship', 5088: 'boisterous', 5089: 'fair', 5090: 'picky', 5091: 'today', 5092: 'drawer', 5093: 'curious', 5094: \"now's\", 5095: 'english', 5096: 'accidents', 5097: 'growing', 5098: 'sickens', 5099: 'falling', 5100: 'motel', 5101: 'loser', 5102: 'greatest', 5103: 'boring', 5104: '_burns_heads:', 5105: 'women', 5106: 'timbuk-tee', 5107: 'krusty_the_clown:', 5108: \"feelin's\", 5109: 'dressed', 5110: 'manuel', 5111: 'plant', 5112: 'duffman:', 5113: 'squirrels', 5114: 'week', 5115: 'shells', 5116: 'distance', 5117: 'reads', 5118: 'belly-aching', 5119: \"poisonin'\", 5120: 'sagacity', 5121: 'stein-stengel-', 5122: 'film', 5123: \"tootin'\", 5124: 'kiss', 5125: 'bake', 5126: 'relative', 5127: 'heaven', 5128: 'anthony_kiedis:', 5129: 'bleacher', 5130: 'othello', 5131: 'ooo', 5132: 'oughtta', 5133: 'felt', 5134: '91', 5135: 'moe-near-now', 5136: \"seein'\", 5137: 'sob', 5138: 'with', 5139: 'store-bought', 5140: 'tentative', 5141: 'course', 5142: 'cheerleaders:', 5143: 'utility', 5144: 'test', 5145: 'talking', 5146: \"barney's\", 5147: 'ears', 5148: 'avenue', 5149: 'wrapped', 5150: 'flatly', 5151: \"tree's\", 5152: 'nature', 5153: 'at', 5154: 'sir', 5155: 'gun', 5156: 'device', 5157: \"one's\", 5158: 'windelle', 5159: 'risqué', 5160: 'ab', 5161: 'ivy-covered', 5162: 'benjamin', 5163: 'yak', 5164: 'old-time', 5165: 'thirty', 5166: 'pipe', 5167: 'sunday', 5168: 'glummy', 5169: \"homer'll\", 5170: 'raising', 5171: 'generally', 5172: 'repairman', 5173: 'wiping', 5174: 'homunculus', 5175: 'rainbows', 5176: 'cats', 5177: \"summer's\", 5178: 'belts', 5179: 'hat', 5180: 'tried', 5181: 'bar_rag:', 5182: 'disapproving', 5183: 'hit', 5184: 'almost', 5185: 'audience', 5186: 'avalanche', 5187: 'nbc', 5188: 'through', 5189: 'fortensky', 5190: \"nothin'\", 5191: 'vacuum', 5192: \"payin'\", 5193: 'channel', 5194: 'parked', 5195: 'trail', 5196: 'prices', 5197: 'freed', 5198: \"daughter's\", 5199: 'scram', 5200: 'newsweek', 5201: 'clipped', 5202: 'fills', 5203: 'corkscrews', 5204: 'weather', 5205: 'demo', 5206: 'brilliant', 5207: 'sideshow_mel:', 5208: \"i'd'a\", 5209: 'coat', 5210: 'other_player:', 5211: 'parents', 5212: 'emporium', 5213: 'sticking-place', 5214: 'knuckles', 5215: 'dracula', 5216: 'drop', 5217: 'book_club_member:', 5218: 'crowd', 5219: 'testing', 5220: 'exasperated', 5221: 'all-all-all', 5222: '50-60', 5223: 'zinged', 5224: 'homeless', 5225: 'bigger', 5226: 'scrutinizes', 5227: 'selling', 5228: 'clenched', 5229: 'deserve', 5230: 'ned_flanders:', 5231: 'legoland', 5232: 'y', 5233: 'pouring', 5234: 'putty', 5235: 'site', 5236: 'gone', 5237: 'space-time', 5238: 'icelandic', 5239: 'lighten', 5240: 'shutting', 5241: 'amount', 5242: 'whatchamacallit', 5243: 'disaster', 5244: 'canoodling', 5245: 'seductive', 5246: 'whistles', 5247: \"soundin'\", 5248: 'out', 5249: 'defiantly', 5250: 'barber', 5251: 'ees', 5252: 'creates', 5253: 'crowd:', 5254: 'dejected_barfly:', 5255: 'reliable', 5256: 'when', 5257: 'wife-swapping', 5258: 'wall', 5259: 'washer', 5260: \"hawkin'\", 5261: 'astronaut', 5262: 'make', 5263: 'richard', 5264: 'doubt', 5265: 'smelly', 5266: 'sistine', 5267: 'chumbawamba', 5268: 'à', 5269: 'alfred', 5270: 'talkers', 5271: 'sighs', 5272: 'du', 5273: 'horrors', 5274: 'movie', 5275: \"you'll\", 5276: 'badges', 5277: 'important', 5278: 'surprised/thrilled', 5279: 'student', 5280: 'plans', 5281: \"cleanin'\", 5282: \"ridin'\", 5283: 'unexplained', 5284: 'slaps', 5285: 'fools', 5286: 'koholic', 5287: 'combine', 5288: 'raining', 5289: 'jeers', 5290: 'rice', 5291: 'faulkner', 5292: 'bronco', 5293: \"what'sa\", 5294: 'sternly', 5295: 'cheaped', 5296: 'flourish', 5297: 'discriminate', 5298: 'van', 5299: 'motor', 5300: \"plank's\", 5301: 'limericks', 5302: 'direction', 5303: \"leavin'\", 5304: 'aiden', 5305: 'nope', 5306: 'chinua', 5307: 'unlucky', 5308: 'ice', 5309: 'toledo', 5310: 'drive', 5311: 'announcer:', 5312: 'adequate', 5313: 'scooter', 5314: 'stick', 5315: 'olive', 5316: 'earlier', 5317: 'sport', 5318: 'barstools', 5319: 'predecessor', 5320: 'ashtray', 5321: 'groan', 5322: 'polygon', 5323: 'beady', 5324: 'dive', 5325: 'age', 5326: 'guttural', 5327: 'dreams', 5328: 'counting', 5329: \"it'd\", 5330: 'grumbling', 5331: 'alright', 5332: 'nascar', 5333: 'dating', 5334: 'asking', 5335: 'mobile', 5336: 'refreshment', 5337: 'trolls', 5338: 'kool', 5339: 'learn', 5340: 'eva', 5341: 'voted', 5342: 'based', 5343: 'saturday', 5344: 'gulps', 5345: 'touchdown', 5346: 'flashing', 5347: 'outlook', 5348: 'washed', 5349: 'owner', 5350: 'ominous', 5351: 'transylvania', 5352: 'surgery', 5353: 'shark', 5354: 'nickel', 5355: 'inspired', 5356: 'giant', 5357: 'sadder', 5358: 'foot', 5359: 'renew', 5360: 'harder', 5361: 'stinks', 5362: 'country', 5363: 'mr', 5364: 'pridesters:', 5365: 'put', 5366: 'difference', 5367: 'blend', 5368: 'letters', 5369: 'little_man:', 5370: 'wisconsin', 5371: 'wore', 5372: 'affectations', 5373: \"number's\", 5374: 'teriyaki', 5375: 'suspect', 5376: 'wish-meat', 5377: 'hotline', 5378: 'new', 5379: 'schmoe', 5380: 'gary_chalmers:', 5381: 'crinkly', 5382: \"challengin'\", 5383: '||semicolon||', 5384: 'nation', 5385: 'poured', 5386: 'ball-sized', 5387: 'reminded', 5388: 'joe', 5389: 'exhale', 5390: 'busted', 5391: 'light', 5392: 'tv', 5393: 'consciousness', 5394: 'beer', 5395: 'vengeful', 5396: 'flush-town', 5397: 'rewound', 5398: 'scores', 5399: 'towed', 5400: \"stayin'\", 5401: 'triumphantly', 5402: 'herself', 5403: 'kegs', 5404: 'eye', 5405: 'disgusted', 5406: 'pepper', 5407: 'value', 5408: 'jubilation', 5409: 'enemy', 5410: 'yuh-huh', 5411: 'bulletin', 5412: 'tapestry', 5413: \"messin'\", 5414: 'concerned', 5415: 'sounds', 5416: 'p', 5417: 'pockets', 5418: 'as', 5419: 'pretzels', 5420: 'sets', 5421: 'ne', 5422: 'shaggy', 5423: 'praise', 5424: \"fightin'\", 5425: \"moe's_thoughts:\", 5426: \"cheerin'\", 5427: \"fans'll\", 5428: 'cleveland', 5429: \"thinkin'\", 5430: 'puzzle', 5431: 'author', 5432: 'caveman', 5433: 'indifference', 5434: 'agent_miller:', 5435: 'shesh', 5436: 'beer-dorf', 5437: 'ralph', 5438: 'hair', 5439: 'medieval', 5440: 'pepsi', 5441: 'promotion', 5442: 'goods', 5443: 'severe', 5444: 'awkwardly', 5445: 'poplar', 5446: 'just', 5447: 'finishing', 5448: 'spamming', 5449: 'white', 5450: 'broken:', 5451: 'disappointing', 5452: 'circus', 5453: \"ragin'\", 5454: 'standards', 5455: 'realize', 5456: \"o'problem\", 5457: 'and/or', 5458: 'tire', 5459: 'upbeat', 5460: 'metal', 5461: 'television', 5462: 'slit', 5463: 'flaming', 5464: 'pointy', 5465: 'suicide', 5466: 'kazoo', 5467: \"readin'\", 5468: 'someplace', 5469: 'lonely', 5470: 'moe-clone', 5471: 'four-drink', 5472: 'us', 5473: 'tavern', 5474: 'dogs', 5475: 'cheer', 5476: 'occasion', 5477: 'assume', 5478: \"tab's\", 5479: 'settled', 5480: 'dumb-asses', 5481: 'creepy', 5482: 'form', 5483: \"depressin'\", 5484: 'informant', 5485: 'ehhhhhh', 5486: 'break-up', 5487: 'temporarily', 5488: 'blown', 5489: 'carnival', 5490: 'most:', 5491: 'bottles', 5492: \"'s\", 5493: 'viva', 5494: \"dolph's_dad:\", 5495: 'busiest', 5496: 'dials', 5497: 'late', 5498: 'caused', 5499: 'calendars', 5500: \"tap-pullin'\", 5501: 'jam', 5502: 'hubub', 5503: 'husband', 5504: 'grocery', 5505: 'alphabet', 5506: 'noooooooooo', 5507: 'cecil', 5508: 'fans', 5509: 'doom', 5510: \"soakin's\", 5511: 'led', 5512: 'birth', 5513: 'sampler', 5514: 'hired', 5515: 'exit', 5516: 'champion', 5517: 'vermont', 5518: 'yea', 5519: 'sudden', 5520: 'seething', 5521: 'stocking', 5522: 'audience:', 5523: 'pine', 5524: \"watchin'\", 5525: 'mcbain', 5526: 'promise', 5527: 'occupation', 5528: \"eatin'\", 5529: 'taxes', 5530: 'mellow', 5531: 'blow', 5532: 'driveability', 5533: 'is', 5534: 'scornful', 5535: 'jail', 5536: 'knit', 5537: 'relaxing', 5538: 'joined', 5539: 'peppy', 5540: 'delts', 5541: 'anything', 5542: 'settles', 5543: 'make:', 5544: 'boston', 5545: \"president's\", 5546: 'peach', 5547: 'white_rabbit:', 5548: 'comedy', 5549: 'coincidentally', 5550: 'witty', 5551: 'occupied', 5552: 'twerpy', 5553: 'voodoo', 5554: 'popular', 5555: 'rub', 5556: 'slender', 5557: \"stealin'\", 5558: \"'kay-zugg'\", 5559: \"lenny's\", 5560: 'five-fifteen', 5561: 'wings', 5562: 'uneasy', 5563: 'stillwater:', 5564: 'support', 5565: 'pronounce', 5566: 'bluff', 5567: 'platinum', 5568: 'smoker', 5569: 'starters', 5570: 'drederick', 5571: 'teddy', 5572: 'peter', 5573: 'year', 5574: 'storms', 5575: 'wells', 5576: 'universe', 5577: 'artie_ziff:', 5578: 'no', 5579: 'forty-five', 5580: 'lot', 5581: 'ineffective', 5582: 'average-looking', 5583: 'thorn', 5584: 'marge', 5585: 'kisser', 5586: 'drollery', 5587: 'warranty', 5588: 'sink', 5589: 'list', 5590: 'actually', 5591: 'ridiculous', 5592: 'cheat', 5593: 'adult_bart:', 5594: 'grubby', 5595: \"mcstagger's\", 5596: 'bupkus', 5597: 'chastity', 5598: 'online', 5599: 'lift', 5600: 'action', 5601: 'cents', 5602: 'beauty', 5603: 'quarry', 5604: 'near', 5605: 'scornfully', 5606: 'streetcorner', 5607: 'judges', 5608: 'disappear', 5609: 'refill', 5610: 'alma', 5611: 'triangle', 5612: 'fired', 5613: \"how's\", 5614: 'swan', 5615: 'taps', 5616: 'extract', 5617: 'wrecking', 5618: 'family-owned', 5619: 'patting', 5620: 'paramedic:', 5621: 'powers', 5622: 'mexican', 5623: 'easy', 5624: 'paintings', 5625: 'tape', 5626: 'wearing', 5627: 'mail', 5628: 'investment', 5629: 'feedbag', 5630: 'refreshing', 5631: 'nerve', 5632: 'loan', 5633: 'quick-like', 5634: 'saving', 5635: 'dime', 5636: \"wasn't\", 5637: '||dash||', 5638: 'norway', 5639: 'pronto', 5640: 'paying', 5641: 'multi-purpose', 5642: 'room', 5643: 'aquafresh', 5644: 'stays', 5645: 'assassination', 5646: \"industry's\", 5647: 'shag', 5648: 'paparazzo', 5649: 'chug-a-lug', 5650: 'turning', 5651: 'fdic', 5652: 'freak', 5653: 'philip', 5654: 'sponge:', 5655: 'lucky', 5656: 'pantsless', 5657: 'unrelated', 5658: 'f', 5659: 'tow-joes', 5660: 'drown', 5661: 'leftover', 5662: 'lessons', 5663: '||question_mark||', 5664: 'omigod', 5665: 'who-o-oa', 5666: 'else', 5667: 'righ', 5668: 'flustered', 5669: 'fat_tony:', 5670: 'asleep', 5671: 'trustworthy', 5672: 'running', 5673: 'underbridge', 5674: 'diet', 5675: 'nectar', 5676: 'philosophic', 5677: 'invented', 5678: \"shouldn't\", 5679: 'tear', 5680: 'ohh', 5681: 'choices:', 5682: 'disgracefully', 5683: 'runaway', 5684: 'idiots', 5685: 'crummy', 5686: 'patty', 5687: 'pub', 5688: 'crayon', 5689: 'touches', 5690: 'quimbys:', 5691: 'feld', 5692: 'schabadoo', 5693: 'considering:', 5694: 'prompting', 5695: 'rupert_murdoch:', 5696: \"here's\", 5697: 'pugilist', 5698: 'anyone', 5699: 'ruby-studded', 5700: 'crying', 5701: 'lenny', 5702: 'phasing', 5703: 'mt', 5704: 'glen:', 5705: 'ate', 5706: 'part', 5707: 'kirk_voice_milhouse:', 5708: 'hostile', 5709: 'wally', 5710: '_marvin_monroe:', 5711: 'pair', 5712: 'called', 5713: 'chateau', 5714: 'please/', 5715: \"tellin'\", 5716: '70', 5717: 'also', 5718: 'fridge', 5719: 'clearing', 5720: 'malibu', 5721: 'threatening', 5722: 'oughta', 5723: 'homer', 5724: '$42', 5725: 'remain', 5726: 'hates', 5727: 'fire', 5728: 'protestantism', 5729: 'sing-song', 5730: 'invisible', 5731: 'slobs', 5732: 'doll', 5733: 'roller', 5734: \"carl's\", 5735: 'slip', 5736: 'huhza', 5737: 'bust', 5738: 'stationery', 5739: 'ohhhh', 5740: 'smithers', 5741: 'x-men', 5742: 'decent', 5743: 'landlord', 5744: 'tha', 5745: 'snaps', 5746: 'own', 5747: 'press', 5748: 'bono', 5749: 'bought', 5750: 'maman', 5751: 'deliberate', 5752: 'fainted', 5753: 'moved', 5754: 'waters', 5755: 'smugglers', 5756: 'truth', 5757: 'successful', 5758: 'amused', 5759: 'carny:', 5760: 'spent', 5761: 'nap', 5762: \"showin'\", 5763: 'have', 5764: 'traditions', 5765: 'agree', 5766: 'awed', 5767: 'scrubbing', 5768: 'any', 5769: 'museum', 5770: 'wooooo', 5771: 'tony', 5772: 'solid', 5773: 'driving', 5774: 'reciting', 5775: 'ugliness', 5776: 'stonewall', 5777: 'l', 5778: 'pointing', 5779: 'dignified', 5780: 'mindless', 5781: 'sixty', 5782: 'stupid', 5783: 'appearance-altering', 5784: 'kindly', 5785: 'literary', 5786: 'disco', 5787: 'creme', 5788: 'sinkhole', 5789: 'disappointment', 5790: 'test-lady', 5791: 'pin', 5792: \"waitin'\", 5793: 'prove', 5794: 'champs', 5795: 'hateful', 5796: 'slab', 5797: 'waterfront', 5798: 'road', 5799: 'physical', 5800: 'smiling', 5801: 'sight', 5802: 'hundreds', 5803: 'ironed', 5804: 'stood', 5805: 'dice', 5806: 'aidens', 5807: 'hers', 5808: 'snout', 5809: 'prolonged', 5810: 'pen', 5811: 'popping', 5812: 'ad', 5813: 'hide', 5814: 'bit', 5815: 'jumping', 5816: 'sickened', 5817: 'made', 5818: 'monster', 5819: 'casting', 5820: 'connor', 5821: 'childless', 5822: 'trunk', 5823: \"brady's\", 5824: 'aboard', 5825: 'activity', 5826: 'paint', 5827: 'scream', 5828: 'gifts', 5829: 'movement', 5830: 'lovers', 5831: 'massage', 5832: \"goin'\", 5833: 'darkest', 5834: 'hooky', 5835: 'syndicate', 5836: 'lurks', 5837: 'afraid', 5838: 'wowww', 5839: 'seeing', 5840: 'disillusioned', 5841: 'snake', 5842: 'quietly', 5843: 'forget-me-shot', 5844: 'two-drink', 5845: 'punches', 5846: 'steampunk', 5847: 'fraud', 5848: 'delicate', 5849: 'first', 5850: 'laid', 5851: 'schizophrenia', 5852: 'again', 5853: 'soothing', 5854: 'hottest', 5855: 'prettied', 5856: \"s'okay\", 5857: 'bubbles', 5858: 'victory', 5859: 'proper', 5860: 'prohibit', 5861: \"i'd\", 5862: \"he'd\", 5863: 'diamond', 5864: 'win', 5865: \"d'\", 5866: 'plum', 5867: 'burger', 5868: 'rub-a-dub', 5869: 'plug', 5870: 'enforced', 5871: 'santa', 5872: 'happy', 5873: 'radio', 5874: 'gayer', 5875: 'mccarthy', 5876: 'wh', 5877: 'nine', 5878: 'jockey', 5879: 'talked', 5880: 'vin', 5881: 'disguise', 5882: 'catch-phrase', 5883: 'drove', 5884: 'breaks', 5885: 'accusing', 5886: 'jane', 5887: 'taunting', 5888: 'alky', 5889: 'jacques', 5890: 'crimes', 5891: 'allegiance', 5892: 'peanut', 5893: 'separator', 5894: 'defeated', 5895: 'grrrreetings', 5896: 'unsafe', 5897: 'len-ny', 5898: 'louder', 5899: 'hot-rod', 5900: 'frink-y', 5901: 'panicky', 5902: 'listening', 5903: 'der', 5904: 'glyco-load', 5905: 'slick', 5906: 'trucks', 5907: 'size', 5908: 'treehouse', 5909: 'steely-eyed', 5910: 'hmm', 5911: 'chuckling', 5912: 'maya:', 5913: 'awwww', 5914: 'lurleen', 5915: 'wittgenstein', 5916: 'casual', 5917: 'nelson', 5918: 'pictured', 5919: 'said:', 5920: 'nerd', 5921: 'homeland', 5922: 'jackass', 5923: 'portuguese', 5924: 'aisle', 5925: 'usual', 5926: 'money', 5927: 'outs', 5928: 'sneering', 5929: 'ninety-nine', 5930: 'recall', 5931: 'attractive_woman_#2:', 5932: 'unable', 5933: 'capitalists', 5934: 'once', 5935: 'pawed', 5936: 'trash', 5937: 'democrats', 5938: 'increased', 5939: 'flame', 5940: 'blob', 5941: 'cocking', 5942: \"stabbin'\", 5943: 'youse', 5944: 'bowie', 5945: 'years', 5946: 'military', 5947: 'seem', 5948: 'lately', 5949: 'found', 5950: 'glove', 5951: 'betcha', 5952: 'spinning', 5953: 'retain', 5954: 'horns', 5955: 'heads', 5956: 'la', 5957: 'rich', 5958: 'omit', 5959: 'while', 5960: 'breathtaking', 5961: 'rapidly', 5962: \"lady's\", 5963: 'down', 5964: 'radical', 5965: 'jewish', 5966: 'disturbing', 5967: 'healthier', 5968: 'filed', 5969: 'sips', 5970: 'taught', 5971: 'zero', 5972: 'though', 5973: 'raking', 5974: 'longer', 5975: 'cousin', 5976: 'judge', 5977: 'listens', 5978: 'appeals', 5979: 'die-hard', 5980: 'bide', 5981: 'th', 5982: \"family's\", 5983: 'b-day', 5984: 'ollie', 5985: 'beloved', 5986: 'fail', 5987: 'bottle', 5988: 'child', 5989: \"beer's\", 5990: \"aren't\", 5991: 'moesy', 5992: 'daaaaad', 5993: 'hunka', 5994: 'whip', 5995: 'ling', 5996: 'curds', 5997: 'challenge', 5998: 'w-a-3-q-i-zed', 5999: 'murdoch', 6000: 'eyed', 6001: 'aunt', 6002: 'shtick', 6003: 'traitor', 6004: 'strategizing', 6005: 'fry', 6006: 'blissful', 6007: 'ruint', 6008: 'fifth', 6009: 'weeks', 6010: 'does', 6011: 'inspector', 6012: 'brown', 6013: 'bread', 6014: 'french', 6015: 'layer', 6016: 'hemoglobin', 6017: 'marriage', 6018: 'single', 6019: 'champ', 6020: 'nelson_muntz:', 6021: 'priest', 6022: 'confidence', 6023: 'carmichael', 6024: 'susie-q', 6025: 'nail', 6026: 'e-z', 6027: 'dead', 6028: 'watching', 6029: 'delivery_man:', 6030: \"today's\", 6031: 'canyonero', 6032: 'ring', 6033: 'aggravazes', 6034: 'manage', 6035: 'anti-intellectualism', 6036: 'connor-politan', 6037: 'etc', 6038: 'end', 6039: 'sinister', 6040: 'firm', 6041: 'jack_larson:', 6042: 'lovely', 6043: 'breakfast', 6044: 'duffed', 6045: 'count', 6046: 'ihop', 6047: 'shrieks', 6048: 'entire', 6049: 'snake_jailbird:', 6050: 'stagey', 6051: 'overturned', 6052: 'briefly', 6053: 'grope', 6054: \"wait'll\", 6055: 'taking', 6056: 'bartholomé:', 6057: 'aristotle:', 6058: \"we've\", 6059: 'coaster', 6060: 'indeedy', 6061: 'woe:', 6062: 'pyramid', 6063: 'hooch', 6064: 'fuzzlepitch', 6065: 'mention', 6066: 'full-bodied', 6067: \"nick's\", 6068: 'junkyard', 6069: 'so-called', 6070: 'gestated', 6071: 'mountain', 6072: 'dennis_kucinich:', 6073: 'heart', 6074: 'junior', 6075: 'a-a-b-b-a', 6076: 'hanh', 6077: 'drop-off', 6078: 'obama', 6079: 'hammer', 6080: 'sister', 6081: 'ore', 6082: 'history', 6083: 'papa', 6084: 'spiritual', 6085: 'grain', 6086: 'extinguishers', 6087: 'hooray', 6088: 'vanities', 6089: \"ladies'\", 6090: 'technical', 6091: 'haikus', 6092: 'veteran', 6093: 'fustigate', 6094: 'femininity', 6095: 'difficult', 6096: 'eating', 6097: 'self-made', 6098: 'fortress', 6099: 'those', 6100: 'iranian', 6101: 'crestfallen', 6102: 'jerk-ass', 6103: 'united', 6104: 'kneeling', 6105: 'flew', 6106: 'innocence', 6107: 'annie', 6108: 'dan', 6109: 'brother-in-law', 6110: 'proof', 6111: 'idioms', 6112: 'asked', 6113: 'branding', 6114: 'william', 6115: 'numbers', 6116: 'lise:', 6117: 'mumble', 6118: 'enthusiastically', 6119: 'seymour', 6120: 'issues', 6121: 'territorial', 6122: 'boxcars', 6123: 'wing', 6124: 'fantasy', 6125: 'sharing', 6126: 'shower', 6127: 'rainforest', 6128: 'augustus', 6129: 'event', 6130: 'suing', 6131: 'forgotten', 6132: 'latour', 6133: 'mailbox', 6134: 'knowing', 6135: 'specified', 6136: 'emphasis', 6137: 'stadium', 6138: 'religious', 6139: 'park', 6140: 'lazy', 6141: 'killjoy', 6142: \"phone's\", 6143: \"'now\", 6144: 'occurred', 6145: 'hobo', 6146: 'rhode', 6147: 'cross-country', 6148: 'naturally', 6149: 'bees', 6150: 'blues', 6151: 'honor', 6152: 'ummmmmmmmm', 6153: 'skins', 6154: 'sleeping', 6155: 'full-blooded', 6156: 'rule', 6157: 'hops', 6158: 'composer', 6159: 'getaway', 6160: 'lie', 6161: 'poin-dexterous', 6162: 'madman', 6163: 'swigmore', 6164: 'squad', 6165: 'suspiciously', 6166: 'charter', 6167: 'hoping', 6168: 'hmmm', 6169: \"dyin'\", 6170: 'bedbugs', 6171: 'misfire', 6172: 'silence', 6173: 'adjust', 6174: 'ride', 6175: 'mom', 6176: 'christian', 6177: 'filthy', 6178: 'fritz', 6179: 'cappuccino', 6180: 'studio', 6181: 'barf', 6182: 'wiggle-frowns', 6183: 'sniffing', 6184: 'born', 6185: 'funny', 6186: 'you-need-man', 6187: 'tornado', 6188: 'showing', 6189: 'nightmare', 6190: 'bail', 6191: 'strong', 6192: \"'em\", 6193: 'sang', 6194: 'brace', 6195: 'frankenstein', 6196: 'horrified', 6197: 'nfl_narrator:', 6198: \"mopin'\", 6199: 'website', 6200: 'granted', 6201: 'bachelorette', 6202: 'father', 6203: 'short', 6204: 'build', 6205: 'early', 6206: 'blossoming', 6207: 'yee-haw', 6208: 'body', 6209: \"didn't\", 6210: 'dance', 6211: 'aging', 6212: 'senator', 6213: 'jokes', 6214: 'starlets', 6215: 'must', 6216: 'written', 6217: 'handed', 6218: 'mabel', 6219: 'until', 6220: 'magnanimous', 6221: 'underwear', 6222: 'marmaduke', 6223: 'bunion', 6224: 'hank_williams_jr', 6225: 'ebullient', 6226: 'woooooo', 6227: 'cough', 6228: 'highway', 6229: 'thirty-thousand', 6230: 'paris', 6231: 'rid', 6232: \"lisa's\", 6233: 'premise', 6234: 'collette:', 6235: 'lookalike', 6236: 'brings', 6237: 'pink', 6238: 'bridge', 6239: 'walther_hotenhoffer:', 6240: 'diapers', 6241: 'cover', 6242: 'coughs', 6243: 'cajun', 6244: 'starts', 6245: 'cream', 6246: 'agency', 6247: 'eyeing', 6248: 'town', 6249: 'passports', 6250: 'putting', 6251: 'colonel:', 6252: 'lincoln', 6253: 'outrageous', 6254: 'irish', 6255: 'corn', 6256: 'find', 6257: 'valley', 6258: 'maitre', 6259: 'marge_simpson:', 6260: 'enough', 6261: 'title', 6262: 'model', 6263: 'theatrical', 6264: 'modern', 6265: 'loudly', 6266: \"takin'\", 6267: 'archaeologist', 6268: 'wa', 6269: 'my', 6270: 'advance', 6271: 'bubble', 6272: 'achebe', 6273: 'sat-is-fac-tion', 6274: 'prettiest', 6275: 'crime', 6276: 'neanderthal', 6277: 'passed', 6278: 'flat', 6279: 'eddie:', 6280: \"rentin'\", 6281: 'always', 6282: 'peabody', 6283: 'looks', 6284: 'sing', 6285: 'heatherton', 6286: 'slightly', 6287: \"round's\", 6288: 'fella', 6289: 'tubman', 6290: 'two', 6291: 'chest', 6292: 'easier', 6293: 'question', 6294: 'moonshine', 6295: 'slogan', 6296: 'gallon', 6297: 'small_boy:', 6298: 'dingy', 6299: 'tons', 6300: 'refreshingness', 6301: 'famous', 6302: 'mozzarella', 6303: 'yourselves', 6304: 'watered-down', 6305: 'man', 6306: 'clientele', 6307: 'mediterranean', 6308: 'soir', 6309: \"town's\", 6310: 'changed', 6311: 'police', 6312: 'spanish', 6313: 'shindig', 6314: 'known', 6315: 'staying', 6316: 'band', 6317: 'excitement', 6318: 'high-definition', 6319: 'gentlemen', 6320: 'level', 6321: 'supermarket', 6322: 'stuck', 6323: 'easygoing', 6324: 'divine', 6325: '50%', 6326: 'hangs', 6327: 'reach', 6328: 'into', 6329: 'bathtub', 6330: 'embarrassed', 6331: 'entrance', 6332: 'iddilies', 6333: 'fast-paced', 6334: 'lisa_simpson:', 6335: \"o'clock\", 6336: 'tasty', 6337: 'bunch', 6338: 'prison', 6339: 'hated', 6340: 'bart_simpson:', 6341: 'hold', 6342: 'view', 6343: 'focused', 6344: 'bugging', 6345: 'shorter', 6346: 'venture', 6347: \"car's\", 6348: 'u2:', 6349: 'patron_#1:', 6350: \"nothin's\", 6351: 'deeper', 6352: 'love', 6353: 'languages', 6354: 'duke', 6355: 'chub', 6356: 'ugh', 6357: 'nibble', 6358: 'holy', 6359: 'stomach', 6360: 'charges', 6361: 'absolutely', 6362: 'friendly', 6363: 'access', 6364: 'conditioners', 6365: 'oopsie', 6366: 'complaining', 6367: 'catch', 6368: 'victorious', 6369: 'himself', 6370: 'alley', 6371: 'giggle', 6372: 'business', 6373: 'darkness', 6374: 'pizzicato', 6375: 'reporter:', 6376: 'kyoto', 6377: 'coined', 6378: 'forgive', 6379: 'old_jewish_man:', 6380: 'number', 6381: 'skirt', 6382: 'bashir', 6383: 'harmony', 6384: 'troy_mcclure:', 6385: 'mirror', 6386: 'plaintive', 6387: 'compromise:', 6388: 'partly', 6389: 'months', 6390: 'investigating', 6391: 'fondly', 6392: 'labels', 6393: 'sly', 6394: 'beep', 6395: 'villanova', 6396: 'rutabaga', 6397: 'cares', 6398: 'tin', 6399: 'mayan', 6400: 'aww', 6401: 'joke', 6402: 'henry', 6403: 'celebrity', 6404: 'waking-up', 6405: 'fringe', 6406: 'whole', 6407: 'crapmore', 6408: \"shan't\", 6409: \"that's\", 6410: 'wondered', 6411: 'congratulations', 6412: 'further', 6413: 'lock', 6414: \"football's\", 6415: 'strolled', 6416: 'sacrilicious', 6417: 'solely', 6418: 'social', 6419: 'toss', 6420: 'shove', 6421: 'ghouls', 6422: 'bull', 6423: 'tobacky', 6424: \"springfield's\", 6425: 'here', 6426: 'scum', 6427: 'cadillac', 6428: 'malfeasance', 6429: 'intelligent', 6430: 'trashed', 6431: 'beginning', 6432: 'gardens', 6433: 'meal', 6434: 'bachelor', 6435: 'aged_moe:', 6436: 'tee', 6437: 'criminal', 6438: 'amazing', 6439: 'astrid', 6440: 'good', 6441: 'help', 6442: 'closes', 6443: 'permanent', 6444: 'maxed', 6445: 'work', 6446: 'last', 6447: 'flower', 6448: 'fresh', 6449: 'statistician', 6450: 'diaper', 6451: 'billboard', 6452: \"couldn't\", 6453: 'ungrateful', 6454: 'slap', 6455: 'poisoning', 6456: 'wha', 6457: 'switched', 6458: 'stinger', 6459: \"sippin'\", 6460: 'belt', 6461: 'sustain', 6462: 'grace', 6463: 'blinds', 6464: \"chewin'\", 6465: 'selma_bouvier:', 6466: 'intrigued', 6467: 'later', 6468: 'one-hour', 6469: 'sometime', 6470: 'on', 6471: 'nervously', 6472: 'art', 6473: 'checking', 6474: 'meteor', 6475: 'absolut', 6476: 'tight', 6477: 'believe', 6478: \"calf's\", 6479: 'hurt', 6480: 'wrap', 6481: 'nah', 6482: 'politicians', 6483: 'profiling', 6484: 'draw', 6485: \"c'mere\", 6486: 'insecure', 6487: 'sissy', 6488: 'impatient', 6489: 'bounced', 6490: 'overstressed', 6491: 'vampire', 6492: 'without:', 6493: 'country-fried', 6494: 'especially', 6495: 'candy', 6496: 'shelf', 6497: 'principles', 6498: 'yoo', 6499: 'coming', 6500: 'captain:', 6501: 'sharps', 6502: 'lard', 6503: 'supervising', 6504: 'jukebox_record:', 6505: 'juke', 6506: 'error', 6507: 'side:', 6508: 'hygienically', 6509: 'dishrag', 6510: 'scratching', 6511: 'automobiles', 6512: 'inanely', 6513: 'freely', 6514: 'halvsies', 6515: 'attraction', 6516: 'buttocks', 6517: 'gimme', 6518: 'chubby', 6519: 'became', 6520: 'nothing', 6521: 'writing', 6522: 'obese', 6523: 'about', 6524: 'courts', 6525: 'butterball', 6526: 'doreen', 6527: \"donatin'\", 6528: 'anti-lock', 6529: \"duelin'\", 6530: 'ads', 6531: 'patrons', 6532: 'booger', 6533: \"that'll\", 6534: \"'your\", 6535: 'bursts', 6536: 'ons', 6537: 'plotz', 6538: \"neat's-foot\", 6539: 'amnesia', 6540: \"grandmother's\", 6541: 'murdered', 6542: 'street', 6543: 'plus', 6544: 'evil', 6545: 'comfortable', 6546: 'mona_simpson:', 6547: 'missed', 6548: 'denser', 6549: 'macho', 6550: 'whose', 6551: 'rem', 6552: 'dashes', 6553: '_eugene_blatz:', 6554: 'temp', 6555: 'honored', 6556: 'rom', 6557: 'priority', 6558: 'duh', 6559: 'baby', 6560: 'conspiratorial', 6561: \"haven't\", 6562: 'bret:', 6563: 'cutest', 6564: 'costume', 6565: 'shakes', 6566: 'banks', 6567: 'fire_inspector:', 6568: 'pond', 6569: 'weekend', 6570: 'opportunity', 6571: 'smelling', 6572: 'kearney_zzyzwicz:', 6573: 'angrily', 6574: 'killed', 6575: 'trenchant', 6576: 'dregs', 6577: 'grienke', 6578: 'rig', 6579: 'yellow', 6580: 'tolerable', 6581: 'mugs', 6582: 'power', 6583: 'grab', 6584: 'violin', 6585: 'awe', 6586: 'exhaust', 6587: 'fix', 6588: 'chips', 6589: 'tearfully', 6590: 'finally', 6591: 'amber_dempsey:', 6592: 'he', 6593: 'homie', 6594: 'fence', 6595: \"b-52's:\", 6596: 'walking', 6597: 'snap', 6598: 'shopping', 6599: 'moe-heads', 6600: 'feet', 6601: 'nachos', 6602: 'insured', 6603: 'confidential', 6604: 'sprawl', 6605: 'larson', 6606: 'everybody', 6607: 'tatum', 6608: \"guy's\", 6609: \"dog's\", 6610: 'eaten', 6611: 'shaking', 6612: 'proposing', 6613: 'mickey', 6614: 'copy', 6615: 'hideous', 6616: 'queer', 6617: 'ahhh', 6618: 'denver', 6619: 'fountain', 6620: 'chili', 6621: 'developed', 6622: 'promised', 6623: 'jasper_beardly:', 6624: 'infor', 6625: \"tatum'll\", 6626: 'legs:', 6627: 'other', 6628: 'mexican_duffman:', 6629: 'helllp', 6630: 'east', 6631: 'admirer', 6632: 'au', 6633: 'all-star', 6634: 'twelve-step', 6635: 'harv:', 6636: 'm', 6637: 'insightful', 6638: 'halloween', 6639: \"'er\", 6640: 'saucy', 6641: 'red', 6642: 'admitting', 6643: 'lead', 6644: 'quick', 6645: 'hospital', 6646: 'birthday', 6647: 'fan', 6648: 'young_marge:', 6649: 'windex', 6650: 'moments', 6651: 'appreciated', 6652: 'funeral', 6653: 'dennis', 6654: 'freaky', 6655: 'walther', 6656: 'war', 6657: 'sub-monkeys', 6658: 'um', 6659: 'along', 6660: 'causes', 6661: 'tester', 6662: 'meant', 6663: 'stirring', 6664: 'bear', 6665: 'barkeeps', 6666: 'subject', 6667: 'pretending', 6668: 'flaking', 6669: 'fast-food', 6670: 'royal', 6671: \"who's\", 6672: 'scatter', 6673: 'bouquet', 6674: 'scare', 6675: 'hug', 6676: 'failed', 6677: 'louie:', 6678: 'wasted', 6679: 'eyeball', 6680: 'bartending', 6681: 'frozen', 6682: 'familiar', 6683: 'detail', 6684: 'sidekick', 6685: 'around', 6686: 'socratic', 6687: 'harvey', 6688: 'genius', 6689: 'lame', 6690: 'learned', 6691: 'brave', 6692: 'times', 6693: 'manjula_nahasapeemapetilon:', 6694: 'save', 6695: 'camera', 6696: 'artie', 6697: 'ehhh', 6698: 'population', 6699: 'de-scramble', 6700: \"father's\", 6701: 'apu', 6702: 'salt', 6703: 'shelbyville', 6704: 'picture', 6705: 'bedridden', 6706: 'sperm', 6707: 'a', 6708: 'team', 6709: 'unusual', 6710: 'drivers', 6711: 'ralph_wiggum:', 6712: 'low-life', 6713: 'chicks', 6714: 'occurrence', 6715: 'beat', 6716: 'vegas', 6717: 'discuss', 6718: 'motorcycle', 6719: 'grandmother', 6720: 'charlie:', 6721: 'rage', 6722: 'boozy', 6723: 'accepting', 6724: 'ordered', 6725: 'built', 6726: 'installed', 6727: 'prayers', 6728: 'leathery', 6729: 'roz:', 6730: 'energy', 6731: 'tomato', 6732: 'reunion', 6733: 'sheepish', 6734: \"'\", 6735: \"pullin'\", 6736: 'leonard', 6737: 'picnic', 6738: 'compared', 6739: 'dessert', 6740: 'internet', 6741: \"jackpot's\", 6742: 'troy', 6743: 'gosh', 6744: 'argue', 6745: 'gary:', 6746: 'man_at_bar:', 6747: 'photos', 6748: 'good-looking', 6749: 'planted', 6750: 'fears', 6751: 'moustache', 6752: 'whoa', 6753: 'quarter', 6754: 'hike', 6755: 'blamed', 6756: 'life:', 6757: 'more', 6758: 'fellas', 6759: 'bon', 6760: 'drapes', 6761: 'painless', 6762: 'eight-year-old', 6763: 'painted', 6764: 'eye-gouger', 6765: 'mall', 6766: 'gum', 6767: 'flames', 6768: 'lumpa', 6769: 'decided', 6770: 'lovelorn', 6771: 'banquo', 6772: 'gasp', 6773: 'cell-ee', 6774: 'wood', 6775: 'highest', 6776: ':', 6777: 'meet', 6778: 'mouth'}\n"
     ]
    }
   ],
   "source": [
    "\"\"\"\n",
    "DON'T MODIFY ANYTHING IN THIS CELL\n",
    "\"\"\"\n",
    "# Preprocess Training, Validation, and Testing Data\n",
    "helper.preprocess_and_save_data(data_dir, token_lookup, create_lookup_tables)"
   ]
  },
  {
   "cell_type": "markdown",
   "metadata": {
    "deletable": true,
    "editable": true
   },
   "source": [
    "# Check Point\n",
    "This is your first checkpoint. If you ever decide to come back to this notebook or have to restart the notebook, you can start from here. The preprocessed data has been saved to disk."
   ]
  },
  {
   "cell_type": "code",
   "execution_count": 342,
   "metadata": {
    "collapsed": false,
    "deletable": true,
    "editable": true
   },
   "outputs": [],
   "source": [
    "\"\"\"\n",
    "DON'T MODIFY ANYTHING IN THIS CELL\n",
    "\"\"\"\n",
    "import helper\n",
    "import numpy as np\n",
    "import problem_unittests as tests\n",
    "\n",
    "int_text, vocab_to_int, int_to_vocab, token_dict = helper.load_preprocess()"
   ]
  },
  {
   "cell_type": "markdown",
   "metadata": {
    "deletable": true,
    "editable": true
   },
   "source": [
    "## Build the Neural Network\n",
    "You'll build the components necessary to build a RNN by implementing the following functions below:\n",
    "- get_inputs\n",
    "- get_init_cell\n",
    "- get_embed\n",
    "- build_rnn\n",
    "- build_nn\n",
    "- get_batches\n",
    "\n",
    "### Check the Version of TensorFlow and Access to GPU"
   ]
  },
  {
   "cell_type": "code",
   "execution_count": 354,
   "metadata": {
    "collapsed": false
   },
   "outputs": [
    {
     "name": "stdout",
     "output_type": "stream",
     "text": [
      "TensorFlow Version: 1.1.0\n",
      "Default GPU Device: /gpu:0\n"
     ]
    }
   ],
   "source": [
    "\"\"\"\n",
    "DON'T MODIFY ANYTHING IN THIS CELL\n",
    "\"\"\"\n",
    "from distutils.version import LooseVersion\n",
    "import warnings\n",
    "import tensorflow as tf\n",
    "\n",
    "# Check TensorFlow Version\n",
    "assert LooseVersion(tf.__version__) >= LooseVersion('1.0'), 'Please use TensorFlow version 1.0 or newer'\n",
    "print('TensorFlow Version: {}'.format(tf.__version__))\n",
    "\n",
    "# Check for a GPU\n",
    "if not tf.test.gpu_device_name():\n",
    "    warnings.warn('No GPU found. Please use a GPU to train your neural network.')\n",
    "else:\n",
    "    print('Default GPU Device: {}'.format(tf.test.gpu_device_name()))"
   ]
  },
  {
   "cell_type": "markdown",
   "metadata": {},
   "source": [
    "### Input\n",
    "Implement the `get_inputs()` function to create TF Placeholders for the Neural Network.  It should create the following placeholders:\n",
    "- Input text placeholder named \"input\" using the [TF Placeholder](https://www.tensorflow.org/api_docs/python/tf/placeholder) `name` parameter.\n",
    "- Targets placeholder\n",
    "- Learning Rate placeholder\n",
    "\n",
    "Return the placeholders in the following tuple `(Input, Targets, LearningRate)`"
   ]
  },
  {
   "cell_type": "code",
   "execution_count": 355,
   "metadata": {
    "collapsed": false,
    "deletable": true,
    "editable": true
   },
   "outputs": [
    {
     "name": "stdout",
     "output_type": "stream",
     "text": [
      "Tests Passed\n"
     ]
    }
   ],
   "source": [
    "def get_inputs():\n",
    "    \"\"\"\n",
    "    Create TF Placeholders for input, targets, and learning rate.\n",
    "    :return: Tuple (input, targets, learning rate)\n",
    "    \"\"\"\n",
    "    # TODO: Implement Function\n",
    "    targets=tf.placeholder(tf.int32, shape=[None, None], name=\"targets\")\n",
    "    learning_rate=tf.placeholder(tf.float32, name=\"learning_rate\")\n",
    "    Input=tf.placeholder(tf.int32, shape=[None, None], name=\"input\")\n",
    "    return Input, targets, learning_rate\n",
    "\n",
    "\n",
    "\"\"\"\n",
    "DON'T MODIFY ANYTHING IN THIS CELL THAT IS BELOW THIS LINE\n",
    "\"\"\"\n",
    "tests.test_get_inputs(get_inputs)"
   ]
  },
  {
   "cell_type": "markdown",
   "metadata": {
    "deletable": true,
    "editable": true
   },
   "source": [
    "### Build RNN Cell and Initialize\n",
    "Stack one or more [`BasicLSTMCells`](https://www.tensorflow.org/api_docs/python/tf/contrib/rnn/BasicLSTMCell) in a [`MultiRNNCell`](https://www.tensorflow.org/api_docs/python/tf/contrib/rnn/MultiRNNCell).\n",
    "- The Rnn size should be set using `rnn_size`\n",
    "- Initalize Cell State using the MultiRNNCell's [`zero_state()`](https://www.tensorflow.org/api_docs/python/tf/contrib/rnn/MultiRNNCell#zero_state) function\n",
    "    - Apply the name \"initial_state\" to the initial state using [`tf.identity()`](https://www.tensorflow.org/api_docs/python/tf/identity)\n",
    "\n",
    "Return the cell and initial state in the following tuple `(Cell, InitialState)`"
   ]
  },
  {
   "cell_type": "code",
   "execution_count": 356,
   "metadata": {
    "collapsed": false,
    "deletable": true,
    "editable": true,
    "scrolled": false
   },
   "outputs": [
    {
     "name": "stdout",
     "output_type": "stream",
     "text": [
      "Tests Passed\n"
     ]
    }
   ],
   "source": [
    "def get_init_cell(batch_size, rnn_size):\n",
    "    \"\"\"\n",
    "    Create an RNN Cell and initialize it.\n",
    "    :param batch_size: Size of batches\n",
    "    :param rnn_size: Size of RNNs\n",
    "    :return: Tuple (cell, initialize state)\n",
    "    \"\"\"\n",
    "    # TODO: Implement Function\n",
    "    basic=tf.contrib.rnn.BasicLSTMCell(rnn_size, activation=tf.tanh, reuse=None)\n",
    "    basic2=tf.contrib.rnn.BasicLSTMCell(rnn_size, activation=tf.nn.relu, reuse=None)\n",
    "    #basic3=tf.contrib.rnn.BasicLSTMCell(rnn_size, activation=tf.nn.relu, reuse=None)\n",
    "    #basic4=tf.contrib.rnn.BasicLSTMCell(rnn_size, activation=tf.nn.relu, reuse=None)\n",
    "    #basic5=tf.contrib.rnn.BasicLSTMCell(rnn_size, activation=tf.nn.relu, reuse=None)\n",
    "    \n",
    "    Cells = tf.contrib.rnn.MultiRNNCell([basic, basic2], state_is_tuple = True) #####\n",
    "\n",
    "    IS = Cells.zero_state(batch_size, tf.float32)\n",
    "    InitialState = tf.identity(IS, name=\"initial_state\")\n",
    "    return Cells, InitialState\n",
    "\n",
    "\n",
    "\"\"\"\n",
    "DON'T MODIFY ANYTHING IN THIS CELL THAT IS BELOW THIS LINE\n",
    "\"\"\"\n",
    "tests.test_get_init_cell(get_init_cell)"
   ]
  },
  {
   "cell_type": "markdown",
   "metadata": {
    "deletable": true,
    "editable": true
   },
   "source": [
    "### Word Embedding\n",
    "Apply embedding to `input_data` using TensorFlow.  Return the embedded sequence."
   ]
  },
  {
   "cell_type": "code",
   "execution_count": 357,
   "metadata": {
    "collapsed": false,
    "deletable": true,
    "editable": true
   },
   "outputs": [
    {
     "name": "stdout",
     "output_type": "stream",
     "text": [
      "Tensor(\"Placeholder:0\", shape=(50, 5), dtype=int32) 27 256\n",
      "embed:\n",
      " Tensor(\"embedding_lookup:0\", shape=(50, 5, 256), dtype=float32)\n",
      "Tests Passed\n"
     ]
    }
   ],
   "source": [
    "def get_embed(input_data, vocab_size, embed_dim):\n",
    "    \"\"\"\n",
    "    Create embedding for <input_data>.\n",
    "    :param input_data: TF placeholder for text input.\n",
    "    :param vocab_size: Number of words in vocabulary.\n",
    "    :param embed_dim: Number of embedding dimensions\n",
    "    :return: Embedded input.\n",
    "    \"\"\"\n",
    "    # TODO: Implement Function\n",
    "    print(input_data, vocab_size, embed_dim)\n",
    "    inputs = tf.placeholder(tf.int32, [None])\n",
    "    labels = tf.placeholder(tf.int32, [None, None])\n",
    "    n_vocab = vocab_size\n",
    "    n_embedding = embed_dim # Number of embedding features \n",
    "    embedding = tf.Variable(tf.random_uniform((n_vocab, n_embedding), -1, 1))\n",
    "    embed = tf.nn.embedding_lookup(embedding, input_data)\n",
    "    print(\"embed:\\n\",embed)\n",
    "    return embed\n",
    "\n",
    "\n",
    "\"\"\"\n",
    "DON'T MODIFY ANYTHING IN THIS CELL THAT IS BELOW THIS LINE\n",
    "\"\"\"\n",
    "tests.test_get_embed(get_embed)"
   ]
  },
  {
   "cell_type": "markdown",
   "metadata": {
    "deletable": true,
    "editable": true
   },
   "source": [
    "### Build RNN\n",
    "You created a RNN Cell in the `get_init_cell()` function.  Time to use the cell to create a RNN.\n",
    "- Build the RNN using the [`tf.nn.dynamic_rnn()`](https://www.tensorflow.org/api_docs/python/tf/nn/dynamic_rnn)\n",
    " - Apply the name \"final_state\" to the final state using [`tf.identity()`](https://www.tensorflow.org/api_docs/python/tf/identity)\n",
    "\n",
    "Return the outputs and final_state state in the following tuple `(Outputs, FinalState)` "
   ]
  },
  {
   "cell_type": "code",
   "execution_count": 358,
   "metadata": {
    "collapsed": false,
    "deletable": true,
    "editable": true
   },
   "outputs": [
    {
     "name": "stdout",
     "output_type": "stream",
     "text": [
      "Tensor(\"rnn/transpose:0\", shape=(?, ?, 256), dtype=float32)\n",
      "\n",
      "state:\n",
      " (LSTMStateTuple(c=<tf.Tensor 'rnn/while/Exit_2:0' shape=(?, 256) dtype=float32>, h=<tf.Tensor 'rnn/while/Exit_3:0' shape=(?, 256) dtype=float32>), LSTMStateTuple(c=<tf.Tensor 'rnn/while/Exit_4:0' shape=(?, 256) dtype=float32>, h=<tf.Tensor 'rnn/while/Exit_5:0' shape=(?, 256) dtype=float32>))\n",
      "\n",
      "\n",
      "Tests Passed\n"
     ]
    }
   ],
   "source": [
    "def build_rnn(cell, inputs):\n",
    "    \"\"\"\n",
    "    Create a RNN using a RNN Cell\n",
    "    :param cell: RNN Cell\n",
    "    :param inputs: Input text data\n",
    "    :return: Tuple (Outputs, Final State)\n",
    "    \"\"\"\n",
    "\n",
    "    # TODO: Implement Function\n",
    "    #lll = get_init_cell(batch_size, rnn_size)\n",
    "    Outputs, _state=tf.nn.dynamic_rnn(\n",
    "    cell,\n",
    "    inputs,\n",
    "    dtype = tf.float32,\n",
    "                                  )\n",
    "    print(Outputs)\n",
    "    print()\n",
    "    print(\"state:\\n\", _state)\n",
    "    print(\"\\n\")\n",
    "    FinalState = tf.identity(_state, name=\"final_state\")\n",
    "    return Outputs, FinalState\n",
    "\n",
    "\n",
    "\"\"\"\n",
    "DON'T MODIFY ANYTHING IN THIS CELL THAT IS BELOW THIS LINE\n",
    "\"\"\"\n",
    "tests.test_build_rnn(build_rnn)"
   ]
  },
  {
   "cell_type": "markdown",
   "metadata": {
    "deletable": true,
    "editable": true
   },
   "source": [
    "### Build the Neural Network\n",
    "Apply the functions you implemented above to:\n",
    "- Apply embedding to `input_data` using your `get_embed(input_data, vocab_size, embed_dim)` function.\n",
    "- Build RNN using `cell` and your `build_rnn(cell, inputs)` function.\n",
    "- Apply a fully connected layer with a linear activation and `vocab_size` as the number of outputs.\n",
    "\n",
    "Return the logits and final state in the following tuple (Logits, FinalState) "
   ]
  },
  {
   "cell_type": "code",
   "execution_count": 359,
   "metadata": {
    "collapsed": false,
    "deletable": true,
    "editable": true,
    "scrolled": false
   },
   "outputs": [
    {
     "name": "stdout",
     "output_type": "stream",
     "text": [
      "Tensor(\"Placeholder:0\", shape=(128, 5), dtype=int32) 27 300\n",
      "embed:\n",
      " Tensor(\"embedding_lookup:0\", shape=(128, 5, 300), dtype=float32)\n",
      "Tensor(\"rnn/transpose:0\", shape=(128, 5, 256), dtype=float32)\n",
      "\n",
      "state:\n",
      " (LSTMStateTuple(c=<tf.Tensor 'rnn/while/Exit_2:0' shape=(?, 256) dtype=float32>, h=<tf.Tensor 'rnn/while/Exit_3:0' shape=(?, 256) dtype=float32>), LSTMStateTuple(c=<tf.Tensor 'rnn/while/Exit_4:0' shape=(?, 256) dtype=float32>, h=<tf.Tensor 'rnn/while/Exit_5:0' shape=(?, 256) dtype=float32>))\n",
      "\n",
      "\n",
      "Tests Passed\n"
     ]
    }
   ],
   "source": [
    "def build_nn(cell, rnn_size, input_data, vocab_size, embed_dim):\n",
    "    \"\"\"\n",
    "    Build part of the neural network\n",
    "    :param cell: RNN cell\n",
    "    :param rnn_size: Size of rnns\n",
    "    :param input_data: Input data\n",
    "    :param vocab_size: Vocabulary size\n",
    "    :param embed_dim: Number of embedding dimensions\n",
    "    :return: Tuple (Logits, FinalState)\n",
    "    \"\"\"\n",
    "    # TODO: Implement Function\n",
    "    inputs = get_embed(input_data, vocab_size, embed_dim)\n",
    "    #print(inputs)\n",
    "    outputs, fs = build_rnn(cell,inputs)\n",
    "    #print(\"outputs:\\n\",outputs)\n",
    "    #print(\"\\nfinal_state:\\n\", final_state)\n",
    "    #\"\"\"\n",
    "    Logits = tf.contrib.layers.fully_connected(outputs, vocab_size, \n",
    "        activation_fn=None, \n",
    "        normalizer_fn=None, \n",
    "        #normalizer_params=None,\n",
    "        #weights_initializer=initializers.xavier_initializer(),\n",
    "        #weights_regularizer=None,\n",
    "        #biases_initializer=tf.zeros_initializer(),\n",
    "        #reuse=None,\n",
    "        trainable=True,\n",
    "        )\n",
    "    final_state=\"test\"\n",
    "    Tuple = (Logits, fs)\n",
    "    \n",
    "    #\"\"\"\n",
    "    return Tuple\n",
    "\n",
    "\"\"\"\n",
    "DON'T MODIFY ANYTHING IN THIS CELL THAT IS BELOW THIS LINE\n",
    "\"\"\"\n",
    "tests.test_build_nn(build_nn)"
   ]
  },
  {
   "cell_type": "markdown",
   "metadata": {
    "deletable": true,
    "editable": true
   },
   "source": [
    "### Batches\n",
    "Implement `get_batches` to create batches of input and targets using `int_text`.  The batches should be a Numpy array with the shape `(number of batches, 2, batch size, sequence length)`. Each batch contains two elements:\n",
    "- The first element is a single batch of **input** with the shape `[batch size, sequence length]`\n",
    "- The second element is a single batch of **targets** with the shape `[batch size, sequence length]`\n",
    "\n",
    "If you can't fill the last batch with enough data, drop the last batch.\n",
    "\n",
    "For exmple, `get_batches([1, 2, 3, 4, 5, 6, 7, 8, 9, 10, 11, 12, 13, 14, 15, 16, 17, 18, 19, 20], 3, 2)` would return a Numpy array of the following:\n",
    "```\n",
    "[\n",
    "  # First Batch\n",
    "  [\n",
    "    # Batch of Input\n",
    "    [[ 1  2], [ 7  8], [13 14]]\n",
    "    # Batch of targets\n",
    "    [[ 2  3], [ 8  9], [14 15]]\n",
    "  ]\n",
    "\n",
    "  # Second Batch\n",
    "  [\n",
    "    # Batch of Input\n",
    "    [[ 3  4], [ 9 10], [15 16]]\n",
    "    # Batch of targets\n",
    "    [[ 4  5], [10 11], [16 17]]\n",
    "  ]\n",
    "\n",
    "  # Third Batch\n",
    "  [\n",
    "    # Batch of Input\n",
    "    [[ 5  6], [11 12], [17 18]]\n",
    "    # Batch of targets\n",
    "    [[ 6  7], [12 13], [18  1]]\n",
    "  ]\n",
    "]\n",
    "```\n",
    "\n",
    "Notice that the last target value in the last batch is the first input value of the first batch. In this case, `1`. This is a common technique used when creating sequence batches, although it is rather unintuitive."
   ]
  },
  {
   "cell_type": "code",
   "execution_count": 360,
   "metadata": {
    "collapsed": false,
    "deletable": true,
    "editable": true,
    "scrolled": true
   },
   "outputs": [
    {
     "name": "stdout",
     "output_type": "stream",
     "text": [
      "\n",
      "5000\n",
      "batch_size:  128\n",
      "\n",
      "seq_length:  5\n",
      "\n",
      "\n",
      "n_batches:\n",
      " 7\n",
      "\n",
      "x:\n",
      " [   0    1    2 ..., 4477 4478 4479]\n",
      "\n",
      "y:\n",
      " [   1    2    3 ..., 4478 4479 4480]\n",
      "Tests Passed\n"
     ]
    }
   ],
   "source": [
    "def get_batches(int_text, batch_size, seq_length):\n",
    "    \"\"\"\n",
    "    Return batches of input and target\n",
    "    :param int_text: Text with the words replaced by their ids\n",
    "    :param batch_size: The size of batch\n",
    "    :param seq_length: The length of sequence\n",
    "    :return: Batches as a Numpy array\n",
    "    \"\"\"\n",
    "    # TODO: Implement Function\n",
    "    print()\n",
    "    print(len(int_text))\n",
    "    #print(\"\\nInt_Text\\n:\", int_text)\n",
    "    print(\"batch_size: \", batch_size)\n",
    "    print()\n",
    "    print(\"seq_length: \", seq_length)\n",
    "    print()\n",
    "    n_batches = len(int_text)//(batch_size * seq_length)\n",
    "    print(\"\\nn_batches:\\n\", n_batches)\n",
    "    # Only include x's that are not missing y's\n",
    "    x = np.array(int_text[: n_batches * batch_size * seq_length])\n",
    "    print(\"\\nx:\\n\", x)\n",
    "    y = np.array(int_text[1: (n_batches * batch_size * seq_length) +1])\n",
    "    print(\"\\ny:\\n\", y)\n",
    "    y[-1]=x[0]\n",
    "    # Reshape and split\n",
    "    x_batches = np.array_split(x.reshape(batch_size, -1), n_batches, 1)\n",
    "    y_batches = np.array_split(y.reshape(batch_size, -1), n_batches, 1)\n",
    "    return np.array(list(zip(x_batches, y_batches)))\n",
    "\n",
    "\n",
    "\"\"\"\n",
    "DON'T MODIFY ANYTHING IN THIS CELL THAT IS BELOW THIS LINE\n",
    "\"\"\"\n",
    "tests.test_get_batches(get_batches)"
   ]
  },
  {
   "cell_type": "markdown",
   "metadata": {
    "deletable": true,
    "editable": true
   },
   "source": [
    "## Neural Network Training\n",
    "### Hyperparameters\n",
    "Tune the following parameters:\n",
    "\n",
    "- Set `num_epochs` to the number of epochs.\n",
    "- Set `batch_size` to the batch size.\n",
    "- Set `rnn_size` to the size of the RNNs.\n",
    "- Set `embed_dim` to the size of the embedding.\n",
    "- Set `seq_length` to the length of sequence.\n",
    "- Set `learning_rate` to the learning rate.\n",
    "- Set `show_every_n_batches` to the number of batches the neural network should print progress."
   ]
  },
  {
   "cell_type": "code",
   "execution_count": 393,
   "metadata": {
    "collapsed": true,
    "deletable": true,
    "editable": true
   },
   "outputs": [],
   "source": [
    "# Number of Epochs\n",
    "num_epochs = 150\n",
    "# Batch Size\n",
    "batch_size = 20\n",
    "# RNN Size\n",
    "rnn_size = 300\n",
    "# Embedding Dimension Size\n",
    "embed_dim = 50\n",
    "# Sequence Length\n",
    "seq_length = 20\n",
    "# Learning Rate\n",
    "learning_rate = 0.01\n",
    "# Show stats for every n number of batches\n",
    "show_every_n_batches = 100\n",
    "\n",
    "\"\"\"\n",
    "DON'T MODIFY ANYTHING IN THIS CELL THAT IS BELOW THIS LINE\n",
    "\"\"\"\n",
    "save_dir = './save'"
   ]
  },
  {
   "cell_type": "markdown",
   "metadata": {
    "deletable": true,
    "editable": true
   },
   "source": [
    "### Build the Graph\n",
    "Build the graph using the neural network you implemented."
   ]
  },
  {
   "cell_type": "code",
   "execution_count": 394,
   "metadata": {
    "collapsed": false,
    "deletable": true,
    "editable": true,
    "scrolled": false
   },
   "outputs": [
    {
     "name": "stdout",
     "output_type": "stream",
     "text": [
      "Tensor(\"input:0\", shape=(?, ?), dtype=int32) 6779 50\n",
      "embed:\n",
      " Tensor(\"embedding_lookup:0\", shape=(?, ?, 50), dtype=float32)\n",
      "Tensor(\"rnn/transpose:0\", shape=(?, ?, 300), dtype=float32)\n",
      "\n",
      "state:\n",
      " (LSTMStateTuple(c=<tf.Tensor 'rnn/while/Exit_2:0' shape=(?, 300) dtype=float32>, h=<tf.Tensor 'rnn/while/Exit_3:0' shape=(?, 300) dtype=float32>), LSTMStateTuple(c=<tf.Tensor 'rnn/while/Exit_4:0' shape=(?, 300) dtype=float32>, h=<tf.Tensor 'rnn/while/Exit_5:0' shape=(?, 300) dtype=float32>))\n",
      "\n",
      "\n"
     ]
    }
   ],
   "source": [
    "\"\"\"\n",
    "DON'T MODIFY ANYTHING IN THIS CELL\n",
    "\"\"\"\n",
    "from tensorflow.contrib import seq2seq\n",
    "\n",
    "train_graph = tf.Graph()\n",
    "with train_graph.as_default():\n",
    "    vocab_size = len(int_to_vocab)\n",
    "    input_text, targets, lr = get_inputs()\n",
    "    input_data_shape = tf.shape(input_text)\n",
    "    cell, initial_state = get_init_cell(input_data_shape[0], rnn_size)\n",
    "    logits, final_state = build_nn(cell, rnn_size, input_text, vocab_size, embed_dim)\n",
    "\n",
    "    # Probabilities for generating words\n",
    "    probs = tf.nn.softmax(logits, name='probs')\n",
    "\n",
    "    # Loss function\n",
    "    cost = seq2seq.sequence_loss(\n",
    "        logits,\n",
    "        targets,\n",
    "        tf.ones([input_data_shape[0], input_data_shape[1]]))\n",
    "\n",
    "    # Optimizer\n",
    "    optimizer = tf.train.AdamOptimizer(lr)\n",
    "\n",
    "    # Gradient Clipping\n",
    "    gradients = optimizer.compute_gradients(cost)\n",
    "    capped_gradients = [(tf.clip_by_value(grad, -1., 1.), var) for grad, var in gradients if grad is not None]\n",
    "    train_op = optimizer.apply_gradients(capped_gradients)"
   ]
  },
  {
   "cell_type": "markdown",
   "metadata": {
    "deletable": true,
    "editable": true
   },
   "source": [
    "## Train\n",
    "Train the neural network on the preprocessed data.  If you have a hard time getting a good loss, check the [forms](https://discussions.udacity.com/) to see if anyone is having the same problem."
   ]
  },
  {
   "cell_type": "code",
   "execution_count": 395,
   "metadata": {
    "collapsed": false,
    "scrolled": false
   },
   "outputs": [
    {
     "name": "stdout",
     "output_type": "stream",
     "text": [
      "\n",
      "69100\n",
      "batch_size:  20\n",
      "\n",
      "seq_length:  20\n",
      "\n",
      "\n",
      "n_batches:\n",
      " 172\n",
      "\n",
      "x:\n",
      " [1298 4029 6328 ..., 4443 5817 6269]\n",
      "\n",
      "y:\n",
      " [4029 6328 3761 ..., 5817 6269 2395]\n",
      "Epoch   0 Batch    0/172   train_loss = 8.821\n",
      "Epoch   0 Batch  100/172   train_loss = 5.847\n",
      "Epoch   1 Batch   28/172   train_loss = 5.680\n",
      "Epoch   1 Batch  128/172   train_loss = 5.244\n",
      "Epoch   2 Batch   56/172   train_loss = 4.820\n",
      "Epoch   2 Batch  156/172   train_loss = 4.814\n",
      "Epoch   3 Batch   84/172   train_loss = 4.760\n",
      "Epoch   4 Batch   12/172   train_loss = 4.091\n",
      "Epoch   4 Batch  112/172   train_loss = 4.303\n",
      "Epoch   5 Batch   40/172   train_loss = 3.900\n",
      "Epoch   5 Batch  140/172   train_loss = 3.775\n",
      "Epoch   6 Batch   68/172   train_loss = 3.540\n",
      "Epoch   6 Batch  168/172   train_loss = 3.230\n",
      "Epoch   7 Batch   96/172   train_loss = 3.494\n",
      "Epoch   8 Batch   24/172   train_loss = 3.004\n",
      "Epoch   8 Batch  124/172   train_loss = 2.857\n",
      "Epoch   9 Batch   52/172   train_loss = 2.901\n",
      "Epoch   9 Batch  152/172   train_loss = 2.861\n",
      "Epoch  10 Batch   80/172   train_loss = 2.578\n",
      "Epoch  11 Batch    8/172   train_loss = 2.655\n",
      "Epoch  11 Batch  108/172   train_loss = 2.373\n",
      "Epoch  12 Batch   36/172   train_loss = 2.389\n",
      "Epoch  12 Batch  136/172   train_loss = 2.274\n",
      "Epoch  13 Batch   64/172   train_loss = 2.382\n",
      "Epoch  13 Batch  164/172   train_loss = 1.988\n",
      "Epoch  14 Batch   92/172   train_loss = 2.026\n",
      "Epoch  15 Batch   20/172   train_loss = 1.850\n",
      "Epoch  15 Batch  120/172   train_loss = 1.857\n",
      "Epoch  16 Batch   48/172   train_loss = 1.745\n",
      "Epoch  16 Batch  148/172   train_loss = 1.659\n",
      "Epoch  17 Batch   76/172   train_loss = 1.729\n",
      "Epoch  18 Batch    4/172   train_loss = 1.656\n",
      "Epoch  18 Batch  104/172   train_loss = 1.547\n",
      "Epoch  19 Batch   32/172   train_loss = 1.613\n",
      "Epoch  19 Batch  132/172   train_loss = 1.319\n",
      "Epoch  20 Batch   60/172   train_loss = 1.347\n",
      "Epoch  20 Batch  160/172   train_loss = 1.207\n",
      "Epoch  21 Batch   88/172   train_loss = 1.378\n",
      "Epoch  22 Batch   16/172   train_loss = 1.235\n",
      "Epoch  22 Batch  116/172   train_loss = 1.311\n",
      "Epoch  23 Batch   44/172   train_loss = 1.237\n",
      "Epoch  23 Batch  144/172   train_loss = 1.341\n",
      "Epoch  24 Batch   72/172   train_loss = 1.108\n",
      "Epoch  25 Batch    0/172   train_loss = 1.252\n",
      "Epoch  25 Batch  100/172   train_loss = 1.161\n",
      "Epoch  26 Batch   28/172   train_loss = 1.245\n",
      "Epoch  26 Batch  128/172   train_loss = 1.121\n",
      "Epoch  27 Batch   56/172   train_loss = 1.205\n",
      "Epoch  27 Batch  156/172   train_loss = 1.064\n",
      "Epoch  28 Batch   84/172   train_loss = 1.092\n",
      "Epoch  29 Batch   12/172   train_loss = 1.011\n",
      "Epoch  29 Batch  112/172   train_loss = 1.033\n",
      "Epoch  30 Batch   40/172   train_loss = 1.112\n",
      "Epoch  30 Batch  140/172   train_loss = 0.936\n",
      "\n",
      "Saved current new low loss of:  0.936166\n",
      "Epoch  31 Batch   68/172   train_loss = 1.125\n",
      "Epoch  31 Batch  168/172   train_loss = 0.937\n",
      "Epoch  32 Batch   96/172   train_loss = 1.041\n",
      "Epoch  33 Batch   24/172   train_loss = 0.909\n",
      "\n",
      "Saved current new low loss of:  0.90926\n",
      "Epoch  33 Batch  124/172   train_loss = 1.059\n",
      "Epoch  34 Batch   52/172   train_loss = 1.031\n",
      "Epoch  34 Batch  152/172   train_loss = 1.048\n",
      "Epoch  35 Batch   80/172   train_loss = 1.016\n",
      "Epoch  36 Batch    8/172   train_loss = 1.099\n",
      "Epoch  36 Batch  108/172   train_loss = 0.917\n",
      "Epoch  37 Batch   36/172   train_loss = 0.998\n",
      "Epoch  37 Batch  136/172   train_loss = 0.877\n",
      "\n",
      "Saved current new low loss of:  0.876603\n",
      "Epoch  38 Batch   64/172   train_loss = 1.003\n",
      "Epoch  38 Batch  164/172   train_loss = 1.038\n",
      "Epoch  39 Batch   92/172   train_loss = 0.998\n",
      "Epoch  40 Batch   20/172   train_loss = 0.888\n",
      "Epoch  40 Batch  120/172   train_loss = 0.951\n",
      "Epoch  41 Batch   48/172   train_loss = 0.874\n",
      "\n",
      "Saved current new low loss of:  0.873777\n",
      "Epoch  41 Batch  148/172   train_loss = 0.857\n",
      "\n",
      "Saved current new low loss of:  0.856686\n",
      "Epoch  42 Batch   76/172   train_loss = 0.975\n",
      "Epoch  43 Batch    4/172   train_loss = 0.946\n",
      "Epoch  43 Batch  104/172   train_loss = 0.804\n",
      "\n",
      "Saved current new low loss of:  0.803597\n",
      "Epoch  44 Batch   32/172   train_loss = 0.898\n",
      "Epoch  44 Batch  132/172   train_loss = 0.882\n",
      "Epoch  45 Batch   60/172   train_loss = 0.938\n",
      "Epoch  45 Batch  160/172   train_loss = 0.868\n",
      "Epoch  46 Batch   88/172   train_loss = 2008.202\n",
      "Epoch  47 Batch   16/172   train_loss = 1182.237\n",
      "Epoch  47 Batch  116/172   train_loss = 108.975\n",
      "Epoch  48 Batch   44/172   train_loss = 36.478\n",
      "Epoch  48 Batch  144/172   train_loss = 32.079\n",
      "Epoch  49 Batch   72/172   train_loss = 29.816\n",
      "Epoch  50 Batch    0/172   train_loss = 20.877\n",
      "Epoch  50 Batch  100/172   train_loss = 18.578\n",
      "Epoch  51 Batch   28/172   train_loss = 18.500\n",
      "Epoch  51 Batch  128/172   train_loss = 13.955\n",
      "Epoch  52 Batch   56/172   train_loss = 12.612\n",
      "Epoch  52 Batch  156/172   train_loss = 11.412\n",
      "Epoch  53 Batch   84/172   train_loss = 10.406\n",
      "Epoch  54 Batch   12/172   train_loss = 10.755\n",
      "Epoch  54 Batch  112/172   train_loss = 10.395\n",
      "Epoch  55 Batch   40/172   train_loss = 7.940\n",
      "Epoch  55 Batch  140/172   train_loss = 8.954\n",
      "Epoch  56 Batch   68/172   train_loss = 9.264\n",
      "Epoch  56 Batch  168/172   train_loss = 7.963\n",
      "Epoch  57 Batch   96/172   train_loss = 8.555\n",
      "Epoch  58 Batch   24/172   train_loss = 8.015\n",
      "Epoch  58 Batch  124/172   train_loss = 7.688\n",
      "Epoch  59 Batch   52/172   train_loss = 7.290\n",
      "Epoch  59 Batch  152/172   train_loss = 7.119\n",
      "Epoch  60 Batch   80/172   train_loss = 6.923\n",
      "Epoch  61 Batch    8/172   train_loss = 6.406\n",
      "Epoch  61 Batch  108/172   train_loss = 7.414\n",
      "Epoch  62 Batch   36/172   train_loss = 7.046\n",
      "Epoch  62 Batch  136/172   train_loss = 6.685\n",
      "Epoch  63 Batch   64/172   train_loss = 6.336\n",
      "Epoch  63 Batch  164/172   train_loss = 6.722\n",
      "Epoch  64 Batch   92/172   train_loss = 6.518\n",
      "Epoch  65 Batch   20/172   train_loss = 6.618\n",
      "Epoch  65 Batch  120/172   train_loss = 6.201\n",
      "Epoch  66 Batch   48/172   train_loss = 6.411\n",
      "Epoch  66 Batch  148/172   train_loss = 6.310\n",
      "Epoch  67 Batch   76/172   train_loss = 6.205\n",
      "Epoch  68 Batch    4/172   train_loss = 6.465\n",
      "Epoch  68 Batch  104/172   train_loss = 6.256\n",
      "Epoch  69 Batch   32/172   train_loss = 5.899\n",
      "Epoch  69 Batch  132/172   train_loss = 6.441\n",
      "Epoch  70 Batch   60/172   train_loss = 5.970\n",
      "Epoch  70 Batch  160/172   train_loss = 6.503\n",
      "Epoch  71 Batch   88/172   train_loss = 6.321\n",
      "Epoch  72 Batch   16/172   train_loss = 6.735\n",
      "Epoch  72 Batch  116/172   train_loss = 6.352\n",
      "Epoch  73 Batch   44/172   train_loss = 6.118\n",
      "Epoch  73 Batch  144/172   train_loss = 6.124\n",
      "Epoch  74 Batch   72/172   train_loss = 6.097\n",
      "Epoch  75 Batch    0/172   train_loss = 6.033\n",
      "Epoch  75 Batch  100/172   train_loss = 6.046\n",
      "Epoch  76 Batch   28/172   train_loss = 6.362\n",
      "Epoch  76 Batch  128/172   train_loss = 6.042\n",
      "Epoch  77 Batch   56/172   train_loss = 6.001\n",
      "Epoch  77 Batch  156/172   train_loss = 6.064\n",
      "Epoch  78 Batch   84/172   train_loss = 6.085\n",
      "Epoch  79 Batch   12/172   train_loss = 5.940\n",
      "Epoch  79 Batch  112/172   train_loss = 6.297\n",
      "Epoch  80 Batch   40/172   train_loss = 5.586\n",
      "Epoch  80 Batch  140/172   train_loss = 5.702\n",
      "Epoch  81 Batch   68/172   train_loss = 6.180\n",
      "Epoch  81 Batch  168/172   train_loss = 5.756\n",
      "Epoch  82 Batch   96/172   train_loss = 5.899\n",
      "Epoch  83 Batch   24/172   train_loss = 5.954\n",
      "Epoch  83 Batch  124/172   train_loss = 5.819\n",
      "Epoch  84 Batch   52/172   train_loss = 5.972\n",
      "Epoch  84 Batch  152/172   train_loss = 5.967\n",
      "Epoch  85 Batch   80/172   train_loss = 5.754\n",
      "Epoch  86 Batch    8/172   train_loss = 5.690\n",
      "Epoch  86 Batch  108/172   train_loss = 5.961\n",
      "Epoch  87 Batch   36/172   train_loss = 6.113\n",
      "Epoch  87 Batch  136/172   train_loss = 5.888\n",
      "Epoch  88 Batch   64/172   train_loss = 5.627\n",
      "Epoch  88 Batch  164/172   train_loss = 5.753\n",
      "Epoch  89 Batch   92/172   train_loss = 5.933\n",
      "Epoch  90 Batch   20/172   train_loss = 5.895\n",
      "Epoch  90 Batch  120/172   train_loss = 5.550\n",
      "Epoch  91 Batch   48/172   train_loss = 5.471\n",
      "Epoch  91 Batch  148/172   train_loss = 5.530\n",
      "Epoch  92 Batch   76/172   train_loss = 5.402\n",
      "Epoch  93 Batch    4/172   train_loss = 5.740\n",
      "Epoch  93 Batch  104/172   train_loss = 5.240\n",
      "Epoch  94 Batch   32/172   train_loss = 5.091\n",
      "Epoch  94 Batch  132/172   train_loss = 5.727\n",
      "Epoch  95 Batch   60/172   train_loss = 5.072\n",
      "Epoch  95 Batch  160/172   train_loss = 5.568\n",
      "Epoch  96 Batch   88/172   train_loss = 5.272\n",
      "Epoch  97 Batch   16/172   train_loss = 5.641\n",
      "Epoch  97 Batch  116/172   train_loss = 5.523\n",
      "Epoch  98 Batch   44/172   train_loss = 5.192\n",
      "Epoch  98 Batch  144/172   train_loss = 5.263\n",
      "Epoch  99 Batch   72/172   train_loss = 5.200\n",
      "Epoch 100 Batch    0/172   train_loss = 5.546\n",
      "Epoch 100 Batch  100/172   train_loss = 5.228\n",
      "Epoch 101 Batch   28/172   train_loss = 5.490\n",
      "Epoch 101 Batch  128/172   train_loss = 5.172\n",
      "Epoch 102 Batch   56/172   train_loss = 5.329\n",
      "Epoch 102 Batch  156/172   train_loss = 5.283\n",
      "Epoch 103 Batch   84/172   train_loss = 5.470\n",
      "Epoch 104 Batch   12/172   train_loss = 5.070\n",
      "Epoch 104 Batch  112/172   train_loss = 5.385\n",
      "Epoch 105 Batch   40/172   train_loss = 4.834\n",
      "Epoch 105 Batch  140/172   train_loss = 4.985\n",
      "Epoch 106 Batch   68/172   train_loss = 5.370\n",
      "Epoch 106 Batch  168/172   train_loss = 5.052\n",
      "Epoch 107 Batch   96/172   train_loss = 5.027\n",
      "Epoch 108 Batch   24/172   train_loss = 5.094\n",
      "Epoch 108 Batch  124/172   train_loss = 5.022\n",
      "Epoch 109 Batch   52/172   train_loss = 4.987\n",
      "Epoch 109 Batch  152/172   train_loss = 5.129\n",
      "Epoch 110 Batch   80/172   train_loss = 5.110\n",
      "Epoch 111 Batch    8/172   train_loss = 4.885\n",
      "Epoch 111 Batch  108/172   train_loss = 4.989\n",
      "Epoch 112 Batch   36/172   train_loss = 5.174\n",
      "Epoch 112 Batch  136/172   train_loss = 5.228\n",
      "Epoch 113 Batch   64/172   train_loss = 4.747\n",
      "Epoch 113 Batch  164/172   train_loss = 4.908\n",
      "Epoch 114 Batch   92/172   train_loss = 5.190\n",
      "Epoch 115 Batch   20/172   train_loss = 4.991\n",
      "Epoch 115 Batch  120/172   train_loss = 4.850\n",
      "Epoch 116 Batch   48/172   train_loss = 5.008\n",
      "Epoch 116 Batch  148/172   train_loss = 4.922\n",
      "Epoch 117 Batch   76/172   train_loss = 4.876\n",
      "Epoch 118 Batch    4/172   train_loss = 5.123\n",
      "Epoch 118 Batch  104/172   train_loss = 4.777\n",
      "Epoch 119 Batch   32/172   train_loss = 4.627\n",
      "Epoch 119 Batch  132/172   train_loss = 5.202\n",
      "Epoch 120 Batch   60/172   train_loss = 4.750\n",
      "Epoch 120 Batch  160/172   train_loss = 5.060\n",
      "Epoch 121 Batch   88/172   train_loss = 4.892\n",
      "Epoch 122 Batch   16/172   train_loss = 4.992\n",
      "Epoch 122 Batch  116/172   train_loss = 4.969\n",
      "Epoch 123 Batch   44/172   train_loss = 4.853\n",
      "Epoch 123 Batch  144/172   train_loss = 4.839\n",
      "Epoch 124 Batch   72/172   train_loss = 4.686\n",
      "Epoch 125 Batch    0/172   train_loss = 4.751\n",
      "Epoch 125 Batch  100/172   train_loss = 4.986\n",
      "Epoch 126 Batch   28/172   train_loss = 5.175\n",
      "Epoch 126 Batch  128/172   train_loss = 5.090\n",
      "Epoch 127 Batch   56/172   train_loss = 4.868\n",
      "Epoch 127 Batch  156/172   train_loss = 5.050\n",
      "Epoch 128 Batch   84/172   train_loss = 5.033\n",
      "Epoch 129 Batch   12/172   train_loss = 5.141\n",
      "Epoch 129 Batch  112/172   train_loss = 4.916\n",
      "Epoch 130 Batch   40/172   train_loss = 4.767\n",
      "Epoch 130 Batch  140/172   train_loss = 4.852\n",
      "Epoch 131 Batch   68/172   train_loss = 5.048\n",
      "Epoch 131 Batch  168/172   train_loss = 4.796\n",
      "Epoch 132 Batch   96/172   train_loss = 4.811\n",
      "Epoch 133 Batch   24/172   train_loss = 4.854\n",
      "Epoch 133 Batch  124/172   train_loss = 4.800\n",
      "Epoch 134 Batch   52/172   train_loss = 4.689\n",
      "Epoch 134 Batch  152/172   train_loss = 5.111\n",
      "Epoch 135 Batch   80/172   train_loss = 4.899\n",
      "Epoch 136 Batch    8/172   train_loss = 4.524\n",
      "Epoch 136 Batch  108/172   train_loss = 5.015\n",
      "Epoch 137 Batch   36/172   train_loss = 4.953\n",
      "Epoch 137 Batch  136/172   train_loss = 4.991\n",
      "Epoch 138 Batch   64/172   train_loss = 4.619\n",
      "Epoch 138 Batch  164/172   train_loss = 4.881\n",
      "Epoch 139 Batch   92/172   train_loss = 5.032\n",
      "Epoch 140 Batch   20/172   train_loss = 4.964\n",
      "Epoch 140 Batch  120/172   train_loss = 4.748\n",
      "Epoch 141 Batch   48/172   train_loss = 4.778\n",
      "Epoch 141 Batch  148/172   train_loss = 4.943\n",
      "Epoch 142 Batch   76/172   train_loss = 4.891\n",
      "Epoch 143 Batch    4/172   train_loss = 5.087\n",
      "Epoch 143 Batch  104/172   train_loss = 4.642\n",
      "Epoch 144 Batch   32/172   train_loss = 4.549\n",
      "Epoch 144 Batch  132/172   train_loss = 5.079\n",
      "Epoch 145 Batch   60/172   train_loss = 4.750\n",
      "Epoch 145 Batch  160/172   train_loss = 4.976\n",
      "Epoch 146 Batch   88/172   train_loss = 4.826\n",
      "Epoch 147 Batch   16/172   train_loss = 4.921\n",
      "Epoch 147 Batch  116/172   train_loss = 4.959\n",
      "Epoch 148 Batch   44/172   train_loss = 4.879\n",
      "Epoch 148 Batch  144/172   train_loss = 4.685\n",
      "Epoch 149 Batch   72/172   train_loss = 4.506\n",
      "Model Trained and Saved\n",
      "Saved weights came from when lowest loss was:  0.8035966753959656\n"
     ]
    }
   ],
   "source": [
    "\"\"\"\n",
    "DON'T MODIFY ANYTHING IN THIS CELL\n",
    "\"\"\"\n",
    "global previouslow\n",
    "batches = get_batches(int_text, batch_size, seq_length)\n",
    "previouslow =100 #starting loss is actually 8.8 usually. This will ensure that initial value is set on first run.\n",
    "with tf.Session(graph=train_graph) as sess:\n",
    "    sess.run(tf.global_variables_initializer())\n",
    "\n",
    "    for epoch_i in range(num_epochs):\n",
    "        state = sess.run(initial_state, {input_text: batches[0][0]})\n",
    "\n",
    "        for batch_i, (x, y) in enumerate(batches):\n",
    "            feed = {\n",
    "                input_text: x,\n",
    "                targets: y,\n",
    "                initial_state: state,\n",
    "                lr: learning_rate}\n",
    "            train_loss, state, _ = sess.run([cost, final_state, train_op], feed)\n",
    "\n",
    "            # Show every <show_every_n_batches> batches\n",
    "            if (epoch_i * len(batches) + batch_i) % show_every_n_batches == 0:\n",
    "                print('Epoch {:>3} Batch {:>4}/{}   train_loss = {:.3f}'.format(\n",
    "                    epoch_i,\n",
    "                    batch_i,\n",
    "                    len(batches),\n",
    "                    train_loss))\n",
    "                currentlow=float(train_loss)\n",
    "                if float(train_loss) < 1:\n",
    "                    if currentlow < float(previouslow):\n",
    "                        previouslow = currentlow\n",
    "                        itsaver = tf.train.Saver()     \n",
    "                        itsaver.save(sess, save_dir)\n",
    "                        print(\"\\nSaved current new low loss of: \", train_loss)\n",
    "\n",
    "    #Save Model\n",
    "    #saver = tf.train.Saver()\n",
    "    #saver.save(sess, save_dir)\n",
    "    print('Model Trained and Saved')\n",
    "    print('Saved weights came from when lowest loss was: ',previouslow)"
   ]
  },
  {
   "cell_type": "markdown",
   "metadata": {
    "collapsed": false,
    "deletable": true,
    "editable": true
   },
   "source": [
    "\"\"\"\n",
    "DON'T MODIFY ANYTHING IN THIS CELL\n",
    "\"\"\"\n",
    "batches = get_batches(int_text, batch_size, seq_length)\n",
    "\n",
    "with tf.Session(graph=train_graph) as sess:\n",
    "    sess.run(tf.global_variables_initializer())\n",
    "\n",
    "    for epoch_i in range(num_epochs):\n",
    "        state = sess.run(initial_state, {input_text: batches[0][0]})\n",
    "\n",
    "        for batch_i, (x, y) in enumerate(batches):\n",
    "            feed = {\n",
    "                input_text: x,\n",
    "                targets: y,\n",
    "                initial_state: state,\n",
    "                lr: learning_rate}\n",
    "            train_loss, state, _ = sess.run([cost, final_state, train_op], feed)\n",
    "\n",
    "            # Show every <show_every_n_batches> batches\n",
    "            if (epoch_i * len(batches) + batch_i) % show_every_n_batches == 0:\n",
    "                print('Epoch {:>3} Batch {:>4}/{}   train_loss = {:.3f}'.format(\n",
    "                    epoch_i,\n",
    "                    batch_i,\n",
    "                    len(batches),\n",
    "                    train_loss))\n",
    "\n",
    "    # Save Model\n",
    "    saver = tf.train.Saver()\n",
    "    saver.save(sess, save_dir)\n",
    "    print('Model Trained and Saved')"
   ]
  },
  {
   "cell_type": "markdown",
   "metadata": {
    "deletable": true,
    "editable": true
   },
   "source": [
    "## Save Parameters\n",
    "Save `seq_length` and `save_dir` for generating a new TV script."
   ]
  },
  {
   "cell_type": "code",
   "execution_count": 396,
   "metadata": {
    "collapsed": false,
    "deletable": true,
    "editable": true
   },
   "outputs": [],
   "source": [
    "\"\"\"\n",
    "DON'T MODIFY ANYTHING IN THIS CELL\n",
    "\"\"\"\n",
    "# Save parameters for checkpoint\n",
    "helper.save_params((seq_length, save_dir))"
   ]
  },
  {
   "cell_type": "markdown",
   "metadata": {
    "deletable": true,
    "editable": true
   },
   "source": [
    "# Checkpoint"
   ]
  },
  {
   "cell_type": "code",
   "execution_count": 397,
   "metadata": {
    "collapsed": false,
    "deletable": true,
    "editable": true
   },
   "outputs": [],
   "source": [
    "\"\"\"\n",
    "DON'T MODIFY ANYTHING IN THIS CELL\n",
    "\"\"\"\n",
    "import tensorflow as tf\n",
    "import numpy as np\n",
    "import helper\n",
    "import problem_unittests as tests\n",
    "\n",
    "_, vocab_to_int, int_to_vocab, token_dict = helper.load_preprocess()\n",
    "seq_length, load_dir = helper.load_params()"
   ]
  },
  {
   "cell_type": "markdown",
   "metadata": {
    "deletable": true,
    "editable": true
   },
   "source": [
    "## Implement Generate Functions\n",
    "### Get Tensors\n",
    "Get tensors from `loaded_graph` using the function [`get_tensor_by_name()`](https://www.tensorflow.org/api_docs/python/tf/Graph#get_tensor_by_name).  Get the tensors using the following names:\n",
    "- \"input:0\"\n",
    "- \"initial_state:0\"\n",
    "- \"final_state:0\"\n",
    "- \"probs:0\"\n",
    "\n",
    "Return the tensors in the following tuple `(InputTensor, InitialStateTensor, FinalStateTensor, ProbsTensor)` "
   ]
  },
  {
   "cell_type": "code",
   "execution_count": 398,
   "metadata": {
    "collapsed": false,
    "deletable": true,
    "editable": true
   },
   "outputs": [
    {
     "name": "stdout",
     "output_type": "stream",
     "text": [
      "Tensor(\"input:0\", dtype=int32)\n",
      "Tensor(\"initial_state:0\", dtype=int32)\n",
      "Tensor(\"final_state:0\", dtype=int32)\n",
      "Tests Passed\n"
     ]
    }
   ],
   "source": [
    "def get_tensors(loaded_graph):\n",
    "    \"\"\"\n",
    "    Get input, initial state, final state, and probabilities tensor from <loaded_graph>\n",
    "    :param loaded_graph: TensorFlow graph loaded from file\n",
    "    :return: Tuple (InputTensor, InitialStateTensor, FinalStateTensor, ProbsTensor)\n",
    "    \"\"\"\n",
    "    # TODO: Implement Function\n",
    "    InputTensor = loaded_graph.get_tensor_by_name(\"input:0\")\n",
    "    print(InputTensor)\n",
    "    InitialStateTensor = loaded_graph.get_tensor_by_name(\"initial_state:0\")\n",
    "    print(InitialStateTensor)\n",
    "    FinalStateTensor = loaded_graph.get_tensor_by_name(\"final_state:0\")\n",
    "    print(FinalStateTensor)\n",
    "    ProbsTensor = loaded_graph.get_tensor_by_name(\"probs:0\")\n",
    "    global previous\n",
    "    return InputTensor, InitialStateTensor, FinalStateTensor, ProbsTensor\n",
    "\n",
    "\n",
    "\"\"\"\n",
    "DON'T MODIFY ANYTHING IN THIS CELL THAT IS BELOW THIS LINE\n",
    "\"\"\"\n",
    "tests.test_get_tensors(get_tensors)"
   ]
  },
  {
   "cell_type": "markdown",
   "metadata": {
    "deletable": true,
    "editable": true
   },
   "source": [
    "### Choose Word\n",
    "Implement the `pick_word()` function to select the next word using `probabilities`."
   ]
  },
  {
   "cell_type": "code",
   "execution_count": 399,
   "metadata": {
    "collapsed": false,
    "deletable": true,
    "editable": true
   },
   "outputs": [
    {
     "name": "stdout",
     "output_type": "stream",
     "text": [
      "Tests Passed\n"
     ]
    }
   ],
   "source": [
    "def pick_word(probabilities, int_to_vocab):\n",
    "    \"\"\"\n",
    "    Pick the next word in the generated text\n",
    "    :param probabilities: Probabilites of the next word\n",
    "    :param int_to_vocab: Dictionary of word ids as the keys and words as the values\n",
    "    :return: String of the predicted word\n",
    "    \"\"\"\n",
    "    # TODO: Implement Function\n",
    "    \"\"\"\n",
    "    print(str(int_to_vocab[(np.argmax(probabilities))]))\n",
    "    if str(int_to_vocab[(np.argmax(probabilities))]) == previous:\n",
    "        probabilities = np.put(probabilities, (np.argmax(probabilities)), 0.0, mode='raise')\n",
    "        largest = np.argmax(probabilities)\n",
    "        previous = str(int_to_vocab[largest]        \n",
    "        else:\n",
    "            largest = np.argmax(probabilities)\n",
    "            previous = str(int_to_vocab[largest])\n",
    "    return str(int_to_vocab[largest])\n",
    "    ###Tried some experimental IF logic to avoid word repitition.\n",
    "    \"\"\"\n",
    "    \n",
    "    return str(int_to_vocab[(np.argmax(probabilities))])\n",
    "    \n",
    "\"\"\"\n",
    "DON'T MODIFY ANYTHING IN THIS CELL THAT IS BELOW THIS LINE\n",
    "\"\"\"\n",
    "tests.test_pick_word(pick_word)"
   ]
  },
  {
   "cell_type": "markdown",
   "metadata": {
    "deletable": true,
    "editable": true
   },
   "source": [
    "## Generate TV Script\n",
    "This will generate the TV script for you.  Set `gen_length` to the length of TV script you want to generate."
   ]
  },
  {
   "cell_type": "code",
   "execution_count": 400,
   "metadata": {
    "collapsed": false,
    "deletable": true,
    "editable": true,
    "scrolled": false
   },
   "outputs": [
    {
     "name": "stdout",
     "output_type": "stream",
     "text": [
      "INFO:tensorflow:Restoring parameters from ./save\n",
      "Tensor(\"input:0\", shape=(?, ?), dtype=int32)\n",
      "Tensor(\"initial_state:0\", shape=(2, 2, ?, 300), dtype=float32)\n",
      "Tensor(\"final_state:0\", shape=(2, 2, ?, 300), dtype=float32)\n",
      "barney_gumble:(shaking his head) what kind of pathetic drunk do you take me for?(gasp) somebody and it's true. so?\n",
      "moe_szyslak: ah, i it was unbelievable.\n",
      "\n",
      "\n",
      "barney_gumble: then to go...(frustrated) no, here you go.\n",
      "snake_jailbird: you don't see i'm gonna have a middle of the big.\n",
      "moe_szyslak:(to homer) uh-oh. i'm empty...(bitter) but i quite.\n",
      "kemi: eh, do are ya..\n",
      "homer_simpson: well... what do you do--\n",
      "homer_simpson:(excited gasp) get out of your wife. he's looking a date with her go child...(sobs)\n",
      "moe_szyslak:(pissed) oh, i admit. my wife was looking for her that happen needed in some bar.\n",
      "moe_szyslak: get this place a wallet.\n",
      "moe_szyslak:(defensive) look, that's the good.(explaining) good.\n",
      "\n",
      "\n",
      "barney_gumble: wow, but i find that, i love a man.\n",
      "moe_szyslak: ah\n"
     ]
    }
   ],
   "source": [
    "gen_length = 200\n",
    "# homer_simpson, moe_szyslak, or Barney_Gumble\n",
    "prime_word = 'barney_gumble' #oe_szyslak'\n",
    "\n",
    "\"\"\"\n",
    "DON'T MODIFY ANYTHING IN THIS CELL THAT IS BELOW THIS LINE\n",
    "\"\"\"\n",
    "loaded_graph = tf.Graph()\n",
    "with tf.Session(graph=loaded_graph) as sess:\n",
    "    # Load saved model\n",
    "    loader = tf.train.import_meta_graph(load_dir + '.meta')\n",
    "    loader.restore(sess, load_dir)\n",
    "\n",
    "    # Get Tensors from loaded model\n",
    "    input_text, initial_state, final_state, probs = get_tensors(loaded_graph)\n",
    "\n",
    "    # Sentences generation setup\n",
    "    gen_sentences = [prime_word + ':']\n",
    "    prev_state = sess.run(initial_state, {input_text: np.array([[1]])})\n",
    "\n",
    "    # Generate sentences\n",
    "    for n in range(gen_length):\n",
    "        # Dynamic Input\n",
    "        dyn_input = [[vocab_to_int[word] for word in gen_sentences[-seq_length:]]]\n",
    "        dyn_seq_length = len(dyn_input[0])\n",
    "\n",
    "        # Get Prediction\n",
    "        probabilities, prev_state = sess.run(\n",
    "            [probs, final_state],\n",
    "            {input_text: dyn_input, initial_state: prev_state})\n",
    "        \n",
    "        pred_word = pick_word(probabilities[dyn_seq_length-1], int_to_vocab)\n",
    "\n",
    "        gen_sentences.append(pred_word)\n",
    "    \n",
    "    # Remove tokens\n",
    "    tv_script = ' '.join(gen_sentences)\n",
    "    for key, token in token_dict.items():\n",
    "        ending = ' ' if key in ['\\n', '(', '\"'] else ''\n",
    "        tv_script = tv_script.replace(' ' + token.lower(), key)\n",
    "    tv_script = tv_script.replace('\\n ', '\\n')\n",
    "    tv_script = tv_script.replace('( ', '(')\n",
    "        \n",
    "    print(tv_script)"
   ]
  },
  {
   "cell_type": "markdown",
   "metadata": {
    "deletable": true,
    "editable": true
   },
   "source": [
    "# The TV Script is Nonsensical\n",
    "It's ok if the TV script doesn't make any sense.  We trained on less than a megabyte of text.  In order to get good results, you'll have to use a smaller vocabulary or get more data.  Luckly there's more data!  As we mentioned in the begging of this project, this is a subset of [another dataset](https://www.kaggle.com/wcukierski/the-simpsons-by-the-data).  We didn't have you train on all the data, because that would take too long.  However, you are free to train your neural network on all the data.  After you complete the project, of course.\n",
    "# Submitting This Project\n",
    "When submitting this project, make sure to run all the cells before saving the notebook. Save the notebook file as \"dlnd_tv_script_generation.ipynb\" and save it as a HTML file under \"File\" -> \"Download as\". Include the \"helper.py\" and \"problem_unittests.py\" files in your submission."
   ]
  }
 ],
 "metadata": {
  "kernelspec": {
   "display_name": "Python 3",
   "language": "python",
   "name": "python3"
  },
  "language_info": {
   "codemirror_mode": {
    "name": "ipython",
    "version": 3
   },
   "file_extension": ".py",
   "mimetype": "text/x-python",
   "name": "python",
   "nbconvert_exporter": "python",
   "pygments_lexer": "ipython3",
   "version": "3.6.0"
  }
 },
 "nbformat": 4,
 "nbformat_minor": 0
}
